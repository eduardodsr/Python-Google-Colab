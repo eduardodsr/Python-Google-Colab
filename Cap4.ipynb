{
  "nbformat": 4,
  "nbformat_minor": 0,
  "metadata": {
    "colab": {
      "name": "Cap4.ipynb",
      "provenance": [],
      "authorship_tag": "ABX9TyPgUyXBVPx6/siufJGanMQn",
      "include_colab_link": true
    },
    "kernelspec": {
      "name": "python3",
      "display_name": "Python 3"
    }
  },
  "cells": [
    {
      "cell_type": "markdown",
      "metadata": {
        "id": "view-in-github",
        "colab_type": "text"
      },
      "source": [
        "<a href=\"https://colab.research.google.com/github/eduardodsr/Python-Google-Colab/blob/master/Cap4.ipynb\" target=\"_parent\"><img src=\"https://colab.research.google.com/assets/colab-badge.svg\" alt=\"Open In Colab\"/></a>"
      ]
    },
    {
      "cell_type": "markdown",
      "metadata": {
        "id": "PYA-ddclCxkJ"
      },
      "source": [
        "*CAP4 - Funções do Python*"
      ]
    },
    {
      "cell_type": "code",
      "metadata": {
        "id": "4uAprkmbCuLP",
        "outputId": "66c4d015-d89d-486d-fef0-dbb2afc4a9e5",
        "colab": {
          "base_uri": "https://localhost:8080/",
          "height": 51
        }
      },
      "source": [
        "# CAP4 - Exemplo de Funções do Python\n",
        "\n",
        "def soma(num1, num2):\n",
        "  return num1 + num2\n",
        "\n",
        "print(soma(1, 2))\n",
        "print(soma(3, 2))"
      ],
      "execution_count": 6,
      "outputs": [
        {
          "output_type": "stream",
          "text": [
            "3\n",
            "5\n"
          ],
          "name": "stdout"
        }
      ]
    },
    {
      "cell_type": "code",
      "metadata": {
        "id": "ipsw6a-UDbJa",
        "outputId": "909a5c8e-1841-4c91-c5af-91449e0e1cdb",
        "colab": {
          "base_uri": "https://localhost:8080/",
          "height": 51
        }
      },
      "source": [
        "def buscar_nome(nome):\n",
        "  return input('Digite o seu {}: '.format(nome))\n",
        "nome = buscar_nome('NOME')\n",
        "print(nome)"
      ],
      "execution_count": 14,
      "outputs": [
        {
          "output_type": "stream",
          "text": [
            "Digite o seu NOME: Eduardo\n",
            "Eduardo\n"
          ],
          "name": "stdout"
        }
      ]
    },
    {
      "cell_type": "code",
      "metadata": {
        "id": "wY5Uba0YSCdH"
      },
      "source": [
        ""
      ],
      "execution_count": null,
      "outputs": []
    }
  ]
}