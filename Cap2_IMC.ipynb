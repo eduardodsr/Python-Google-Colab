{
  "nbformat": 4,
  "nbformat_minor": 0,
  "metadata": {
    "colab": {
      "name": "Cap2_IMC.ipynb",
      "provenance": [],
      "collapsed_sections": [],
      "authorship_tag": "ABX9TyOsU77ErWMk/nS7VrssfTUM",
      "include_colab_link": true
    },
    "kernelspec": {
      "name": "python3",
      "display_name": "Python 3"
    }
  },
  "cells": [
    {
      "cell_type": "markdown",
      "metadata": {
        "id": "view-in-github",
        "colab_type": "text"
      },
      "source": [
        "<a href=\"https://colab.research.google.com/github/eduardodsr/Python-Google-Colab/blob/master/Cap2_IMC.ipynb\" target=\"_parent\"><img src=\"https://colab.research.google.com/assets/colab-badge.svg\" alt=\"Open In Colab\"/></a>"
      ]
    },
    {
      "cell_type": "markdown",
      "metadata": {
        "id": "NUhWnWjMkhrx"
      },
      "source": [
        "# Capítulo 2 - Programa que calcular o IMC\n",
        "\n",
        "✅ [aula 4] Cálculo do IMC\n"
      ]
    },
    {
      "cell_type": "markdown",
      "metadata": {
        "id": "7zMutbr9lMPR"
      },
      "source": [
        "\n",
        "### Tarefa do curso de Python (Bootcamp IGTI)\n",
        "### Programa desenvolvido por Eduardo da Silva Rodrigues"
      ]
    },
    {
      "cell_type": "markdown",
      "metadata": {
        "id": "AAKqzp2xm4TL"
      },
      "source": [
        "### Programa para calcular o IMC (Python)"
      ]
    },
    {
      "cell_type": "code",
      "metadata": {
        "id": "1DBxWf_lm9M7",
        "outputId": "6e041503-3c3c-4e63-aeb2-9f982de5b0b6",
        "colab": {
          "base_uri": "https://localhost:8080/",
          "height": 136
        }
      },
      "source": [
        "# Programa para calcular o IMC\n",
        "# IMC - Índice de Massa Corporal\n",
        "# Fórmula: peso/(altura**2)\n",
        "\n",
        "# input() retorna por padrão sempre uma str (string)\n",
        "\n",
        "print('# Programa para calcular o IMC #')\n",
        "nome = input('Qual é o seu nome: ')\n",
        "\n",
        "peso = float(input('Digite o seu peso? (Kg) (ex.: (69.2): '))\n",
        "altura = float(input('Qual a sua altura? (m) (ex.: 1.70): '))\n",
        "imc = peso / (altura ** 2)\n",
        "\n",
        "# print('O seu peso é {}.'.format(peso))\n",
        "# print('A sua altura é {}.'.format(altura))\n",
        "\n",
        "# print('O seu IMC é de {:.2f}.'.format(imc))    # valor arrendondamento\n",
        "print('{} seu IMC é de {}.'.format(nome, round(imc)))  # valor arrendondamento \n",
        "\n",
        "if imc < 18.5:\n",
        "  print('Cuidado, você está ABAIXO DO PESO!')\n",
        "elif 18.5 <= imc < 25:\n",
        "  print('Parabéns, você está PESO NORMAL!')\n",
        "elif 25 <= imc < 30:\n",
        "  print('Atenção, você está SOBREPESO!')\n",
        "elif 30 <= imc < 40:\n",
        "  print('Atenção, você estáo OBESIDADE!')\n",
        "else:\n",
        "  print('Cuidado, você está OBESIDADE GRAVE!')\n",
        "\n",
        "print('# Fim #')"
      ],
      "execution_count": null,
      "outputs": [
        {
          "output_type": "stream",
          "text": [
            "# Programa para calcular o IMC #\n",
            "Qual é o seu nome: Eduardo\n",
            "Digite o seu peso? (Kg) (ex.: (69.2): 81.9\n",
            "Qual a sua altura? (m) (ex.: 1.70): 1.81\n",
            "Eduardo seu IMC é de 25.\n",
            "Parabéns, você está PESO NORMAL!\n",
            "# Fim #\n"
          ],
          "name": "stdout"
        }
      ]
    },
    {
      "cell_type": "markdown",
      "metadata": {
        "id": "4H50mWpAqL23"
      },
      "source": [
        ""
      ]
    }
  ]
}