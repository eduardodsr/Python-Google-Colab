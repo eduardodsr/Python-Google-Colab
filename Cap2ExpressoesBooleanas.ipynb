{
  "nbformat": 4,
  "nbformat_minor": 0,
  "metadata": {
    "colab": {
      "name": "Cap2ExpressoesBooleanas.ipynb",
      "provenance": [],
      "collapsed_sections": [],
      "authorship_tag": "ABX9TyNCTkSmkwzH/ogr0o5OXEMV",
      "include_colab_link": true
    },
    "kernelspec": {
      "name": "python3",
      "display_name": "Python 3"
    }
  },
  "cells": [
    {
      "cell_type": "markdown",
      "metadata": {
        "id": "view-in-github",
        "colab_type": "text"
      },
      "source": [
        "<a href=\"https://colab.research.google.com/github/eduardodsr/Python-Google-Colab/blob/master/Cap2ExpressoesBooleanas.ipynb\" target=\"_parent\"><img src=\"https://colab.research.google.com/assets/colab-badge.svg\" alt=\"Open In Colab\"/></a>"
      ]
    },
    {
      "cell_type": "markdown",
      "metadata": {
        "id": "-6OibP3X3NgK"
      },
      "source": [
        "# Capítulo 2 (Expressões Booleanas)\n",
        "\n",
        "✅ [aula 1.1] Expressões booleanas teoria\n",
        "\n",
        "✅ [aula 2.1] Expressões Booleana\n",
        "\n",
        "✅ [aula 2.2] if e elif\n",
        "\n",
        "✅ [aula 2.3] exemplos"
      ]
    },
    {
      "cell_type": "code",
      "metadata": {
        "id": "IXtUTQRp3XdA",
        "outputId": "c75f8617-720d-402b-938c-823a7701f5ef",
        "colab": {
          "base_uri": "https://localhost:8080/",
          "height": 51
        }
      },
      "source": [
        "# Expressões Booleanas\n",
        "# True or False\n",
        "nome = input('Digite o seu nome: ')\n",
        "print(len(nome))"
      ],
      "execution_count": 1,
      "outputs": [
        {
          "output_type": "stream",
          "text": [
            "Digite o seu nome: Joaquim José da Silva Xavier\n",
            "28\n"
          ],
          "name": "stdout"
        }
      ]
    },
    {
      "cell_type": "markdown",
      "metadata": {
        "id": "6Ieep6pG5XTx"
      },
      "source": [
        "# True or False (Boolean)\n",
        "# Example if and else"
      ]
    },
    {
      "cell_type": "code",
      "metadata": {
        "id": "jZdZL8Hu4ERR",
        "outputId": "7d38c943-f35f-421f-c1b1-d63559cb47d7",
        "colab": {
          "base_uri": "https://localhost:8080/",
          "height": 68
        }
      },
      "source": [
        "\n",
        "nome = input('Digite o seu nome: ')\n",
        "print('O seu nome \"{}\" tem o tamanho de \"{}\" caracteres.'.format(nome, len(nome)))\n",
        "if len(nome)>20:\n",
        "  print('Seu nome tem mais de 20 caracteres!')\n",
        "else:\n",
        "  print('Seu nome tem menos de 20 cacteres!')"
      ],
      "execution_count": 5,
      "outputs": [
        {
          "output_type": "stream",
          "text": [
            "Digite o seu nome: Joaquim José da Silva Xavier\n",
            "O seu nome \"Joaquim José da Silva Xavier\" tem o tamanho de \"28\" caracteres.\n",
            "Seu nome tem mais de 20 caracteres!\n"
          ],
          "name": "stdout"
        }
      ]
    },
    {
      "cell_type": "code",
      "metadata": {
        "id": "XEdot49W3SAB",
        "outputId": "0d3a17d7-fe91-4e9c-c67e-33f73e28e19b",
        "colab": {
          "base_uri": "https://localhost:8080/",
          "height": 68
        }
      },
      "source": [
        "# Comando - IF e ELSE\n",
        "usuario = input('Digite o seu nome: ')\n",
        "senha = input('Digite a sua senha: ')\n",
        "if (usuario == 'Joaquim') and (senha == '123456'):\n",
        "  print('Parabéns, você digitou o usuário e senha correta.')\n",
        "else:\n",
        "  print('Você digitou o usuário ou senha incorreta!')"
      ],
      "execution_count": 11,
      "outputs": [
        {
          "output_type": "stream",
          "text": [
            "Digite o seu nome: Joaquina\n",
            "Digite a sua senha: 123456\n",
            "Você digitou o usuário ou senha incorreta!\n"
          ],
          "name": "stdout"
        }
      ]
    },
    {
      "cell_type": "markdown",
      "metadata": {
        "id": "4bD4orh5BBEv"
      },
      "source": [
        "# Operadores Lógicos\n",
        "\n",
        "and\n",
        "\n",
        "or\n",
        "\n",
        "not"
      ]
    },
    {
      "cell_type": "code",
      "metadata": {
        "id": "bpZJH6JT7QWO",
        "outputId": "0c183584-6af5-46f1-89cb-dfb7218fc00a",
        "colab": {
          "base_uri": "https://localhost:8080/",
          "height": 68
        }
      },
      "source": [
        "\n",
        "# Comando - IF, ELIF e ELSE\n",
        "# Algoritmo de teste para verificar o tipo da carteira de motorista\n",
        "# Digite 'A' - Tem carteira de moto (A)\n",
        "# Digite 'B' - Tem carteira de carro (B)\n",
        "# Digite 'AB' - Tem carteira de moto e carro (AB)\n",
        "\n",
        "print('# Preencha os dados abaixo da sua carteira de motorista #')\n",
        "cnh = input('Digite A p/ moto, B p/ carro ou AB p/ moto e carro: ')\n",
        "resultado = cnh.upper()\n",
        "if (resultado == 'AB'):\n",
        "  print('A sua Carteira de Motorista é do Tipo AB.')\n",
        "elif (resultado == 'A'):\n",
        "  print('A sua Carteira de Motorista é do Tipo A.')\n",
        "elif (resultado == 'B'):\n",
        "  print('A sua Carteira de Motorista é do Tipo B')\n",
        "else:\n",
        "  print('Você digitou um valor inválido!')"
      ],
      "execution_count": 24,
      "outputs": [
        {
          "output_type": "stream",
          "text": [
            "# Preencha os dados abaixo da sua carteira de motorista #\n",
            "Digite A p/ moto, B p/ carro ou AB p/ moto e carro: AB\n",
            "A sua Carteira de Motorista é do Tipo AB\n"
          ],
          "name": "stdout"
        }
      ]
    },
    {
      "cell_type": "code",
      "metadata": {
        "id": "D5CG-vNNBRMe",
        "outputId": "12bbfbfc-82b9-4488-ecfa-fc5bb1bc413e",
        "colab": {
          "base_uri": "https://localhost:8080/",
          "height": 34
        }
      },
      "source": [
        "# TESTES LÓGICOS COM BOOLEAN - TRUE OR FALSE\n",
        "\n",
        "# Algoritmo verificar alguns dados, com as seguintes condições:\n",
        "# tem experiência emprego?\n",
        "# tem carteira de habilitação?\n",
        "# tem vaga ou não na empresa?\n",
        "# Precisa possuir os 3 requisitos necessários para conseguir emprego.\n",
        "\n",
        "experiencia = True\n",
        "habilitacao = False\n",
        "vaga = True\n",
        "if experiencia and habilitacao and vaga:\n",
        "  print('Parabéns. Você possui todos os 3 requisitos necessários.')\n",
        "else:\n",
        "  print('Desculpe. Você não possui os 3 requisitos ncessários.')\n",
        "\n"
      ],
      "execution_count": 27,
      "outputs": [
        {
          "output_type": "stream",
          "text": [
            "Desculpe. Você não possui os 3 requisitos ncessários.\n"
          ],
          "name": "stdout"
        }
      ]
    },
    {
      "cell_type": "code",
      "metadata": {
        "id": "Gcbyz-YvGBns",
        "outputId": "4ed914b8-83e2-428f-8804-a09e5f77ccbd",
        "colab": {
          "base_uri": "https://localhost:8080/",
          "height": 68
        }
      },
      "source": [
        "# upper() - retornar a String em caixa alta.\n",
        "\n",
        "experiencia = input('Você tem experiencia (S/N): ')\n",
        "habilitacao = input('Você tem habilitação (S/N): ')\n",
        "if experiencia.upper() == 'S' and habilitacao.upper() == 'S':\n",
        "  print('Você pode trabalhar na nossa empresa.')\n",
        "else:\n",
        "  print('Desculpe. Não temos vaga para você.')\n"
      ],
      "execution_count": 39,
      "outputs": [
        {
          "output_type": "stream",
          "text": [
            "Você tem experiencia (S/N): n\n",
            "Você tem habilitação (S/N): s\n",
            "Desculpe. Não temos vaga para você.\n"
          ],
          "name": "stdout"
        }
      ]
    },
    {
      "cell_type": "code",
      "metadata": {
        "id": "x7VwLoJXIMj9",
        "outputId": "90535634-cd2b-4b61-cf45-65d622b05e8b",
        "colab": {
          "base_uri": "https://localhost:8080/",
          "height": 68
        }
      },
      "source": [
        "# Exemplo de Programa que verifica o primeiro caractere digitado e retorna o caractere digitado em caixa alta.\n",
        "\n",
        "experiencia = input('Você tem experiencia (S/N): ')\n",
        "habilitacao = input('Você tem habilitação (S/N): ')\n",
        "\n",
        "experiencia_index = experiencia[0] # retorna o primeiro caractere digitado\n",
        "habilitacao_index = habilitacao[0] # retorna o primeiro caractere digitado\n",
        "\n",
        "# upper() - retorna o caractere digitado em caixa alta\n",
        "\n",
        "if experiencia_index.upper() == 'S' and habilitacao_index.upper() == 'S':\n",
        "  print('Você pode trabalhar na nossa empresa.')\n",
        "else:\n",
        "  print('Desculpe. Não temos vaga para você.')"
      ],
      "execution_count": 45,
      "outputs": [
        {
          "output_type": "stream",
          "text": [
            "Você tem experiencia (S/N): Sim\n",
            "Você tem habilitação (S/N): sim\n",
            "Você pode trabalhar na nossa empresa.\n"
          ],
          "name": "stdout"
        }
      ]
    }
  ]
}