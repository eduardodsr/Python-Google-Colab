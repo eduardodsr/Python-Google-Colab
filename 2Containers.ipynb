{
  "nbformat": 4,
  "nbformat_minor": 0,
  "metadata": {
    "colab": {
      "name": "2Containers.ipynb",
      "provenance": [],
      "collapsed_sections": [],
      "authorship_tag": "ABX9TyOZWU53vAJHF3IQLw7nhsO7",
      "include_colab_link": true
    },
    "kernelspec": {
      "name": "python3",
      "display_name": "Python 3"
    }
  },
  "cells": [
    {
      "cell_type": "markdown",
      "metadata": {
        "id": "view-in-github",
        "colab_type": "text"
      },
      "source": [
        "<a href=\"https://colab.research.google.com/github/eduardodsr/Python-Google-Colab/blob/master/2Containers.ipynb\" target=\"_parent\"><img src=\"https://colab.research.google.com/assets/colab-badge.svg\" alt=\"Open In Colab\"/></a>"
      ]
    },
    {
      "cell_type": "markdown",
      "metadata": {
        "id": "5wskMLv7aI-0"
      },
      "source": [
        "**1.3. Containers e Iteração**\n",
        "\n",
        "**Descrição:**\n",
        "Nesse capítulo você vai conferir diversos tipos de containers em Python. Os containers são estruturas de dados que contém referências para outros objetos. Já a iteração é a maneira pela qual você navega nos elementos de um container constituindo então o outro principal assunto a ser abordado.\n",
        "\n",
        "**1.3.1. String, Dir e Help**\n",
        "\n",
        "**1.3.2. Lista e Range**\n",
        "\n",
        "**1.3.3. Tupla e Id**\n",
        "\n",
        "**1.3.4. Acesso, Tamanho e Fatiamento**\n",
        "\n",
        "**1.3.5. While**\n",
        "\n",
        "**1.3.6. For**\n",
        "\n",
        "**1.3.7. Dicionários/Mapas**\n",
        "\n",
        "**1.3.8. Iteração em Dicionário**"
      ]
    },
    {
      "cell_type": "markdown",
      "metadata": {
        "id": "Z5d44_xjaSGA"
      },
      "source": [
        "**Containers** - contém uma sequência de Objetos.\n",
        "Em Python tudo é um objeto."
      ]
    },
    {
      "cell_type": "markdown",
      "metadata": {
        "id": "hVDVlbaDgW9Y"
      },
      "source": [
        "**String, Dir e Help**\n",
        "\n",
        "Nesse tópico será apresentado o container cadeia de caracteres, do inglês string. Ele é utilizado para representar texto dentro do código. Além disso você vai aprender as funções **dir** e **help** para poder investigar os elementos que constituem qualquer objeto diretamente no console."
      ]
    },
    {
      "cell_type": "code",
      "metadata": {
        "id": "pbqypneqaatV",
        "outputId": "129a5488-1e41-4263-e9fd-c3aefdd839dd",
        "colab": {
          "base_uri": "https://localhost:8080/",
          "height": 51
        }
      },
      "source": [
        "# 1.3.1. String, Dir e Help\n",
        "\n",
        "# String\n",
        "nome ='Eduardo'\n",
        "print(nome)\n",
        "type(nome)"
      ],
      "execution_count": 3,
      "outputs": [
        {
          "output_type": "stream",
          "text": [
            "Eduardo\n"
          ],
          "name": "stdout"
        },
        {
          "output_type": "execute_result",
          "data": {
            "text/plain": [
              "str"
            ]
          },
          "metadata": {
            "tags": []
          },
          "execution_count": 3
        }
      ]
    },
    {
      "cell_type": "code",
      "metadata": {
        "id": "hem2kY8YarMn",
        "outputId": "d75e7acb-98d7-42c7-fcb9-f069dff9a258",
        "colab": {
          "base_uri": "https://localhost:8080/",
          "height": 34
        }
      },
      "source": [
        "type('')"
      ],
      "execution_count": 1,
      "outputs": [
        {
          "output_type": "execute_result",
          "data": {
            "text/plain": [
              "str"
            ]
          },
          "metadata": {
            "tags": []
          },
          "execution_count": 1
        }
      ]
    },
    {
      "cell_type": "code",
      "metadata": {
        "id": "zt69axX5a8CO",
        "outputId": "c0c66c1b-a0c6-4c7d-9691-fe7118fd665b",
        "colab": {
          "base_uri": "https://localhost:8080/",
          "height": 68
        }
      },
      "source": [
        "nome1 = \"Joana D'Arc\"\n",
        "nome2 = 'Joana D\\'Arc'\n",
        "nome3 = '''Joana D'Arc'''\n",
        "print(nome1)\n",
        "print(nome2)\n",
        "print(nome3)"
      ],
      "execution_count": 6,
      "outputs": [
        {
          "output_type": "stream",
          "text": [
            "Joana D'Arc\n",
            "Joana D'Arc\n",
            "Joana D'Arc\n"
          ],
          "name": "stdout"
        }
      ]
    },
    {
      "cell_type": "code",
      "metadata": {
        "id": "F0s7bA-Yb7pr",
        "outputId": "b36e057c-0add-4c3c-ffb4-15c1b7a6ba0d",
        "colab": {
          "base_uri": "https://localhost:8080/",
          "height": 35
        }
      },
      "source": [
        "# Pular linha (salto ou quebra de linha) podemos utilizar \\n\n",
        "'Python\\nPro'"
      ],
      "execution_count": 9,
      "outputs": [
        {
          "output_type": "execute_result",
          "data": {
            "application/vnd.google.colaboratory.intrinsic+json": {
              "type": "string"
            },
            "text/plain": [
              "'Python\\nPro'"
            ]
          },
          "metadata": {
            "tags": []
          },
          "execution_count": 9
        }
      ]
    },
    {
      "cell_type": "code",
      "metadata": {
        "id": "Vdaa_LWZcJww",
        "outputId": "70b37da1-fe76-46e2-eef1-bd92fce66dff",
        "colab": {
          "base_uri": "https://localhost:8080/",
          "height": 51
        }
      },
      "source": [
        "print(_)"
      ],
      "execution_count": 10,
      "outputs": [
        {
          "output_type": "stream",
          "text": [
            "Python\n",
            "Pro\n"
          ],
          "name": "stdout"
        }
      ]
    },
    {
      "cell_type": "code",
      "metadata": {
        "id": "bY0exumGcROp",
        "outputId": "d6b2b176-e91b-464b-a031-d7a242cdfc39",
        "colab": {
          "base_uri": "https://localhost:8080/",
          "height": 51
        }
      },
      "source": [
        "nome = 'Eduardo\\nRodrigues'\n",
        "print(nome)"
      ],
      "execution_count": 11,
      "outputs": [
        {
          "output_type": "stream",
          "text": [
            "Eduardo\n",
            "Rodrigues\n"
          ],
          "name": "stdout"
        }
      ]
    },
    {
      "cell_type": "code",
      "metadata": {
        "id": "fyhHL_oZckJF",
        "outputId": "cf425b43-bb19-4478-b269-9110678e04d1",
        "colab": {
          "base_uri": "https://localhost:8080/",
          "height": 35
        }
      },
      "source": [
        "'''Eduardo\n",
        "Rodrigues'''\n"
      ],
      "execution_count": 13,
      "outputs": [
        {
          "output_type": "execute_result",
          "data": {
            "application/vnd.google.colaboratory.intrinsic+json": {
              "type": "string"
            },
            "text/plain": [
              "'Eduardo\\nRodrigues'"
            ]
          },
          "metadata": {
            "tags": []
          },
          "execution_count": 13
        }
      ]
    },
    {
      "cell_type": "code",
      "metadata": {
        "id": "vkiiqcAGc3jy",
        "outputId": "2b698f27-5750-4624-8aa9-8f1071499187",
        "colab": {
          "base_uri": "https://localhost:8080/",
          "height": 51
        }
      },
      "source": [
        "print(_)"
      ],
      "execution_count": 14,
      "outputs": [
        {
          "output_type": "stream",
          "text": [
            "Eduardo\n",
            "Rodrigues\n"
          ],
          "name": "stdout"
        }
      ]
    },
    {
      "cell_type": "code",
      "metadata": {
        "id": "8HmRVGoUdB5H",
        "outputId": "46caa191-4dea-451d-e162-1763431fde13",
        "colab": {
          "base_uri": "https://localhost:8080/",
          "height": 35
        }
      },
      "source": [
        "'''Eduardo Rodrigues'''"
      ],
      "execution_count": 15,
      "outputs": [
        {
          "output_type": "execute_result",
          "data": {
            "application/vnd.google.colaboratory.intrinsic+json": {
              "type": "string"
            },
            "text/plain": [
              "'Eduardo Rodrigues'"
            ]
          },
          "metadata": {
            "tags": []
          },
          "execution_count": 15
        }
      ]
    },
    {
      "cell_type": "code",
      "metadata": {
        "id": "kGiaOb_odGgr",
        "outputId": "3ec13c26-35de-49d7-d820-25ace0254d71",
        "colab": {
          "base_uri": "https://localhost:8080/",
          "height": 35
        }
      },
      "source": [
        "'Eduardo '+'Rodrigues'"
      ],
      "execution_count": 17,
      "outputs": [
        {
          "output_type": "execute_result",
          "data": {
            "application/vnd.google.colaboratory.intrinsic+json": {
              "type": "string"
            },
            "text/plain": [
              "'Eduardo Rodrigues'"
            ]
          },
          "metadata": {
            "tags": []
          },
          "execution_count": 17
        }
      ]
    },
    {
      "cell_type": "code",
      "metadata": {
        "id": "BvE3kZCOdUhN",
        "outputId": "725ef814-d2b5-4a07-c5bd-4a686d8c8a5c",
        "colab": {
          "base_uri": "https://localhost:8080/",
          "height": 35
        }
      },
      "source": [
        "'tudo bem! '*3"
      ],
      "execution_count": 22,
      "outputs": [
        {
          "output_type": "execute_result",
          "data": {
            "application/vnd.google.colaboratory.intrinsic+json": {
              "type": "string"
            },
            "text/plain": [
              "'tudo bem! tudo bem! tudo bem! '"
            ]
          },
          "metadata": {
            "tags": []
          },
          "execution_count": 22
        }
      ]
    },
    {
      "cell_type": "code",
      "metadata": {
        "id": "-FV1Trizdq88",
        "outputId": "8b1afd29-2f30-4c70-8156-e2d3a48a5646",
        "colab": {
          "base_uri": "https://localhost:8080/",
          "height": 35
        }
      },
      "source": [
        "'oi ' *3"
      ],
      "execution_count": 23,
      "outputs": [
        {
          "output_type": "execute_result",
          "data": {
            "application/vnd.google.colaboratory.intrinsic+json": {
              "type": "string"
            },
            "text/plain": [
              "'oi oi oi '"
            ]
          },
          "metadata": {
            "tags": []
          },
          "execution_count": 23
        }
      ]
    },
    {
      "cell_type": "code",
      "metadata": {
        "id": "U1rVBNwzd21W",
        "outputId": "8d8ee930-bea8-4818-a23f-956097cc07a2",
        "colab": {
          "base_uri": "https://localhost:8080/",
          "height": 1000
        }
      },
      "source": [
        "# dir([object]) -> list of strings\n",
        "# dir - ao passar um objeto, ele apresenta uma lista de strings, atributos e métodos\n",
        "dir('')"
      ],
      "execution_count": 26,
      "outputs": [
        {
          "output_type": "execute_result",
          "data": {
            "text/plain": [
              "['__add__',\n",
              " '__class__',\n",
              " '__contains__',\n",
              " '__delattr__',\n",
              " '__dir__',\n",
              " '__doc__',\n",
              " '__eq__',\n",
              " '__format__',\n",
              " '__ge__',\n",
              " '__getattribute__',\n",
              " '__getitem__',\n",
              " '__getnewargs__',\n",
              " '__gt__',\n",
              " '__hash__',\n",
              " '__init__',\n",
              " '__init_subclass__',\n",
              " '__iter__',\n",
              " '__le__',\n",
              " '__len__',\n",
              " '__lt__',\n",
              " '__mod__',\n",
              " '__mul__',\n",
              " '__ne__',\n",
              " '__new__',\n",
              " '__reduce__',\n",
              " '__reduce_ex__',\n",
              " '__repr__',\n",
              " '__rmod__',\n",
              " '__rmul__',\n",
              " '__setattr__',\n",
              " '__sizeof__',\n",
              " '__str__',\n",
              " '__subclasshook__',\n",
              " 'capitalize',\n",
              " 'casefold',\n",
              " 'center',\n",
              " 'count',\n",
              " 'encode',\n",
              " 'endswith',\n",
              " 'expandtabs',\n",
              " 'find',\n",
              " 'format',\n",
              " 'format_map',\n",
              " 'index',\n",
              " 'isalnum',\n",
              " 'isalpha',\n",
              " 'isdecimal',\n",
              " 'isdigit',\n",
              " 'isidentifier',\n",
              " 'islower',\n",
              " 'isnumeric',\n",
              " 'isprintable',\n",
              " 'isspace',\n",
              " 'istitle',\n",
              " 'isupper',\n",
              " 'join',\n",
              " 'ljust',\n",
              " 'lower',\n",
              " 'lstrip',\n",
              " 'maketrans',\n",
              " 'partition',\n",
              " 'replace',\n",
              " 'rfind',\n",
              " 'rindex',\n",
              " 'rjust',\n",
              " 'rpartition',\n",
              " 'rsplit',\n",
              " 'rstrip',\n",
              " 'split',\n",
              " 'splitlines',\n",
              " 'startswith',\n",
              " 'strip',\n",
              " 'swapcase',\n",
              " 'title',\n",
              " 'translate',\n",
              " 'upper',\n",
              " 'zfill']"
            ]
          },
          "metadata": {
            "tags": []
          },
          "execution_count": 26
        }
      ]
    },
    {
      "cell_type": "code",
      "metadata": {
        "id": "60uNbTlvfAzg",
        "outputId": "4383d167-3660-41dd-cac0-26af495177fe",
        "colab": {
          "base_uri": "https://localhost:8080/",
          "height": 136
        }
      },
      "source": [
        "help('Eduardo'.lower)"
      ],
      "execution_count": 27,
      "outputs": [
        {
          "output_type": "stream",
          "text": [
            "Help on built-in function lower:\n",
            "\n",
            "lower(...) method of builtins.str instance\n",
            "    S.lower() -> str\n",
            "    \n",
            "    Return a copy of the string S converted to lowercase.\n",
            "\n"
          ],
          "name": "stdout"
        }
      ]
    },
    {
      "cell_type": "code",
      "metadata": {
        "id": "arhB3-BVfOOe",
        "outputId": "2ed7d7b9-c8b1-4099-c7ad-5d48543a9e21",
        "colab": {
          "base_uri": "https://localhost:8080/",
          "height": 35
        }
      },
      "source": [
        "# lower(...) method return a copy of the string S converted to lowercase.\n",
        "'EDUARDO RODRIGUES'.lower()"
      ],
      "execution_count": 28,
      "outputs": [
        {
          "output_type": "execute_result",
          "data": {
            "application/vnd.google.colaboratory.intrinsic+json": {
              "type": "string"
            },
            "text/plain": [
              "'eduardo rodrigues'"
            ]
          },
          "metadata": {
            "tags": []
          },
          "execution_count": 28
        }
      ]
    },
    {
      "cell_type": "code",
      "metadata": {
        "id": "xD9OsvaTfwi8",
        "outputId": "dfa5e1ad-6f99-495b-86c7-b2dc8b34fd6c",
        "colab": {
          "base_uri": "https://localhost:8080/",
          "height": 136
        }
      },
      "source": [
        "help('Eduardo Rodrigues'.upper)"
      ],
      "execution_count": 30,
      "outputs": [
        {
          "output_type": "stream",
          "text": [
            "Help on built-in function upper:\n",
            "\n",
            "upper(...) method of builtins.str instance\n",
            "    S.upper() -> str\n",
            "    \n",
            "    Return a copy of S converted to uppercase.\n",
            "\n"
          ],
          "name": "stdout"
        }
      ]
    },
    {
      "cell_type": "code",
      "metadata": {
        "id": "TBgd29z4flNM",
        "outputId": "189cf2fc-4a6e-4416-acf0-03a30290b84f",
        "colab": {
          "base_uri": "https://localhost:8080/",
          "height": 35
        }
      },
      "source": [
        "# upper(...) method. Return a copy of S converted to uppercase.\n",
        "'Eduardo Rodrigues'.upper()"
      ],
      "execution_count": 31,
      "outputs": [
        {
          "output_type": "execute_result",
          "data": {
            "application/vnd.google.colaboratory.intrinsic+json": {
              "type": "string"
            },
            "text/plain": [
              "'EDUARDO RODRIGUES'"
            ]
          },
          "metadata": {
            "tags": []
          },
          "execution_count": 31
        }
      ]
    },
    {
      "cell_type": "markdown",
      "metadata": {
        "id": "zOawGW1LgoYb"
      },
      "source": [
        "**1.3.2. Lista e Range**\n",
        "\n",
        "Nesse tópico será abordado o container Lista. Essa estrutura é utilizada em larga escala na esmagadora maioria dos programas escritos em Python, por isso é importantíssimo conhecê-la em detalhes. Além disso será visto como utilizar a função range para gerar listas com progressões aritméticas."
      ]
    },
    {
      "cell_type": "code",
      "metadata": {
        "id": "S-oW4_7ygtX3",
        "outputId": "09338709-ecef-4ab8-dbcc-00e3752844c0",
        "colab": {
          "base_uri": "https://localhost:8080/",
          "height": 51
        }
      },
      "source": [
        "# container\n",
        "# Lista - para criar uma lista vamos utilizar os [colchetes]\n",
        "lista = [1,2,3]\n",
        "print(lista)\n",
        "type(lista)"
      ],
      "execution_count": 32,
      "outputs": [
        {
          "output_type": "stream",
          "text": [
            "[1, 2, 3]\n"
          ],
          "name": "stdout"
        },
        {
          "output_type": "execute_result",
          "data": {
            "text/plain": [
              "list"
            ]
          },
          "metadata": {
            "tags": []
          },
          "execution_count": 32
        }
      ]
    },
    {
      "cell_type": "code",
      "metadata": {
        "id": "ktCGwLV1hOw0",
        "outputId": "f411adac-76bf-40f6-c6f8-cde49d74f47c",
        "colab": {
          "base_uri": "https://localhost:8080/",
          "height": 34
        }
      },
      "source": [
        "# range - serve para criar uma P.A. (Progressão Aritmética)\n",
        "# Todo intervalo em Python é fechado no início e aberto no final\n",
        "lista = list(range(10)) \n",
        "# vai considerar o início sendo 0 (inclusivo, incluido) e o final 10 (não está incluído)\n",
        "print(lista)"
      ],
      "execution_count": 33,
      "outputs": [
        {
          "output_type": "stream",
          "text": [
            "[0, 1, 2, 3, 4, 5, 6, 7, 8, 9]\n"
          ],
          "name": "stdout"
        }
      ]
    },
    {
      "cell_type": "code",
      "metadata": {
        "id": "FQd3COaAiGPJ",
        "outputId": "3209e947-10f2-4318-c8e2-a5455a3fd6e9",
        "colab": {
          "base_uri": "https://localhost:8080/",
          "height": 34
        }
      },
      "source": [
        "lista=list(range(1, 10))\n",
        "print(lista)"
      ],
      "execution_count": 34,
      "outputs": [
        {
          "output_type": "stream",
          "text": [
            "[1, 2, 3, 4, 5, 6, 7, 8, 9]\n"
          ],
          "name": "stdout"
        }
      ]
    },
    {
      "cell_type": "markdown",
      "metadata": {
        "id": "7mFPLoYCigqv"
      },
      "source": [
        "range(*args, **kwargs)\n",
        "\n",
        "range(stop) -> range object\n",
        "\n",
        "range(start, stop[, step]) -> range object"
      ]
    },
    {
      "cell_type": "code",
      "metadata": {
        "id": "hLdYMhQ_iWjO",
        "outputId": "4a9b0cfe-b7b4-48e7-f2f5-46ecd23b9571",
        "colab": {
          "base_uri": "https://localhost:8080/",
          "height": 34
        }
      },
      "source": [
        "# lista crescente\n",
        "lista=list(range(1,10,2))\n",
        "print(lista)"
      ],
      "execution_count": 37,
      "outputs": [
        {
          "output_type": "stream",
          "text": [
            "[1, 3, 5, 7, 9]\n"
          ],
          "name": "stdout"
        }
      ]
    },
    {
      "cell_type": "code",
      "metadata": {
        "id": "XecquydDi1wW",
        "outputId": "c5e335f5-14d2-4115-c48f-f2d79890923f",
        "colab": {
          "base_uri": "https://localhost:8080/",
          "height": 34
        }
      },
      "source": [
        "# lista decrescente\n",
        "lista=list(range(10,0,-2))\n",
        "print(lista)"
      ],
      "execution_count": 38,
      "outputs": [
        {
          "output_type": "stream",
          "text": [
            "[10, 8, 6, 4, 2]\n"
          ],
          "name": "stdout"
        }
      ]
    },
    {
      "cell_type": "code",
      "metadata": {
        "id": "0wAd0kgmjQyk",
        "outputId": "d1b5cf20-a1c4-4758-de07-5e9b6f54733a",
        "colab": {
          "base_uri": "https://localhost:8080/",
          "height": 34
        }
      },
      "source": [
        "# sort() - ordenação os elementos na lista\n",
        "lista =[2, 4, 6, 8, 10, 1, 3, 5, 7, 9]\n",
        "lista.sort()\n",
        "print(lista)"
      ],
      "execution_count": 46,
      "outputs": [
        {
          "output_type": "stream",
          "text": [
            "[1, 2, 3, 4, 5, 6, 7, 8, 9, 10]\n"
          ],
          "name": "stdout"
        }
      ]
    },
    {
      "cell_type": "code",
      "metadata": {
        "id": "Mv2P5ktUkHtj",
        "outputId": "cd898ba4-58e9-4f00-9f14-38d9726cc160",
        "colab": {
          "base_uri": "https://localhost:8080/",
          "height": 34
        }
      },
      "source": [
        "# append() - incluir um elemento no final da lista\n",
        "lista = [2, 4, 6, 8, 10]\n",
        "lista.append(12)\n",
        "print(lista)"
      ],
      "execution_count": 50,
      "outputs": [
        {
          "output_type": "stream",
          "text": [
            "[2, 4, 6, 8, 10, 12]\n"
          ],
          "name": "stdout"
        }
      ]
    },
    {
      "cell_type": "code",
      "metadata": {
        "id": "1aC6QjPckra5",
        "outputId": "92cc59a3-c409-4342-8e2f-503c9d824706",
        "colab": {
          "base_uri": "https://localhost:8080/",
          "height": 51
        }
      },
      "source": [
        "# pop() - remover o último elemento da lista e retorna-lo\n",
        "lista = [2, 4, 6, 8, 10]\n",
        "lista.pop()\n",
        "print(lista.pop())\n",
        "print(lista)"
      ],
      "execution_count": 54,
      "outputs": [
        {
          "output_type": "stream",
          "text": [
            "8\n",
            "[2, 4, 6]\n"
          ],
          "name": "stdout"
        }
      ]
    },
    {
      "cell_type": "code",
      "metadata": {
        "id": "4wOtuo6SlGTB",
        "outputId": "abcad6eb-6130-42a3-dfab-a52a7f45eff2",
        "colab": {
          "base_uri": "https://localhost:8080/",
          "height": 34
        }
      },
      "source": [
        "# extend() - passar uma lista com vários elementos\n",
        "lista = [2, 4, 6, 8, 10]\n",
        "lista.extend([12, 14])\n",
        "lista"
      ],
      "execution_count": 59,
      "outputs": [
        {
          "output_type": "execute_result",
          "data": {
            "text/plain": [
              "[2, 4, 6, 8, 10, 12, 14]"
            ]
          },
          "metadata": {
            "tags": []
          },
          "execution_count": 59
        }
      ]
    },
    {
      "cell_type": "code",
      "metadata": {
        "id": "DYUkKk9Glb2F",
        "outputId": "0eeabc3c-a81c-4575-a53c-ad25d0784b95",
        "colab": {
          "base_uri": "https://localhost:8080/",
          "height": 34
        }
      },
      "source": [
        "# concatenação\n",
        "lista = [2, 4, 6, 8, 10, 12, 14] \n",
        "novaLista = lista + [16, 18]\n",
        "print(novaLista)"
      ],
      "execution_count": 66,
      "outputs": [
        {
          "output_type": "stream",
          "text": [
            "[2, 4, 6, 8, 10, 12, 14, 16, 18]\n"
          ],
          "name": "stdout"
        }
      ]
    },
    {
      "cell_type": "markdown",
      "metadata": {
        "id": "IkzIVC0RnGAR"
      },
      "source": [
        "# split(...)\n",
        " |      S.split(sep=None, maxsplit=-1) -> list of strings\n",
        " |      \n",
        " |      Return a list of the words in S, using sep as the\n",
        " |      delimiter string.  If maxsplit is given, at most maxsplit\n",
        " |      splits are done. If sep is not specified or is None, any\n",
        " |      whitespace string is a separator and empty strings are\n",
        " |      removed from the result."
      ]
    },
    {
      "cell_type": "code",
      "metadata": {
        "id": "FAUKgUb3nD-d",
        "outputId": "e57ece3b-876f-4d4a-b402-d781180411a5",
        "colab": {
          "base_uri": "https://localhost:8080/",
          "height": 34
        }
      },
      "source": [
        "# split()\n",
        "'Python Pro'.split()"
      ],
      "execution_count": 73,
      "outputs": [
        {
          "output_type": "execute_result",
          "data": {
            "text/plain": [
              "['Python', 'Pro']"
            ]
          },
          "metadata": {
            "tags": []
          },
          "execution_count": 73
        }
      ]
    },
    {
      "cell_type": "code",
      "metadata": {
        "id": "rx8YNBM5nwQV",
        "outputId": "82f0f2dc-a646-4c15-8d7a-fed2cf3ebb6d",
        "colab": {
          "base_uri": "https://localhost:8080/",
          "height": 34
        }
      },
      "source": [
        "# split()\n",
        "'Python-Pro'.split('-')"
      ],
      "execution_count": 74,
      "outputs": [
        {
          "output_type": "execute_result",
          "data": {
            "text/plain": [
              "['Python', 'Pro']"
            ]
          },
          "metadata": {
            "tags": []
          },
          "execution_count": 74
        }
      ]
    },
    {
      "cell_type": "code",
      "metadata": {
        "id": "NeW1jyKxn13o",
        "outputId": "bc740062-c171-4506-da85-17ae7e10428b",
        "colab": {
          "base_uri": "https://localhost:8080/",
          "height": 34
        }
      },
      "source": [
        "# Podemos criar qualquer objeto dentro da mesma lista diferente de outras linguagens\n",
        "lista = [1, 1.0, 'Eduardo', 2j]\n",
        "print(lista)"
      ],
      "execution_count": 76,
      "outputs": [
        {
          "output_type": "stream",
          "text": [
            "[1, 1.0, 'Eduardo', 2j]\n"
          ],
          "name": "stdout"
        }
      ]
    },
    {
      "cell_type": "code",
      "metadata": {
        "id": "QUrM-EZhmbLw",
        "outputId": "c315415c-37ec-4701-ea04-739473cdc326",
        "colab": {
          "base_uri": "https://localhost:8080/",
          "height": 1000
        }
      },
      "source": [
        "help(str)"
      ],
      "execution_count": 71,
      "outputs": [
        {
          "output_type": "stream",
          "text": [
            "Help on class str in module builtins:\n",
            "\n",
            "class str(object)\n",
            " |  str(object='') -> str\n",
            " |  str(bytes_or_buffer[, encoding[, errors]]) -> str\n",
            " |  \n",
            " |  Create a new string object from the given object. If encoding or\n",
            " |  errors is specified, then the object must expose a data buffer\n",
            " |  that will be decoded using the given encoding and error handler.\n",
            " |  Otherwise, returns the result of object.__str__() (if defined)\n",
            " |  or repr(object).\n",
            " |  encoding defaults to sys.getdefaultencoding().\n",
            " |  errors defaults to 'strict'.\n",
            " |  \n",
            " |  Methods defined here:\n",
            " |  \n",
            " |  __add__(self, value, /)\n",
            " |      Return self+value.\n",
            " |  \n",
            " |  __contains__(self, key, /)\n",
            " |      Return key in self.\n",
            " |  \n",
            " |  __eq__(self, value, /)\n",
            " |      Return self==value.\n",
            " |  \n",
            " |  __format__(...)\n",
            " |      S.__format__(format_spec) -> str\n",
            " |      \n",
            " |      Return a formatted version of S as described by format_spec.\n",
            " |  \n",
            " |  __ge__(self, value, /)\n",
            " |      Return self>=value.\n",
            " |  \n",
            " |  __getattribute__(self, name, /)\n",
            " |      Return getattr(self, name).\n",
            " |  \n",
            " |  __getitem__(self, key, /)\n",
            " |      Return self[key].\n",
            " |  \n",
            " |  __getnewargs__(...)\n",
            " |  \n",
            " |  __gt__(self, value, /)\n",
            " |      Return self>value.\n",
            " |  \n",
            " |  __hash__(self, /)\n",
            " |      Return hash(self).\n",
            " |  \n",
            " |  __iter__(self, /)\n",
            " |      Implement iter(self).\n",
            " |  \n",
            " |  __le__(self, value, /)\n",
            " |      Return self<=value.\n",
            " |  \n",
            " |  __len__(self, /)\n",
            " |      Return len(self).\n",
            " |  \n",
            " |  __lt__(self, value, /)\n",
            " |      Return self<value.\n",
            " |  \n",
            " |  __mod__(self, value, /)\n",
            " |      Return self%value.\n",
            " |  \n",
            " |  __mul__(self, value, /)\n",
            " |      Return self*value.\n",
            " |  \n",
            " |  __ne__(self, value, /)\n",
            " |      Return self!=value.\n",
            " |  \n",
            " |  __new__(*args, **kwargs) from builtins.type\n",
            " |      Create and return a new object.  See help(type) for accurate signature.\n",
            " |  \n",
            " |  __repr__(self, /)\n",
            " |      Return repr(self).\n",
            " |  \n",
            " |  __rmod__(self, value, /)\n",
            " |      Return value%self.\n",
            " |  \n",
            " |  __rmul__(self, value, /)\n",
            " |      Return value*self.\n",
            " |  \n",
            " |  __sizeof__(...)\n",
            " |      S.__sizeof__() -> size of S in memory, in bytes\n",
            " |  \n",
            " |  __str__(self, /)\n",
            " |      Return str(self).\n",
            " |  \n",
            " |  capitalize(...)\n",
            " |      S.capitalize() -> str\n",
            " |      \n",
            " |      Return a capitalized version of S, i.e. make the first character\n",
            " |      have upper case and the rest lower case.\n",
            " |  \n",
            " |  casefold(...)\n",
            " |      S.casefold() -> str\n",
            " |      \n",
            " |      Return a version of S suitable for caseless comparisons.\n",
            " |  \n",
            " |  center(...)\n",
            " |      S.center(width[, fillchar]) -> str\n",
            " |      \n",
            " |      Return S centered in a string of length width. Padding is\n",
            " |      done using the specified fill character (default is a space)\n",
            " |  \n",
            " |  count(...)\n",
            " |      S.count(sub[, start[, end]]) -> int\n",
            " |      \n",
            " |      Return the number of non-overlapping occurrences of substring sub in\n",
            " |      string S[start:end].  Optional arguments start and end are\n",
            " |      interpreted as in slice notation.\n",
            " |  \n",
            " |  encode(...)\n",
            " |      S.encode(encoding='utf-8', errors='strict') -> bytes\n",
            " |      \n",
            " |      Encode S using the codec registered for encoding. Default encoding\n",
            " |      is 'utf-8'. errors may be given to set a different error\n",
            " |      handling scheme. Default is 'strict' meaning that encoding errors raise\n",
            " |      a UnicodeEncodeError. Other possible values are 'ignore', 'replace' and\n",
            " |      'xmlcharrefreplace' as well as any other name registered with\n",
            " |      codecs.register_error that can handle UnicodeEncodeErrors.\n",
            " |  \n",
            " |  endswith(...)\n",
            " |      S.endswith(suffix[, start[, end]]) -> bool\n",
            " |      \n",
            " |      Return True if S ends with the specified suffix, False otherwise.\n",
            " |      With optional start, test S beginning at that position.\n",
            " |      With optional end, stop comparing S at that position.\n",
            " |      suffix can also be a tuple of strings to try.\n",
            " |  \n",
            " |  expandtabs(...)\n",
            " |      S.expandtabs(tabsize=8) -> str\n",
            " |      \n",
            " |      Return a copy of S where all tab characters are expanded using spaces.\n",
            " |      If tabsize is not given, a tab size of 8 characters is assumed.\n",
            " |  \n",
            " |  find(...)\n",
            " |      S.find(sub[, start[, end]]) -> int\n",
            " |      \n",
            " |      Return the lowest index in S where substring sub is found,\n",
            " |      such that sub is contained within S[start:end].  Optional\n",
            " |      arguments start and end are interpreted as in slice notation.\n",
            " |      \n",
            " |      Return -1 on failure.\n",
            " |  \n",
            " |  format(...)\n",
            " |      S.format(*args, **kwargs) -> str\n",
            " |      \n",
            " |      Return a formatted version of S, using substitutions from args and kwargs.\n",
            " |      The substitutions are identified by braces ('{' and '}').\n",
            " |  \n",
            " |  format_map(...)\n",
            " |      S.format_map(mapping) -> str\n",
            " |      \n",
            " |      Return a formatted version of S, using substitutions from mapping.\n",
            " |      The substitutions are identified by braces ('{' and '}').\n",
            " |  \n",
            " |  index(...)\n",
            " |      S.index(sub[, start[, end]]) -> int\n",
            " |      \n",
            " |      Return the lowest index in S where substring sub is found, \n",
            " |      such that sub is contained within S[start:end].  Optional\n",
            " |      arguments start and end are interpreted as in slice notation.\n",
            " |      \n",
            " |      Raises ValueError when the substring is not found.\n",
            " |  \n",
            " |  isalnum(...)\n",
            " |      S.isalnum() -> bool\n",
            " |      \n",
            " |      Return True if all characters in S are alphanumeric\n",
            " |      and there is at least one character in S, False otherwise.\n",
            " |  \n",
            " |  isalpha(...)\n",
            " |      S.isalpha() -> bool\n",
            " |      \n",
            " |      Return True if all characters in S are alphabetic\n",
            " |      and there is at least one character in S, False otherwise.\n",
            " |  \n",
            " |  isdecimal(...)\n",
            " |      S.isdecimal() -> bool\n",
            " |      \n",
            " |      Return True if there are only decimal characters in S,\n",
            " |      False otherwise.\n",
            " |  \n",
            " |  isdigit(...)\n",
            " |      S.isdigit() -> bool\n",
            " |      \n",
            " |      Return True if all characters in S are digits\n",
            " |      and there is at least one character in S, False otherwise.\n",
            " |  \n",
            " |  isidentifier(...)\n",
            " |      S.isidentifier() -> bool\n",
            " |      \n",
            " |      Return True if S is a valid identifier according\n",
            " |      to the language definition.\n",
            " |      \n",
            " |      Use keyword.iskeyword() to test for reserved identifiers\n",
            " |      such as \"def\" and \"class\".\n",
            " |  \n",
            " |  islower(...)\n",
            " |      S.islower() -> bool\n",
            " |      \n",
            " |      Return True if all cased characters in S are lowercase and there is\n",
            " |      at least one cased character in S, False otherwise.\n",
            " |  \n",
            " |  isnumeric(...)\n",
            " |      S.isnumeric() -> bool\n",
            " |      \n",
            " |      Return True if there are only numeric characters in S,\n",
            " |      False otherwise.\n",
            " |  \n",
            " |  isprintable(...)\n",
            " |      S.isprintable() -> bool\n",
            " |      \n",
            " |      Return True if all characters in S are considered\n",
            " |      printable in repr() or S is empty, False otherwise.\n",
            " |  \n",
            " |  isspace(...)\n",
            " |      S.isspace() -> bool\n",
            " |      \n",
            " |      Return True if all characters in S are whitespace\n",
            " |      and there is at least one character in S, False otherwise.\n",
            " |  \n",
            " |  istitle(...)\n",
            " |      S.istitle() -> bool\n",
            " |      \n",
            " |      Return True if S is a titlecased string and there is at least one\n",
            " |      character in S, i.e. upper- and titlecase characters may only\n",
            " |      follow uncased characters and lowercase characters only cased ones.\n",
            " |      Return False otherwise.\n",
            " |  \n",
            " |  isupper(...)\n",
            " |      S.isupper() -> bool\n",
            " |      \n",
            " |      Return True if all cased characters in S are uppercase and there is\n",
            " |      at least one cased character in S, False otherwise.\n",
            " |  \n",
            " |  join(...)\n",
            " |      S.join(iterable) -> str\n",
            " |      \n",
            " |      Return a string which is the concatenation of the strings in the\n",
            " |      iterable.  The separator between elements is S.\n",
            " |  \n",
            " |  ljust(...)\n",
            " |      S.ljust(width[, fillchar]) -> str\n",
            " |      \n",
            " |      Return S left-justified in a Unicode string of length width. Padding is\n",
            " |      done using the specified fill character (default is a space).\n",
            " |  \n",
            " |  lower(...)\n",
            " |      S.lower() -> str\n",
            " |      \n",
            " |      Return a copy of the string S converted to lowercase.\n",
            " |  \n",
            " |  lstrip(...)\n",
            " |      S.lstrip([chars]) -> str\n",
            " |      \n",
            " |      Return a copy of the string S with leading whitespace removed.\n",
            " |      If chars is given and not None, remove characters in chars instead.\n",
            " |  \n",
            " |  partition(...)\n",
            " |      S.partition(sep) -> (head, sep, tail)\n",
            " |      \n",
            " |      Search for the separator sep in S, and return the part before it,\n",
            " |      the separator itself, and the part after it.  If the separator is not\n",
            " |      found, return S and two empty strings.\n",
            " |  \n",
            " |  replace(...)\n",
            " |      S.replace(old, new[, count]) -> str\n",
            " |      \n",
            " |      Return a copy of S with all occurrences of substring\n",
            " |      old replaced by new.  If the optional argument count is\n",
            " |      given, only the first count occurrences are replaced.\n",
            " |  \n",
            " |  rfind(...)\n",
            " |      S.rfind(sub[, start[, end]]) -> int\n",
            " |      \n",
            " |      Return the highest index in S where substring sub is found,\n",
            " |      such that sub is contained within S[start:end].  Optional\n",
            " |      arguments start and end are interpreted as in slice notation.\n",
            " |      \n",
            " |      Return -1 on failure.\n",
            " |  \n",
            " |  rindex(...)\n",
            " |      S.rindex(sub[, start[, end]]) -> int\n",
            " |      \n",
            " |      Return the highest index in S where substring sub is found,\n",
            " |      such that sub is contained within S[start:end].  Optional\n",
            " |      arguments start and end are interpreted as in slice notation.\n",
            " |      \n",
            " |      Raises ValueError when the substring is not found.\n",
            " |  \n",
            " |  rjust(...)\n",
            " |      S.rjust(width[, fillchar]) -> str\n",
            " |      \n",
            " |      Return S right-justified in a string of length width. Padding is\n",
            " |      done using the specified fill character (default is a space).\n",
            " |  \n",
            " |  rpartition(...)\n",
            " |      S.rpartition(sep) -> (head, sep, tail)\n",
            " |      \n",
            " |      Search for the separator sep in S, starting at the end of S, and return\n",
            " |      the part before it, the separator itself, and the part after it.  If the\n",
            " |      separator is not found, return two empty strings and S.\n",
            " |  \n",
            " |  rsplit(...)\n",
            " |      S.rsplit(sep=None, maxsplit=-1) -> list of strings\n",
            " |      \n",
            " |      Return a list of the words in S, using sep as the\n",
            " |      delimiter string, starting at the end of the string and\n",
            " |      working to the front.  If maxsplit is given, at most maxsplit\n",
            " |      splits are done. If sep is not specified, any whitespace string\n",
            " |      is a separator.\n",
            " |  \n",
            " |  rstrip(...)\n",
            " |      S.rstrip([chars]) -> str\n",
            " |      \n",
            " |      Return a copy of the string S with trailing whitespace removed.\n",
            " |      If chars is given and not None, remove characters in chars instead.\n",
            " |  \n",
            " |  split(...)\n",
            " |      S.split(sep=None, maxsplit=-1) -> list of strings\n",
            " |      \n",
            " |      Return a list of the words in S, using sep as the\n",
            " |      delimiter string.  If maxsplit is given, at most maxsplit\n",
            " |      splits are done. If sep is not specified or is None, any\n",
            " |      whitespace string is a separator and empty strings are\n",
            " |      removed from the result.\n",
            " |  \n",
            " |  splitlines(...)\n",
            " |      S.splitlines([keepends]) -> list of strings\n",
            " |      \n",
            " |      Return a list of the lines in S, breaking at line boundaries.\n",
            " |      Line breaks are not included in the resulting list unless keepends\n",
            " |      is given and true.\n",
            " |  \n",
            " |  startswith(...)\n",
            " |      S.startswith(prefix[, start[, end]]) -> bool\n",
            " |      \n",
            " |      Return True if S starts with the specified prefix, False otherwise.\n",
            " |      With optional start, test S beginning at that position.\n",
            " |      With optional end, stop comparing S at that position.\n",
            " |      prefix can also be a tuple of strings to try.\n",
            " |  \n",
            " |  strip(...)\n",
            " |      S.strip([chars]) -> str\n",
            " |      \n",
            " |      Return a copy of the string S with leading and trailing\n",
            " |      whitespace removed.\n",
            " |      If chars is given and not None, remove characters in chars instead.\n",
            " |  \n",
            " |  swapcase(...)\n",
            " |      S.swapcase() -> str\n",
            " |      \n",
            " |      Return a copy of S with uppercase characters converted to lowercase\n",
            " |      and vice versa.\n",
            " |  \n",
            " |  title(...)\n",
            " |      S.title() -> str\n",
            " |      \n",
            " |      Return a titlecased version of S, i.e. words start with title case\n",
            " |      characters, all remaining cased characters have lower case.\n",
            " |  \n",
            " |  translate(...)\n",
            " |      S.translate(table) -> str\n",
            " |      \n",
            " |      Return a copy of the string S in which each character has been mapped\n",
            " |      through the given translation table. The table must implement\n",
            " |      lookup/indexing via __getitem__, for instance a dictionary or list,\n",
            " |      mapping Unicode ordinals to Unicode ordinals, strings, or None. If\n",
            " |      this operation raises LookupError, the character is left untouched.\n",
            " |      Characters mapped to None are deleted.\n",
            " |  \n",
            " |  upper(...)\n",
            " |      S.upper() -> str\n",
            " |      \n",
            " |      Return a copy of S converted to uppercase.\n",
            " |  \n",
            " |  zfill(...)\n",
            " |      S.zfill(width) -> str\n",
            " |      \n",
            " |      Pad a numeric string S with zeros on the left, to fill a field\n",
            " |      of the specified width. The string S is never truncated.\n",
            " |  \n",
            " |  ----------------------------------------------------------------------\n",
            " |  Static methods defined here:\n",
            " |  \n",
            " |  maketrans(x, y=None, z=None, /)\n",
            " |      Return a translation table usable for str.translate().\n",
            " |      \n",
            " |      If there is only one argument, it must be a dictionary mapping Unicode\n",
            " |      ordinals (integers) or characters to Unicode ordinals, strings or None.\n",
            " |      Character keys will be then converted to ordinals.\n",
            " |      If there are two arguments, they must be strings of equal length, and\n",
            " |      in the resulting dictionary, each character in x will be mapped to the\n",
            " |      character at the same position in y. If there is a third argument, it\n",
            " |      must be a string, whose characters will be mapped to None in the result.\n",
            "\n"
          ],
          "name": "stdout"
        }
      ]
    },
    {
      "cell_type": "markdown",
      "metadata": {
        "id": "S_7-jbaConly"
      },
      "source": [
        "**1.3.3. Tupla e Id**\n",
        "\n",
        "Nesse tópico será abordado o container Tupla. Apesar de muito parecida com a lista, a tupla é imutável, o que significa não ser possível alterar as referências depois de tê-la criado. Também será visto como utilizar a funcão id para identificar unicamente objetos durante a execução de um programa Python."
      ]
    },
    {
      "cell_type": "code",
      "metadata": {
        "id": "FylKukXhomu_",
        "outputId": "d32a87c7-0fdb-4037-c851-498cb3aeb710",
        "colab": {
          "base_uri": "https://localhost:8080/",
          "height": 34
        }
      },
      "source": [
        "# Tupla (ou Tuple) é imutável\n",
        "tupla= (1,2)\n",
        "type(tupla)"
      ],
      "execution_count": 78,
      "outputs": [
        {
          "output_type": "execute_result",
          "data": {
            "text/plain": [
              "tuple"
            ]
          },
          "metadata": {
            "tags": []
          },
          "execution_count": 78
        }
      ]
    },
    {
      "cell_type": "code",
      "metadata": {
        "id": "IeLy1IeapXg1",
        "outputId": "bde4ef3b-1519-4587-dee9-4a2d16fce0d0",
        "colab": {
          "base_uri": "https://localhost:8080/",
          "height": 578
        }
      },
      "source": [
        "dir(tupla) # Não existe os métodos iguais da lista"
      ],
      "execution_count": 80,
      "outputs": [
        {
          "output_type": "execute_result",
          "data": {
            "text/plain": [
              "['__add__',\n",
              " '__class__',\n",
              " '__contains__',\n",
              " '__delattr__',\n",
              " '__dir__',\n",
              " '__doc__',\n",
              " '__eq__',\n",
              " '__format__',\n",
              " '__ge__',\n",
              " '__getattribute__',\n",
              " '__getitem__',\n",
              " '__getnewargs__',\n",
              " '__gt__',\n",
              " '__hash__',\n",
              " '__init__',\n",
              " '__init_subclass__',\n",
              " '__iter__',\n",
              " '__le__',\n",
              " '__len__',\n",
              " '__lt__',\n",
              " '__mul__',\n",
              " '__ne__',\n",
              " '__new__',\n",
              " '__reduce__',\n",
              " '__reduce_ex__',\n",
              " '__repr__',\n",
              " '__rmul__',\n",
              " '__setattr__',\n",
              " '__sizeof__',\n",
              " '__str__',\n",
              " '__subclasshook__',\n",
              " 'count',\n",
              " 'index']"
            ]
          },
          "metadata": {
            "tags": []
          },
          "execution_count": 80
        }
      ]
    },
    {
      "cell_type": "code",
      "metadata": {
        "id": "wRG9XBFipxwW",
        "outputId": "8c055f4c-0984-4ab6-dff8-cbb1fc6fa243",
        "colab": {
          "base_uri": "https://localhost:8080/",
          "height": 34
        }
      },
      "source": [
        "tuple(range(6))"
      ],
      "execution_count": 82,
      "outputs": [
        {
          "output_type": "execute_result",
          "data": {
            "text/plain": [
              "(0, 1, 2, 3, 4, 5)"
            ]
          },
          "metadata": {
            "tags": []
          },
          "execution_count": 82
        }
      ]
    },
    {
      "cell_type": "code",
      "metadata": {
        "id": "fZ10UXrYp9o6",
        "outputId": "a5db1cac-ca57-4181-cb93-4e3d265acc9f",
        "colab": {
          "base_uri": "https://localhost:8080/",
          "height": 34
        }
      },
      "source": [
        "2+3*4"
      ],
      "execution_count": 83,
      "outputs": [
        {
          "output_type": "execute_result",
          "data": {
            "text/plain": [
              "14"
            ]
          },
          "metadata": {
            "tags": []
          },
          "execution_count": 83
        }
      ]
    },
    {
      "cell_type": "code",
      "metadata": {
        "id": "JmsmR5q2qBLO",
        "outputId": "00226566-2ef3-43a6-df59-52eab11c8755",
        "colab": {
          "base_uri": "https://localhost:8080/",
          "height": 34
        }
      },
      "source": [
        "(2+3)*4"
      ],
      "execution_count": 84,
      "outputs": [
        {
          "output_type": "execute_result",
          "data": {
            "text/plain": [
              "20"
            ]
          },
          "metadata": {
            "tags": []
          },
          "execution_count": 84
        }
      ]
    },
    {
      "cell_type": "code",
      "metadata": {
        "id": "Hces8UzIqF2d",
        "outputId": "265834e7-f613-42a9-f4cd-b189c6d0270a",
        "colab": {
          "base_uri": "https://localhost:8080/",
          "height": 34
        }
      },
      "source": [
        "(6)"
      ],
      "execution_count": 85,
      "outputs": [
        {
          "output_type": "execute_result",
          "data": {
            "text/plain": [
              "6"
            ]
          },
          "metadata": {
            "tags": []
          },
          "execution_count": 85
        }
      ]
    },
    {
      "cell_type": "code",
      "metadata": {
        "id": "KyjQOKcgqPyg",
        "outputId": "5588b594-6653-48ba-8520-11a5821efebb",
        "colab": {
          "base_uri": "https://localhost:8080/",
          "height": 34
        }
      },
      "source": [
        "type((6))"
      ],
      "execution_count": 86,
      "outputs": [
        {
          "output_type": "execute_result",
          "data": {
            "text/plain": [
              "int"
            ]
          },
          "metadata": {
            "tags": []
          },
          "execution_count": 86
        }
      ]
    },
    {
      "cell_type": "code",
      "metadata": {
        "id": "5ITUIcEzqYSd",
        "outputId": "a393ce22-1557-43d7-fdc6-3e06004f57b6",
        "colab": {
          "base_uri": "https://localhost:8080/",
          "height": 34
        }
      },
      "source": [
        "(6,)"
      ],
      "execution_count": 87,
      "outputs": [
        {
          "output_type": "execute_result",
          "data": {
            "text/plain": [
              "(6,)"
            ]
          },
          "metadata": {
            "tags": []
          },
          "execution_count": 87
        }
      ]
    },
    {
      "cell_type": "code",
      "metadata": {
        "id": "8WfKOkV0qccn",
        "outputId": "4e4af96a-5b80-489b-bf90-64fb0afdcdf6",
        "colab": {
          "base_uri": "https://localhost:8080/",
          "height": 34
        }
      },
      "source": [
        "type((6,))"
      ],
      "execution_count": 90,
      "outputs": [
        {
          "output_type": "execute_result",
          "data": {
            "text/plain": [
              "tuple"
            ]
          },
          "metadata": {
            "tags": []
          },
          "execution_count": 90
        }
      ]
    },
    {
      "cell_type": "code",
      "metadata": {
        "id": "Xf0LhtFtqpW9"
      },
      "source": [
        "registro=('Eduardo', 30)\n",
        "nome, idade = registro"
      ],
      "execution_count": 94,
      "outputs": []
    },
    {
      "cell_type": "code",
      "metadata": {
        "id": "lXax-SeUrQK1",
        "outputId": "b5723198-f9ae-4d0b-e781-eabe56568740",
        "colab": {
          "base_uri": "https://localhost:8080/",
          "height": 35
        }
      },
      "source": [
        "nome"
      ],
      "execution_count": 95,
      "outputs": [
        {
          "output_type": "execute_result",
          "data": {
            "application/vnd.google.colaboratory.intrinsic+json": {
              "type": "string"
            },
            "text/plain": [
              "'Eduardo'"
            ]
          },
          "metadata": {
            "tags": []
          },
          "execution_count": 95
        }
      ]
    },
    {
      "cell_type": "code",
      "metadata": {
        "id": "NTi_Ov-grR3-",
        "outputId": "e2853280-706b-4e11-e15a-4d1f69f45fa6",
        "colab": {
          "base_uri": "https://localhost:8080/",
          "height": 34
        }
      },
      "source": [
        "idade"
      ],
      "execution_count": 96,
      "outputs": [
        {
          "output_type": "execute_result",
          "data": {
            "text/plain": [
              "30"
            ]
          },
          "metadata": {
            "tags": []
          },
          "execution_count": 96
        }
      ]
    },
    {
      "cell_type": "code",
      "metadata": {
        "id": "SanTxYNDrtFt"
      },
      "source": [
        "registro_2=('Renzo', 35)"
      ],
      "execution_count": 97,
      "outputs": []
    },
    {
      "cell_type": "code",
      "metadata": {
        "id": "BJLx27Xxr5Bd",
        "outputId": "97884e83-0741-489c-e133-bf81cb1f271a",
        "colab": {
          "base_uri": "https://localhost:8080/",
          "height": 34
        }
      },
      "source": [
        "registro_2"
      ],
      "execution_count": 98,
      "outputs": [
        {
          "output_type": "execute_result",
          "data": {
            "text/plain": [
              "('Renzo', 35)"
            ]
          },
          "metadata": {
            "tags": []
          },
          "execution_count": 98
        }
      ]
    },
    {
      "cell_type": "code",
      "metadata": {
        "id": "QCAbsRJIsAbQ",
        "outputId": "3a181c66-014f-4fa7-9a23-b4b236f84b9e",
        "colab": {
          "base_uri": "https://localhost:8080/",
          "height": 34
        }
      },
      "source": [
        "novaTupla = registro + registro_2\n",
        "print(novaTupla)"
      ],
      "execution_count": 99,
      "outputs": [
        {
          "output_type": "stream",
          "text": [
            "('Eduardo', 30, 'Renzo', 35)\n"
          ],
          "name": "stdout"
        }
      ]
    },
    {
      "cell_type": "code",
      "metadata": {
        "id": "EIQkKLACsJnp",
        "outputId": "8bd6f477-aa03-49a6-e959-d96992a68093",
        "colab": {
          "base_uri": "https://localhost:8080/",
          "height": 34
        }
      },
      "source": [
        "# id\n",
        "id(registro)"
      ],
      "execution_count": 100,
      "outputs": [
        {
          "output_type": "execute_result",
          "data": {
            "text/plain": [
              "140277253713352"
            ]
          },
          "metadata": {
            "tags": []
          },
          "execution_count": 100
        }
      ]
    },
    {
      "cell_type": "code",
      "metadata": {
        "id": "_dlVMPOTsRN0",
        "outputId": "07f4997b-61ff-4bef-b056-bcff58d09f44",
        "colab": {
          "base_uri": "https://localhost:8080/",
          "height": 34
        }
      },
      "source": [
        "# id\n",
        "id(registro_2)"
      ],
      "execution_count": 102,
      "outputs": [
        {
          "output_type": "execute_result",
          "data": {
            "text/plain": [
              "140277253357064"
            ]
          },
          "metadata": {
            "tags": []
          },
          "execution_count": 102
        }
      ]
    },
    {
      "cell_type": "markdown",
      "metadata": {
        "id": "u3zWdt5is4vP"
      },
      "source": [
        "**id(obj)**\n",
        "\n",
        "Return the identity of an object.\n",
        "\n",
        "This is guaranteed to be unique among simultaneously existing objects.\n",
        "(CPython uses the object's memory address.)"
      ]
    },
    {
      "cell_type": "code",
      "metadata": {
        "id": "XD3a2_-5sl35",
        "outputId": "1cd197fc-11da-475c-d7df-e0abbd30ff84",
        "colab": {
          "base_uri": "https://localhost:8080/",
          "height": 34
        }
      },
      "source": [
        "# id() - A função id() retorna um valor único que identica o objeto\n",
        "id(registro + registro_2)"
      ],
      "execution_count": 103,
      "outputs": [
        {
          "output_type": "execute_result",
          "data": {
            "text/plain": [
              "140277252864664"
            ]
          },
          "metadata": {
            "tags": []
          },
          "execution_count": 103
        }
      ]
    }
  ]
}