{
  "nbformat": 4,
  "nbformat_minor": 0,
  "metadata": {
    "colab": {
      "name": "Cap3Parte2.ipynb",
      "provenance": [],
      "authorship_tag": "ABX9TyM8M4FNoUSz+KnkLBRAb/Gr",
      "include_colab_link": true
    },
    "kernelspec": {
      "name": "python3",
      "display_name": "Python 3"
    }
  },
  "cells": [
    {
      "cell_type": "markdown",
      "metadata": {
        "id": "view-in-github",
        "colab_type": "text"
      },
      "source": [
        "<a href=\"https://colab.research.google.com/github/eduardodsr/Python-Google-Colab/blob/master/Cap3Parte2.ipynb\" target=\"_parent\"><img src=\"https://colab.research.google.com/assets/colab-badge.svg\" alt=\"Open In Colab\"/></a>"
      ]
    },
    {
      "cell_type": "markdown",
      "metadata": {
        "id": "A5B75IT6iYd4"
      },
      "source": [
        "*Capítulo 3 - Sistema de restaurante (simples*"
      ]
    },
    {
      "cell_type": "code",
      "metadata": {
        "id": "eLa6Ju1PigWF",
        "outputId": "f6aeba9c-81af-4e1a-c219-c6cdd860c3d2",
        "colab": {
          "base_uri": "https://localhost:8080/",
          "height": 153
        }
      },
      "source": [
        "# Sistema de restaurante (forma simples)\n",
        "\n",
        "# Digitar o item compra e quantidade\n",
        "# Verificar o valor total\n",
        "# Quando encerrar a comprar -> Apresentar o valor total da compra\n",
        "\n",
        "products = ['hamburger', 'frits', 'combo', 'refrigerant']\n",
        "prices = [15, 10.50, 20, 5]\n",
        "\n",
        "values = 0\n",
        "id = int(input('Número do Produto (id)? '))\n",
        "amount = int(input('Quantidade? '))\n",
        "while  id != -1:\n",
        "  values = values + (prices[id]) * amount\n",
        "  id = int(input('Número do Produto (id)? '))\n",
        "  if (id == -1):\n",
        "    break\n",
        "  amount = int(input('Quantidade? '))\n",
        "print('****************')\n",
        "print('Total da compra: {}'.format(values))\n",
        "print('****************')"
      ],
      "execution_count": 72,
      "outputs": [
        {
          "output_type": "stream",
          "text": [
            "Número do Produto (id)? 3\n",
            "Quantidade? 10\n",
            "Número do Produto (id)? 0\n",
            "Quantidade? 5\n",
            "Número do Produto (id)? -1\n",
            "****************\n",
            "Total da compra: 125\n",
            "****************\n"
          ],
          "name": "stdout"
        }
      ]
    }
  ]
}