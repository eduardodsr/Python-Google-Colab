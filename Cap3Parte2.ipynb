{
  "nbformat": 4,
  "nbformat_minor": 0,
  "metadata": {
    "colab": {
      "name": "Cap3Parte2.ipynb",
      "provenance": [],
      "collapsed_sections": [],
      "authorship_tag": "ABX9TyMQutG3tyQTNLsL+Xl1Xu6a",
      "include_colab_link": true
    },
    "kernelspec": {
      "name": "python3",
      "display_name": "Python 3"
    }
  },
  "cells": [
    {
      "cell_type": "markdown",
      "metadata": {
        "id": "view-in-github",
        "colab_type": "text"
      },
      "source": [
        "<a href=\"https://colab.research.google.com/github/eduardodsr/Python-Google-Colab/blob/master/Cap3Parte2.ipynb\" target=\"_parent\"><img src=\"https://colab.research.google.com/assets/colab-badge.svg\" alt=\"Open In Colab\"/></a>"
      ]
    },
    {
      "cell_type": "markdown",
      "metadata": {
        "id": "A5B75IT6iYd4"
      },
      "source": [
        "*Capítulo 3 - Sistema de restaurante (simples)*"
      ]
    },
    {
      "cell_type": "code",
      "metadata": {
        "id": "eLa6Ju1PigWF",
        "outputId": "f6aeba9c-81af-4e1a-c219-c6cdd860c3d2",
        "colab": {
          "base_uri": "https://localhost:8080/",
          "height": 153
        }
      },
      "source": [
        "# Sistema de restaurante (forma simples)\n",
        "\n",
        "# Digitar o item compra e quantidade\n",
        "# Verificar o valor total\n",
        "# Quando encerrar a comprar -> Apresentar o valor total da compra\n",
        "\n",
        "products = ['hamburger', 'frits', 'combo', 'refrigerant']\n",
        "prices = [15, 10.50, 20, 5]\n",
        "\n",
        "values = 0\n",
        "id = int(input('Número do Produto (id)? '))\n",
        "amount = int(input('Quantidade? '))\n",
        "while  id != -1:\n",
        "  values = values + (prices[id]) * amount\n",
        "  id = int(input('Número do Produto (id)? '))\n",
        "  if (id == -1):\n",
        "    break\n",
        "  amount = int(input('Quantidade? '))\n",
        "print('****************')\n",
        "print('Total da compra: {}'.format(values))\n",
        "print('****************')"
      ],
      "execution_count": 72,
      "outputs": [
        {
          "output_type": "stream",
          "text": [
            "Número do Produto (id)? 3\n",
            "Quantidade? 10\n",
            "Número do Produto (id)? 0\n",
            "Quantidade? 5\n",
            "Número do Produto (id)? -1\n",
            "****************\n",
            "Total da compra: 125\n",
            "****************\n"
          ],
          "name": "stdout"
        }
      ]
    },
    {
      "cell_type": "code",
      "metadata": {
        "id": "y5fMEhw8FZn0",
        "outputId": "eac2b08e-962b-4fd9-8c7c-42e41bb6bc55",
        "colab": {
          "base_uri": "https://localhost:8080/",
          "height": 170
        }
      },
      "source": [
        "# Sistema de restaurante (utilizando funções)\n",
        "\n",
        "# Digitar o item compra e quantidade\n",
        "# Verificar o valor total\n",
        "# Quando encerrar a comprar -> Apresentar o valor total da compra\n",
        "\n",
        "# Funções Auxiliares\n",
        "def ler_quantidade():\n",
        "  informacao = input('Qual a quantidade: ')\n",
        "  while (not informacao.isdigit()):\n",
        "    informacao = input('Quantidade Incorreta! Deve ser um número inteiro!')\n",
        "  return int(informacao)\n",
        "\n",
        "# Programa Principal\n",
        "produtos = ['hamburger', 'frits', 'combo', 'refrigerant']\n",
        "precos = [15, 10.50, 20, 5]\n",
        "itens_comprados = []\n",
        "valor_compra = 0\n",
        "\n",
        "item_compra = int(input('Qual o id da compra? '))\n",
        "itens_comprados.append(produtos[item_compra])\n",
        "\n",
        "quantidade = ler_quantidade()\n",
        "\n",
        "while  item_compra != -1:\n",
        "  valor_compra = valor_compra + (precos[item_compra])*(quantidade)\n",
        "  item_compra = int(input('Qual o id da compra? '))\n",
        "  if (item_compra == -1):\n",
        "    break\n",
        "  quantidade = ler_quantidade()\n",
        "\n",
        "print('Relatório final da compra')\n",
        "for item in itens_comprados:\n",
        "  print('Comprado: {}'.format(item))\n",
        "print('**************************')\n",
        "print('Total da compra: {}'.format(valor_compra))\n",
        "print('**************************')"
      ],
      "execution_count": 80,
      "outputs": [
        {
          "output_type": "stream",
          "text": [
            "Qual o id da compra? 0\n",
            "Qual a quantidade: dez\n",
            "Quantidade Incorreta! Deve ser um número inteiro!5\n",
            "Qual o id da compra? -1\n",
            "Relatório final da compra\n",
            "Comprado: hamburger\n",
            "**************************\n",
            "Total da compra: 75\n",
            "**************************\n"
          ],
          "name": "stdout"
        }
      ]
    },
    {
      "cell_type": "code",
      "metadata": {
        "id": "IjBV50FSLjEu",
        "outputId": "4d78bc5f-bb37-48a3-b694-5456226389a9",
        "colab": {
          "base_uri": "https://localhost:8080/",
          "height": 204
        }
      },
      "source": [
        "# Sistema de restaurante (utilizando funções)\n",
        "\n",
        "# Digitar o item compra e quantidade\n",
        "# Verificar o valor total\n",
        "# Quando encerrar a comprar -> Apresentar o valor total da compra\n",
        "\n",
        "# Funções Auxiliares\n",
        "def ler_quantidade():\n",
        "  informacao = input('Qual a quantidade: ')\n",
        "  while (not informacao.isdigit()):\n",
        "    informacao = input('Quantidade deve ser um número inteiro! Digite novamente: ')\n",
        "  return int(informacao)\n",
        "\n",
        "def ler_item_compra(produtos):\n",
        "  nome = input('Digite o nome do produto (Digite ENTER para terminar)? ')\n",
        "  indice = -1\n",
        "  for i,produto in enumerate(produtos):\n",
        "    if (produto.upper() == nome.upper()):\n",
        "      indice = i\n",
        "      break\n",
        "  return indice\n",
        "\n",
        "def processar_compra(itens_comprados):\n",
        "  item_compra = ler_item_compra(produtos)\n",
        "  if (item_compra == -1):\n",
        "    return -1,0\n",
        "  itens_comprados.append(produtos[item_compra])\n",
        "  quantidade = ler_quantidade()\n",
        "  return item_compra,quantidade\n",
        "\n",
        "# Programa Principal\n",
        "produtos = ['hamburger', 'batata', 'combo', 'refrigerante']\n",
        "precos = [15, 10.50, 20, 5]\n",
        "itens_comprados = []\n",
        "valor_compra = 0\n",
        "\n",
        "item_compra,quantidade = processar_compra(itens_comprados)\n",
        "\n",
        "while  item_compra != -1:\n",
        "  valor_compra = valor_compra + (precos[item_compra]*quantidade)\n",
        "  item_compra,quantidade = processar_compra(itens_comprados)\n",
        "  \n",
        "print('Relatório final da compra')\n",
        "for item in itens_comprados:\n",
        "  print('Comprado: {}'.format(item))\n",
        "print('**************************')\n",
        "print('Total da compra: ${}'.format(valor_compra))\n",
        "print('**************************')"
      ],
      "execution_count": 94,
      "outputs": [
        {
          "output_type": "stream",
          "text": [
            "Digite o nome do produto (Digite ENTER para terminar)? hamburger\n",
            "Qual a quantidade: 10\n",
            "Digite o nome do produto (Digite ENTER para terminar)? refrigerante\n",
            "Qual a quantidade: 10\n",
            "Digite o nome do produto (Digite ENTER para terminar)? \n",
            "Relatório final da compra\n",
            "Comprado: hamburger\n",
            "Comprado: refrigerante\n",
            "**************************\n",
            "Total da compra: 200\n",
            "**************************\n"
          ],
          "name": "stdout"
        }
      ]
    }
  ]
}