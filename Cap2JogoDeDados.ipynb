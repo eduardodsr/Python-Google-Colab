{
  "nbformat": 4,
  "nbformat_minor": 0,
  "metadata": {
    "colab": {
      "name": "Cap2JogoDeDados.ipynb",
      "provenance": [],
      "collapsed_sections": [],
      "authorship_tag": "ABX9TyPd4a4CIZcAs3SQxF7XfkUI",
      "include_colab_link": true
    },
    "kernelspec": {
      "name": "python3",
      "display_name": "Python 3"
    }
  },
  "cells": [
    {
      "cell_type": "markdown",
      "metadata": {
        "id": "view-in-github",
        "colab_type": "text"
      },
      "source": [
        "<a href=\"https://colab.research.google.com/github/eduardodsr/Python-Google-Colab/blob/master/Cap2JogoDeDados.ipynb\" target=\"_parent\"><img src=\"https://colab.research.google.com/assets/colab-badge.svg\" alt=\"Open In Colab\"/></a>"
      ]
    },
    {
      "cell_type": "code",
      "metadata": {
        "id": "C-kSCcqUMEWp"
      },
      "source": [
        "# Capítulo 2 (Expressões Booleanas)\n",
        "\n",
        "✅ [aula 3.1] Jogo de Dados\n",
        "\n",
        "✅ [aula 3.2] Jogo de Dados"
      ],
      "execution_count": null,
      "outputs": []
    },
    {
      "cell_type": "code",
      "metadata": {
        "id": "hK7IXfrwMYUp",
        "outputId": "1a7ed7ff-7ca0-45e3-ff42-f52b348e4c96",
        "colab": {
          "base_uri": "https://localhost:8080/",
          "height": 119
        }
      },
      "source": [
        "# Jogo de Dados - Regras:\n",
        "# Escolha o valor entre 1 e 6\n",
        "# Escolha quanto quer apostar. \n",
        "# Jogo 2 dados:\n",
        "# Se 1º dado - resultado for igual. Ganho 2 vezes o valor apostado\n",
        "# Se 2º dado - resultado for igual. Ganho 10 vezes o valor apostado.\n",
        "# Se não der nenhum dados igual perco o valor apostado.\n",
        "\n",
        "# comando para importar a biblioteca random - vamos usar a função randrange()\n",
        "from random import randrange\n",
        "\n",
        "print(' # Jogo de Dados #')\n",
        "\n",
        "numero_aposta = int(input('Qual o número você aposta (1 até 6): '))\n",
        "valor_aposta = float(input('Qual o valor da aposta: '))\n",
        "\n",
        "dado1 = randrange(1,6) # Gera um numero aleatório entre 1 até 6.\n",
        "dado2 = randrange(1,6)\n",
        "print('Números sorteados {} e {}.'.format(dado1, dado2))\n",
        "\n",
        "resultado = 0\n",
        "if (dado1 == numero_aposta)and(dado2 == numero_aposta):  \n",
        "  resultado = valor_aposta*10  \n",
        "  print('Você ganho ${}.'.format(resultado))\n",
        "elif (dado1 == numero_aposta)and (dado2 != numero_aposta):\n",
        "  resultado = valor_aposta*2\n",
        "  print('Você ganho ${}.'.format(resultado))\n",
        "elif (dado2 == numero_aposta)and (dado1 != numero_aposta):\n",
        "  resultado = valor_aposta*2\n",
        "  print('Você ganho ${}.'.format(resultado))\n",
        "else:\n",
        "  resultado = valor_aposta\n",
        "  print('Você perdeu ${}.'.format(resultado))\n",
        "\n",
        "print('FIM')"
      ],
      "execution_count": 38,
      "outputs": [
        {
          "output_type": "stream",
          "text": [
            " # Jogo de Dados #\n",
            "Qual o número você aposta (1 até 6): 1\n",
            "Qual o valor da aposta: 100\n",
            "Números sorteados 2 e 4.\n",
            "Você perdeu $100.0.\n",
            "FIM\n"
          ],
          "name": "stdout"
        }
      ]
    }
  ]
}