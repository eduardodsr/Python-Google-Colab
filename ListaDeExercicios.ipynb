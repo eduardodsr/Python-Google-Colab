{
  "nbformat": 4,
  "nbformat_minor": 0,
  "metadata": {
    "colab": {
      "name": "ListaDeExercicios.ipynb",
      "provenance": [],
      "collapsed_sections": [],
      "authorship_tag": "ABX9TyPHzqO3knOTvOn34OVlT9gt",
      "include_colab_link": true
    },
    "kernelspec": {
      "name": "python3",
      "display_name": "Python 3"
    }
  },
  "cells": [
    {
      "cell_type": "markdown",
      "metadata": {
        "id": "view-in-github",
        "colab_type": "text"
      },
      "source": [
        "<a href=\"https://colab.research.google.com/github/eduardodsr/Python-Google-Colab/blob/master/ListaDeExercicios.ipynb\" target=\"_parent\"><img src=\"https://colab.research.google.com/assets/colab-badge.svg\" alt=\"Open In Colab\"/></a>"
      ]
    },
    {
      "cell_type": "markdown",
      "metadata": {
        "id": "BNV-FidivWZr"
      },
      "source": [
        "https://wiki.python.org.br/ListaDeExercicios\n",
        "\n",
        "**Lista De Exercicios**\n",
        "\n",
        "Esta é uma lista com sugestões de programas para iniciantes em programação. Os exercícios podem ser implementados em pseudo-código, Python, C, C++, Java, Pascal ou em qualquer outra linguagem. Os exercícios estão divididos em categorias e procuram obedecer uma ordem de dificuldade crescente. Cada exercício é independente do outro, sendo possível deixar exercícios para trás sem grandes prejuízos.\n",
        "\n",
        "Lista de exercícios:\n",
        "\n",
        "1. EstruturaSequencial\n",
        "\n",
        "1. EstruturaDeDecisao\n",
        "\n",
        "1. EstruturaDeRepeticao\n",
        "\n",
        "1. ExerciciosListas\n",
        "\n",
        "1. ExerciciosFuncoes\n",
        "\n",
        "1. ExerciciosComStrings\n",
        "\n",
        "1. ExerciciosArquivos\n",
        "\n",
        "1. ExerciciosClasses\n",
        "\n",
        "1. ListaDeExerciciosProjetos\n"
      ]
    },
    {
      "cell_type": "markdown",
      "metadata": {
        "id": "pzRL7D0Wv2A0"
      },
      "source": [
        "**1. Estrutura Sequencial**\n",
        "\n",
        "1.1 Faça um Programa que mostre a mensagem \"Alo mundo\" na tela."
      ]
    },
    {
      "cell_type": "code",
      "metadata": {
        "id": "JjqEVQnJwZ6q",
        "outputId": "6f596222-2951-4b0f-a2be-a18f9437cde9",
        "colab": {
          "base_uri": "https://localhost:8080/",
          "height": 34
        }
      },
      "source": [
        "print('Alo mundo')"
      ],
      "execution_count": 1,
      "outputs": [
        {
          "output_type": "stream",
          "text": [
            "Alo mundo\n"
          ],
          "name": "stdout"
        }
      ]
    },
    {
      "cell_type": "markdown",
      "metadata": {
        "id": "7f52su8WwmBi"
      },
      "source": [
        "1.2 Faça um Programa que peça um número e então mostre a mensagem O número informado foi [número]."
      ]
    },
    {
      "cell_type": "code",
      "metadata": {
        "id": "sbFc3MokwoZq",
        "outputId": "df9e499b-3f6b-400a-9ba6-b8210c6897cc",
        "colab": {
          "base_uri": "https://localhost:8080/",
          "height": 51
        }
      },
      "source": [
        "numero = input('Digite um número: ') \n",
        "print('O número digitado foi: {}'.format(numero))"
      ],
      "execution_count": 4,
      "outputs": [
        {
          "output_type": "stream",
          "text": [
            "Digite um número: 15\n",
            "O número digitado foi: 15\n"
          ],
          "name": "stdout"
        }
      ]
    },
    {
      "cell_type": "markdown",
      "metadata": {
        "id": "s7fqXuIZxR4P"
      },
      "source": [
        "1.3 Faça um Programa que peça dois números e imprima a soma."
      ]
    },
    {
      "cell_type": "code",
      "metadata": {
        "id": "9pTTT5PxxRWA",
        "outputId": "e5150615-1a0f-46e0-b36c-88caf7e28d5c",
        "colab": {
          "base_uri": "https://localhost:8080/",
          "height": 68
        }
      },
      "source": [
        "num1 = int(input('Digite o primeiro numero inteiro: '))\n",
        "num2 = int(input('Digite o segundo numero inteiro: '))\n",
        "soma=num1+num2\n",
        "print(soma)"
      ],
      "execution_count": 6,
      "outputs": [
        {
          "output_type": "stream",
          "text": [
            "Digite o primeiro numero inteiro: 4\n",
            "Digite o segundo numero inteiro: 6\n",
            "10\n"
          ],
          "name": "stdout"
        }
      ]
    },
    {
      "cell_type": "markdown",
      "metadata": {
        "id": "hIFKGkIPx4_Y"
      },
      "source": [
        "1.4 Faça um Programa que peça as 4 notas bimestrais e mostre a média."
      ]
    },
    {
      "cell_type": "code",
      "metadata": {
        "id": "kAVgzzS8x64K",
        "outputId": "8e1a8a88-a24a-4b1b-c4d2-9198d3f38349",
        "colab": {
          "base_uri": "https://localhost:8080/",
          "height": 102
        }
      },
      "source": [
        "b1=int(input('Digite a Nota B1: '))\n",
        "b2=int(input('Digite a Nota B2: '))\n",
        "b3=int(input('Digite a Nota B3: '))\n",
        "b4=int(input('Digite a Nota B4: '))\n",
        "media=(b1+b2+b3+b4)/4\n",
        "print('A média é {}'.format(media))"
      ],
      "execution_count": 11,
      "outputs": [
        {
          "output_type": "stream",
          "text": [
            "Digite a Nota B1: 60\n",
            "Digite a Nota B2: 70\n",
            "Digite a Nota B3: 80\n",
            "Digite a Nota B4: 90\n",
            "A média é 75.0\n"
          ],
          "name": "stdout"
        }
      ]
    },
    {
      "cell_type": "markdown",
      "metadata": {
        "id": "Yd1_pp6TzlU_"
      },
      "source": [
        "1.5 Faça um Programa que converta metros para centímetros."
      ]
    },
    {
      "cell_type": "code",
      "metadata": {
        "id": "cVq_ATdDziId",
        "outputId": "c8056966-195a-412c-c0d0-5cd7cd70ccb3",
        "colab": {
          "base_uri": "https://localhost:8080/",
          "height": 68
        }
      },
      "source": [
        "print('*****Programa que converta metros para centímetros*****')\n",
        "metros=int(input('Metros: '))\n",
        "conversao = metros*100 # multiplique o valor de comprimento por 100\n",
        "print('{} m tem {} cm'.format(metros, conversao))"
      ],
      "execution_count": 20,
      "outputs": [
        {
          "output_type": "stream",
          "text": [
            "*****Programa que converta metros para centímetros*****\n",
            "Metros: 2\n",
            "2 m tem 200 cm\n"
          ],
          "name": "stdout"
        }
      ]
    },
    {
      "cell_type": "markdown",
      "metadata": {
        "id": "o6KmRJIM1zaZ"
      },
      "source": [
        "1.6 Faça um Programa que peça o raio de um círculo, calcule e mostre sua área."
      ]
    },
    {
      "cell_type": "code",
      "metadata": {
        "id": "-ysTaZOf2GZ0",
        "outputId": "2cfd4f50-a0bb-4000-ad9b-9cf572c769e7",
        "colab": {
          "base_uri": "https://localhost:8080/",
          "height": 51
        }
      },
      "source": [
        "pi = 3.14\n",
        "r = float(input('Digite a área do Circulo em metros: '))\n",
        "a = pi*(r**2) # a = pi*(r*r) # \n",
        "print('A area do circulo é: {} m²'.format(a))"
      ],
      "execution_count": 24,
      "outputs": [
        {
          "output_type": "stream",
          "text": [
            "Digite a área do Circulo em metros: 3.5\n",
            "A area do circulo é: 38.465 m²\n"
          ],
          "name": "stdout"
        }
      ]
    },
    {
      "cell_type": "markdown",
      "metadata": {
        "id": "GLOiulDu3W80"
      },
      "source": [
        "1.7 Faça um Programa que calcule a área de um quadrado, em seguida mostre o dobro desta área para o usuário."
      ]
    },
    {
      "cell_type": "code",
      "metadata": {
        "id": "ZPojO_zC3Y4Z",
        "outputId": "6c7c1060-759a-4a26-c775-72ed6d2c7380",
        "colab": {
          "base_uri": "https://localhost:8080/",
          "height": 68
        }
      },
      "source": [
        "b = float(input('Digite a base: '))\n",
        "h = float(input('Digite a altura: '))\n",
        "a = b*h\n",
        "print('área de um quadrado: {}m², o dobro da área é {}m²'.format(a, a*a))"
      ],
      "execution_count": 28,
      "outputs": [
        {
          "output_type": "stream",
          "text": [
            "Digite a base: 2\n",
            "Digite a altura: 4\n",
            "área de um quadrado: 8.0m², o dobro da área é 64.0m²\n"
          ],
          "name": "stdout"
        }
      ]
    },
    {
      "cell_type": "markdown",
      "metadata": {
        "id": "1-2FdcmX3spu"
      },
      "source": [
        ""
      ]
    }
  ]
}