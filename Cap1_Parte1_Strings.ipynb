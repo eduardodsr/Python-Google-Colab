{
  "nbformat": 4,
  "nbformat_minor": 0,
  "metadata": {
    "colab": {
      "name": "Cap1_Parte1_Strings.ipynb",
      "provenance": [],
      "authorship_tag": "ABX9TyNjDtC2Z8VHrdN61VCNfp7v",
      "include_colab_link": true
    },
    "kernelspec": {
      "name": "python3",
      "display_name": "Python 3"
    }
  },
  "cells": [
    {
      "cell_type": "markdown",
      "metadata": {
        "id": "view-in-github",
        "colab_type": "text"
      },
      "source": [
        "<a href=\"https://colab.research.google.com/github/eduardodsr/Python-Google-Colab/blob/master/Cap1_Parte1_Strings.ipynb\" target=\"_parent\"><img src=\"https://colab.research.google.com/assets/colab-badge.svg\" alt=\"Open In Colab\"/></a>"
      ]
    },
    {
      "cell_type": "code",
      "metadata": {
        "id": "jcLXQmm1-WON",
        "colab_type": "code",
        "colab": {
          "base_uri": "https://localhost:8080/",
          "height": 34
        },
        "outputId": "1c277248-60b5-4274-c36c-97d324828eee"
      },
      "source": [
        "print('Hello World')"
      ],
      "execution_count": null,
      "outputs": [
        {
          "output_type": "stream",
          "text": [
            "Hello World\n"
          ],
          "name": "stdout"
        }
      ]
    },
    {
      "cell_type": "code",
      "metadata": {
        "id": "BBKLY8pn3JRQ",
        "colab_type": "code",
        "colab": {
          "base_uri": "https://localhost:8080/",
          "height": 34
        },
        "outputId": "b7c1e021-7085-4c15-c7d5-bbefe9968fdd"
      },
      "source": [
        "nome = 'Eduardo, de idade {} anos e tem {} quilos.'\n",
        "idade = 18\n",
        "peso = 81\n",
        "print(nome.format(idade, peso))"
      ],
      "execution_count": 1,
      "outputs": [
        {
          "output_type": "stream",
          "text": [
            "Eduardo, de idade 18 anos e tem 81 quilos\n"
          ],
          "name": "stdout"
        }
      ]
    },
    {
      "cell_type": "code",
      "metadata": {
        "id": "8CnpWsUq871S",
        "colab_type": "code",
        "colab": {
          "base_uri": "https://localhost:8080/",
          "height": 85
        },
        "outputId": "2b100523-392d-41fd-aa84-fefd6688c073"
      },
      "source": [
        "# Isso é um comentário\n",
        "nome = input('Digite o seu nome: ')\n",
        "sobrenome = input('Digite o seu sobrenome: ')\n",
        "print(nome)\n",
        "print(sobrenome)"
      ],
      "execution_count": null,
      "outputs": [
        {
          "output_type": "stream",
          "text": [
            "Digite o seu nome: Eduardo\n",
            "Digite o seu sobrenome: Rodrigues\n",
            "Eduardo\n",
            "Rodrigues\n"
          ],
          "name": "stdout"
        }
      ]
    },
    {
      "cell_type": "code",
      "metadata": {
        "id": "gQeMCemxAhu4",
        "colab_type": "code",
        "colab": {
          "base_uri": "https://localhost:8080/",
          "height": 68
        },
        "outputId": "9a6e071d-6f1b-45c9-f54e-6da9bc96b6c1"
      },
      "source": [
        "# Programa pedir o nome e sobrenome, retonar Sobrenome, nome\n",
        "nome = input('Nome: ')\n",
        "sobrenome = input('Sobrenome: ')\n",
        "print('O seu sobrenome é {}, o seu nome é {}'.format(sobrenome, nome))"
      ],
      "execution_count": null,
      "outputs": [
        {
          "output_type": "stream",
          "text": [
            "Nome: Eduardo\n",
            "Sobrenome: Rodrigues\n",
            "O seu sobrenome é Rodrigues, o seu nome é Eduardo\n"
          ],
          "name": "stdout"
        }
      ]
    },
    {
      "cell_type": "code",
      "metadata": {
        "id": "-3N-fA-KBqqg",
        "colab_type": "code",
        "colab": {
          "base_uri": "https://localhost:8080/",
          "height": 68
        },
        "outputId": "257559c9-119e-454d-d432-36b86265e1cf"
      },
      "source": [
        "nome = input('Nome: ')\n",
        "sobrenome = input('Sobrenome: ')\n",
        "print('Nome: {}, Sobrenome: {}'.format(nome, sobrenome))"
      ],
      "execution_count": null,
      "outputs": [
        {
          "output_type": "stream",
          "text": [
            "Nome: Eduardo\n",
            "Sobrenome: Rodrigues\n",
            "Nome: Eduardo, Sobrenome: Rodrigues\n"
          ],
          "name": "stdout"
        }
      ]
    },
    {
      "cell_type": "code",
      "metadata": {
        "id": "-C7bC28XCoez",
        "colab_type": "code",
        "colab": {
          "base_uri": "https://localhost:8080/",
          "height": 68
        },
        "outputId": "24682b5e-955a-4049-f3bb-1e86ead2a01a"
      },
      "source": [
        "# capitalize() - Retorna a primeira letra da Str em maisculo.\n",
        "nome = input('Nome: ')\n",
        "sobrenome = input('Sobrenome: ')\n",
        "print('Nome: {}, Sobrenome: {}'.format(nome.capitalize(), sobrenome.capitalize()))\n"
      ],
      "execution_count": null,
      "outputs": [
        {
          "output_type": "stream",
          "text": [
            "Nome: eduardo\n",
            "Sobrenome: rodrigues\n",
            "Nome: Eduardo, Sobrenome: Rodrigues\n"
          ],
          "name": "stdout"
        }
      ]
    },
    {
      "cell_type": "code",
      "metadata": {
        "id": "Sv0qtGg4EBT_",
        "colab_type": "code",
        "colab": {
          "base_uri": "https://localhost:8080/",
          "height": 68
        },
        "outputId": "98aaedfc-cdfb-4b1d-c5f1-41a163b11e46"
      },
      "source": [
        "# Outra forma de utilizar função capitalize() - retorna a primeira letra da Str maiusculo\n",
        "nome = input('Nome: ')\n",
        "sobrenome = input('Sobrenome: ')\n",
        "nome = nome.capitalize()\n",
        "sobrenome = sobrenome.capitalize()\n",
        "print('Nome: {} e Sobrenome: {}'.format(nome, sobrenome))"
      ],
      "execution_count": null,
      "outputs": [
        {
          "output_type": "stream",
          "text": [
            "Nome: eduardo\n",
            "Sobrenome: rodrigues\n",
            "Nome: Eduardo e Sobrenome: Rodrigues\n"
          ],
          "name": "stdout"
        }
      ]
    },
    {
      "cell_type": "code",
      "metadata": {
        "id": "jsjatbcZF1sx",
        "colab_type": "code",
        "colab": {
          "base_uri": "https://localhost:8080/",
          "height": 34
        },
        "outputId": "5d912857-e581-4fea-c3de-0393ff3b21da"
      },
      "source": [
        "nome_completo = nome + ' ' + sobrenome\n",
        "print('Nome completo: {} '.format(nome_completo))"
      ],
      "execution_count": null,
      "outputs": [
        {
          "output_type": "stream",
          "text": [
            "Nome completo: Eduardo Rodrigues \n"
          ],
          "name": "stdout"
        }
      ]
    },
    {
      "cell_type": "code",
      "metadata": {
        "id": "mM62RpU7GleR",
        "colab_type": "code",
        "colab": {
          "base_uri": "https://localhost:8080/",
          "height": 34
        },
        "outputId": "9617197d-e19b-45d8-d70d-9134a4996414"
      },
      "source": [
        "# len() retornar o tamanho da str \n",
        "nome = 'Eduardo da Silva Rodrigues'\n",
        "print(len(nome)) "
      ],
      "execution_count": null,
      "outputs": [
        {
          "output_type": "stream",
          "text": [
            "26\n"
          ],
          "name": "stdout"
        }
      ]
    },
    {
      "cell_type": "code",
      "metadata": {
        "id": "-mLSXNHAG-oL",
        "colab_type": "code",
        "colab": {
          "base_uri": "https://localhost:8080/",
          "height": 119
        },
        "outputId": "75dcda95-2d00-4d76-c6e9-8d9708b617d5"
      },
      "source": [
        "# split() criar um lista separada com os itens da str\n",
        "nome_dividido = nome.split()\n",
        "print(nome_dividido)\n",
        "print(nome_dividido[0])   # Primeiro indice da lista str\n",
        "print(nome_dividido[1])   # Segundo indice da lista str\n",
        "print(nome_dividido[2])   # Terceiro indice da lista str\n",
        "print(nome_dividido[3])   # Quarto indice da lista str\n",
        "print(nome_dividido[-1])  # Ultimo elemento da lista\n"
      ],
      "execution_count": null,
      "outputs": [
        {
          "output_type": "stream",
          "text": [
            "['Eduardo', 'da', 'Silva', 'Rodrigues']\n",
            "Eduardo\n",
            "da\n",
            "Silva\n",
            "Rodrigues\n",
            "Rodrigues\n"
          ],
          "name": "stdout"
        }
      ]
    },
    {
      "cell_type": "code",
      "metadata": {
        "id": "z5aOA6Bja8b5",
        "colab_type": "code",
        "colab": {
          "base_uri": "https://localhost:8080/",
          "height": 51
        },
        "outputId": "bc2f3e3b-c66c-4b06-bd46-b5fdc954d7d7"
      },
      "source": [
        "nome = 'Joaquim José da Silva Xavier'\n",
        "tamanho = len(nome) \n",
        "print('tamanho do nome: {}'.format(tamanho))\n",
        "\n",
        "# print(len(nome))  # tamanho do nome\n",
        "\n",
        "nome_dividido = nome.split()  #  split() divide a str pelo espaço em branco\n",
        "print('Nome: {} | Sobrenome: {} '.format(nome_dividido[0], nome_dividido[-1]))"
      ],
      "execution_count": null,
      "outputs": [
        {
          "output_type": "stream",
          "text": [
            "tamanho do nome: 28\n",
            "Nome: Joaquim | Sobrenome: Xavier \n"
          ],
          "name": "stdout"
        }
      ]
    },
    {
      "cell_type": "code",
      "metadata": {
        "id": "K6F0RnS4c-2X",
        "colab_type": "code",
        "colab": {
          "base_uri": "https://localhost:8080/",
          "height": 34
        },
        "outputId": "c3562e8d-3f9f-4b78-a8f4-51a69a796cbd"
      },
      "source": [
        "# split(';') separa a str pelo elemento selecionando dentro da função split\n",
        "nome = 'Joaquim,José,da Silva,Xavier'\n",
        "nome_dividido_split = nome.split(';')\n",
        "print(nome_dividido_split)"
      ],
      "execution_count": null,
      "outputs": [
        {
          "output_type": "stream",
          "text": [
            "['Joaquim,José,da Silva,Xavier']\n"
          ],
          "name": "stdout"
        }
      ]
    },
    {
      "cell_type": "code",
      "metadata": {
        "id": "Un5xqWgRfsD9",
        "colab_type": "code",
        "colab": {
          "base_uri": "https://localhost:8080/",
          "height": 34
        },
        "outputId": "9b54a367-9f84-49ae-d6a8-e9d8223cf785"
      },
      "source": [
        "nome = 'Joaquim José da Silva Xavier'\n",
        "nome = nome[0:7]  # posição do índice de 0 até 7, ou seja, último intervalo não é contado\n",
        "# Python os ultimo elemento é intervalo aberto, ou seja, não vai estar último posição do intervalo\n",
        "print(nome)"
      ],
      "execution_count": null,
      "outputs": [
        {
          "output_type": "stream",
          "text": [
            "Joaquim\n"
          ],
          "name": "stdout"
        }
      ]
    },
    {
      "cell_type": "code",
      "metadata": {
        "id": "-KIXoBZsjRLP",
        "colab_type": "code",
        "colab": {
          "base_uri": "https://localhost:8080/",
          "height": 34
        },
        "outputId": "129b2280-d882-4cda-cbab-47dafc9155e7"
      },
      "source": [
        "nome = 'Joaquim José da Silva Xavier'\n",
        "# Pegar as  21 primeiras posições do índice da str nome 'Joaquim José da Silva'\n",
        "nome = nome[0:21]\n",
        "print(nome)"
      ],
      "execution_count": null,
      "outputs": [
        {
          "output_type": "stream",
          "text": [
            "Joaquim José da Silva\n"
          ],
          "name": "stdout"
        }
      ]
    },
    {
      "cell_type": "code",
      "metadata": {
        "id": "KqM-P3HVj3mC",
        "colab_type": "code",
        "colab": {
          "base_uri": "https://localhost:8080/",
          "height": 34
        },
        "outputId": "deea2f4b-3c1c-4f96-e59e-6fd2a19f8998"
      },
      "source": [
        "nome = 'Joaquim José da Silva Xavier'\n",
        "# Pegar as  6 últimas posições do índice da str nome 'Xavier'\n",
        "nome = nome[-6:]\n",
        "print(nome)"
      ],
      "execution_count": null,
      "outputs": [
        {
          "output_type": "stream",
          "text": [
            "Xavier\n"
          ],
          "name": "stdout"
        }
      ]
    },
    {
      "cell_type": "code",
      "metadata": {
        "id": "nHOKbWXVkMO6",
        "colab_type": "code",
        "colab": {
          "base_uri": "https://localhost:8080/",
          "height": 51
        },
        "outputId": "c772ae1a-823f-4154-f5cb-a9a7d95e6f2c"
      },
      "source": [
        "nome = input('Digite o seu nome: ')\n",
        "print('Será gravado até 20 letras. Foi gravado somente {}'.format(nome[0:20]))"
      ],
      "execution_count": null,
      "outputs": [
        {
          "output_type": "stream",
          "text": [
            "Digite o seu nome: Joaquim José da Silva Xavier\n",
            "Será gravado até 20 letras. Foi gravado somente Joaquim José da Silv\n"
          ],
          "name": "stdout"
        }
      ]
    },
    {
      "cell_type": "code",
      "metadata": {
        "id": "Sg2UHg-llBdi",
        "colab_type": "code",
        "colab": {
          "base_uri": "https://localhost:8080/",
          "height": 51
        },
        "outputId": "80d4ef15-b616-4907-a154-b526a047d692"
      },
      "source": [
        "nome = input('Digite o seu nome: ')\n",
        "primeiro_espaco = nome.index(' ') # Retorna o index do elemento selecionado na função\n",
        "print(primeiro_espaco)"
      ],
      "execution_count": null,
      "outputs": [
        {
          "output_type": "stream",
          "text": [
            "Digite o seu nome: Joaquim José da Silva Xavier\n",
            "7\n"
          ],
          "name": "stdout"
        }
      ]
    },
    {
      "cell_type": "code",
      "metadata": {
        "id": "0URLe8g_lb30",
        "colab_type": "code",
        "colab": {
          "base_uri": "https://localhost:8080/",
          "height": 51
        },
        "outputId": "8e3f76e9-dc79-4201-9f77-63f036f35c9b"
      },
      "source": [
        "nome = input('Digite o seu nome: ')\n",
        "primeiro_nome = nome.index(' ')\n",
        "print('O primeiro nome é :{}'.format(nome[0:primeiro_nome]))"
      ],
      "execution_count": null,
      "outputs": [
        {
          "output_type": "stream",
          "text": [
            "Digite o seu nome: Joaquim José da Silva Xavier\n",
            "O primeiro nome é :Joaquim\n"
          ],
          "name": "stdout"
        }
      ]
    },
    {
      "cell_type": "code",
      "metadata": {
        "id": "rgg8tJguoVPS",
        "colab_type": "code",
        "colab": {
          "base_uri": "https://localhost:8080/",
          "height": 34
        },
        "outputId": "c529b934-abfe-4c84-870d-a185777062a7"
      },
      "source": [
        "frase ='    Esta é uma str de teste com 4 espaços no inicio e fim   '\n",
        "print('*{}*'.format(frase))"
      ],
      "execution_count": null,
      "outputs": [
        {
          "output_type": "stream",
          "text": [
            "*    Esta é uma str de teste com 4 espaços no inicio e fim   *\n"
          ],
          "name": "stdout"
        }
      ]
    },
    {
      "cell_type": "code",
      "metadata": {
        "id": "IMa3E546s4J7",
        "colab_type": "code",
        "colab": {}
      },
      "source": [
        ""
      ],
      "execution_count": null,
      "outputs": []
    },
    {
      "cell_type": "code",
      "metadata": {
        "id": "K5vhTJrgpbwp",
        "colab_type": "code",
        "colab": {
          "base_uri": "https://localhost:8080/",
          "height": 34
        },
        "outputId": "7279070e-08ee-454e-aa2f-c49b9b3e7136"
      },
      "source": [
        "# strip() retira o espaço em branco de uma str\n",
        "frase ='    Esta é uma str de teste com 4 espaços no inicio e fim   '\n",
        "frase = frase.strip() # remove todos os caracteres em branco do inicio e fim da frase\n",
        "print('*{}*'.format(frase))\n",
        "\n",
        "# frase_remove_espaco_esquerda = frase.lstrip()\n",
        "# frase_remove_espaco_direita = frase.rstrip()\n",
        "# print('*{}*'.format(frase_remove_espaco_esquerda))\n",
        "# print('*{}*'.format(frase_remove_espaco_direita))"
      ],
      "execution_count": null,
      "outputs": [
        {
          "output_type": "stream",
          "text": [
            "*Esta é uma str de teste com 4 espaços no inicio e fim*\n"
          ],
          "name": "stdout"
        }
      ]
    },
    {
      "cell_type": "code",
      "metadata": {
        "id": "gsAL1Y_PrMjU",
        "colab_type": "code",
        "colab": {
          "base_uri": "https://localhost:8080/",
          "height": 34
        },
        "outputId": "5f400aa6-ff5b-419f-c63a-e1e3f61f4b89"
      },
      "source": [
        "# strip() retira o espaço em branco de uma str\n",
        "frase ='----Esta é uma str de teste com 4 hifens no inicio e 4 espaços no fim    '\n",
        "frase = frase.strip('-').strip(' ') # Retirar os 4 hifens no inicio e 4 espaços no fim \n",
        "print('*{}*'.format(frase))"
      ],
      "execution_count": null,
      "outputs": [
        {
          "output_type": "stream",
          "text": [
            "*Esta é uma str de teste com 4 hifens no inicio e 4 espaços no fim*\n"
          ],
          "name": "stdout"
        }
      ]
    },
    {
      "cell_type": "code",
      "metadata": {
        "id": "AmKGe5BJrAQ3",
        "colab_type": "code",
        "colab": {
          "base_uri": "https://localhost:8080/",
          "height": 34
        },
        "outputId": "e0308117-bd69-40b4-8f2e-f4d803cca81d"
      },
      "source": [
        "idade='dezanos'\n",
        "print(idade.isalpha())  # isalpha() verifica se é alfanumerico. Retorna Bolean (True or False)"
      ],
      "execution_count": null,
      "outputs": [
        {
          "output_type": "stream",
          "text": [
            "True\n"
          ],
          "name": "stdout"
        }
      ]
    },
    {
      "cell_type": "code",
      "metadata": {
        "id": "p_4_arnrsqxS",
        "colab_type": "code",
        "colab": {
          "base_uri": "https://localhost:8080/",
          "height": 51
        },
        "outputId": "7ab9526a-d767-42ce-cc25-6c332994d881"
      },
      "source": [
        "idade = 10  # int\n",
        "print(idade)\n",
        "type(idade)"
      ],
      "execution_count": null,
      "outputs": [
        {
          "output_type": "stream",
          "text": [
            "10\n"
          ],
          "name": "stdout"
        },
        {
          "output_type": "execute_result",
          "data": {
            "text/plain": [
              "int"
            ]
          },
          "metadata": {
            "tags": []
          },
          "execution_count": 95
        }
      ]
    },
    {
      "cell_type": "code",
      "metadata": {
        "id": "-1XQWoEks5fU",
        "colab_type": "code",
        "colab": {
          "base_uri": "https://localhost:8080/",
          "height": 51
        },
        "outputId": "0cb4ca2f-5ec0-4df1-dee7-3f5bd95795b5"
      },
      "source": [
        "idade = '10'  # str\n",
        "print(idade)\n",
        "type(idade)"
      ],
      "execution_count": null,
      "outputs": [
        {
          "output_type": "stream",
          "text": [
            "10\n"
          ],
          "name": "stdout"
        },
        {
          "output_type": "execute_result",
          "data": {
            "text/plain": [
              "str"
            ]
          },
          "metadata": {
            "tags": []
          },
          "execution_count": 96
        }
      ]
    },
    {
      "cell_type": "code",
      "metadata": {
        "id": "czKPx09ItJsv",
        "colab_type": "code",
        "colab": {
          "base_uri": "https://localhost:8080/",
          "height": 51
        },
        "outputId": "79561ef0-13bc-43f9-dffe-1a1ebf776f37"
      },
      "source": [
        "idade = input('Digite a sua idade: ')\n",
        "print(idade.isdigit())  # isdigit() verifica se é um digito. Retorna Bolean (True or False)"
      ],
      "execution_count": null,
      "outputs": [
        {
          "output_type": "stream",
          "text": [
            "Digite a sua idade: Trinta anos\n",
            "False\n"
          ],
          "name": "stdout"
        }
      ]
    },
    {
      "cell_type": "code",
      "metadata": {
        "id": "xf0oaTr3tqpl",
        "colab_type": "code",
        "colab": {
          "base_uri": "https://localhost:8080/",
          "height": 68
        },
        "outputId": "13e5609d-6c2a-4d53-8e7c-cfe9d5d14f18"
      },
      "source": [
        "peso = input('Qual é o seu peso: ')\n",
        "peso_dividido = peso.split('.')\n",
        "print(peso_dividido[0].isdigit())\n",
        "print(peso_dividido[1].isdigit())\n"
      ],
      "execution_count": 2,
      "outputs": [
        {
          "output_type": "stream",
          "text": [
            "Qual é o seu peso: 81.5\n",
            "True\n",
            "True\n"
          ],
          "name": "stdout"
        }
      ]
    }
  ]
}