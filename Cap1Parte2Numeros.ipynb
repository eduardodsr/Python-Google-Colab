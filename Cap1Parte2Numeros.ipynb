{
  "nbformat": 4,
  "nbformat_minor": 0,
  "metadata": {
    "colab": {
      "name": "Cap1Parte2Numeros.ipynb",
      "provenance": [],
      "collapsed_sections": [],
      "authorship_tag": "ABX9TyOX0ZjEJJvSJKVgKUDAJkDW",
      "include_colab_link": true
    },
    "kernelspec": {
      "name": "python3",
      "display_name": "Python 3"
    }
  },
  "cells": [
    {
      "cell_type": "markdown",
      "metadata": {
        "id": "view-in-github",
        "colab_type": "text"
      },
      "source": [
        "<a href=\"https://colab.research.google.com/github/eduardodsr/Python-Google-Colab/blob/master/Cap1Parte2Numeros.ipynb\" target=\"_parent\"><img src=\"https://colab.research.google.com/assets/colab-badge.svg\" alt=\"Open In Colab\"/></a>"
      ]
    },
    {
      "cell_type": "markdown",
      "metadata": {
        "id": "1xEDCbR9a52z"
      },
      "source": [
        "Capítulo 1 (Números)\n",
        "\n",
        "✅ [aula 4] Números\n"
      ]
    },
    {
      "cell_type": "code",
      "metadata": {
        "id": "1vlIl5gXa_Lv",
        "outputId": "e6d84429-2d84-4b39-85f5-d49befc48d93",
        "colab": {
          "base_uri": "https://localhost:8080/",
          "height": 51
        }
      },
      "source": [
        "# Exemplo Número Inteiro\n",
        "idade = 18\n",
        "print(idade)\n",
        "type(idade)"
      ],
      "execution_count": null,
      "outputs": [
        {
          "output_type": "stream",
          "text": [
            "18\n"
          ],
          "name": "stdout"
        },
        {
          "output_type": "execute_result",
          "data": {
            "text/plain": [
              "int"
            ]
          },
          "metadata": {
            "tags": []
          },
          "execution_count": 3
        }
      ]
    },
    {
      "cell_type": "code",
      "metadata": {
        "id": "OCvvf4_IbdH_",
        "outputId": "3bd03789-4f7e-472a-939f-1cd9d3d81ee4",
        "colab": {
          "base_uri": "https://localhost:8080/",
          "height": 51
        }
      },
      "source": [
        "# Exemplo Número Float\n",
        "peso = 80.9\n",
        "print(peso)\n",
        "type(peso)"
      ],
      "execution_count": null,
      "outputs": [
        {
          "output_type": "stream",
          "text": [
            "80.9\n"
          ],
          "name": "stdout"
        },
        {
          "output_type": "execute_result",
          "data": {
            "text/plain": [
              "float"
            ]
          },
          "metadata": {
            "tags": []
          },
          "execution_count": 4
        }
      ]
    },
    {
      "cell_type": "code",
      "metadata": {
        "id": "ppkiyR_CbrzS",
        "outputId": "31d53167-950f-418b-a410-a9d99a348f1a",
        "colab": {
          "base_uri": "https://localhost:8080/",
          "height": 51
        }
      },
      "source": [
        "# Exemplo Número Inteiro\n",
        "preco_arroz = 5\n",
        "quilo = 10\n",
        "resultado = preco_arroz * quilo\n",
        "print(resultado)\n",
        "type(resultado)"
      ],
      "execution_count": null,
      "outputs": [
        {
          "output_type": "stream",
          "text": [
            "50\n"
          ],
          "name": "stdout"
        },
        {
          "output_type": "execute_result",
          "data": {
            "text/plain": [
              "int"
            ]
          },
          "metadata": {
            "tags": []
          },
          "execution_count": 10
        }
      ]
    },
    {
      "cell_type": "code",
      "metadata": {
        "id": "bP3qNtBpb8A6",
        "outputId": "d32c50ed-30d7-4629-eb82-f8dcc20bc0d1",
        "colab": {
          "base_uri": "https://localhost:8080/",
          "height": 51
        }
      },
      "source": [
        "# Exemplo Número Float\n",
        "preco_arroz = 4.99\n",
        "quilo = 10\n",
        "resultado = preco_arroz * quilo\n",
        "print(resultado)\n",
        "type(resultado)"
      ],
      "execution_count": null,
      "outputs": [
        {
          "output_type": "stream",
          "text": [
            "49.900000000000006\n"
          ],
          "name": "stdout"
        },
        {
          "output_type": "execute_result",
          "data": {
            "text/plain": [
              "float"
            ]
          },
          "metadata": {
            "tags": []
          },
          "execution_count": 14
        }
      ]
    },
    {
      "cell_type": "code",
      "metadata": {
        "id": "iDQ-Megeeyl7",
        "outputId": "60799705-4494-4cb4-fa63-97466a485a7d",
        "colab": {
          "base_uri": "https://localhost:8080/",
          "height": 51
        }
      },
      "source": [
        "# round() - Função que retorna o Arredondamento\n",
        "# Exemplo Número Float com arredondamento\n",
        "preco_arroz = 4.99\n",
        "quilo = 10\n",
        "resultado = preco_arroz * quilo\n",
        "print(round(resultado)) # round() - Função que retorna o Arredondamento\n",
        "type(resultado)"
      ],
      "execution_count": null,
      "outputs": [
        {
          "output_type": "stream",
          "text": [
            "50\n"
          ],
          "name": "stdout"
        },
        {
          "output_type": "execute_result",
          "data": {
            "text/plain": [
              "float"
            ]
          },
          "metadata": {
            "tags": []
          },
          "execution_count": 16
        }
      ]
    },
    {
      "cell_type": "code",
      "metadata": {
        "id": "KjH1UDwSfTaH",
        "outputId": "505ca87f-e37c-494c-c631-80e5dd2c109a",
        "colab": {
          "base_uri": "https://localhost:8080/",
          "height": 102
        }
      },
      "source": [
        "# input() retorna por padrão sempre uma str (string)\n",
        "\n",
        "peso = input('Digite o seu peso (valor float). (Ex 80.0, 81.5, etc): ') \n",
        "peso = float(peso) # Converte o peso para float \n",
        "print(peso) \n",
        "\n",
        "altura = input('Digite a sua altura (valor float). (Ex. 1.60, 1.65, etc): ')\n",
        "altura = float(altura) # Converte a altura para float\n",
        "print(type(altura))\n",
        "print(altura)"
      ],
      "execution_count": null,
      "outputs": [
        {
          "output_type": "stream",
          "text": [
            "Digite o seu peso (valor float). (Ex 80.0, 81.5, etc): 100.\n",
            "100.0\n",
            "Digite a sua altura (valor float). (Ex. 1.60, 1.65, etc): 1.81\n",
            "<class 'float'>\n",
            "1.81\n"
          ],
          "name": "stdout"
        }
      ]
    },
    {
      "cell_type": "code",
      "metadata": {
        "id": "sXAdorTzhSzm",
        "outputId": "50ced6b1-dab4-49e6-e064-c3b3186928da",
        "colab": {
          "base_uri": "https://localhost:8080/",
          "height": 119
        }
      },
      "source": [
        "# Programa para calcular o IMC\n",
        "# IMC - Índice de Massa Corporal\n",
        "# Fórmula: peso/(altura**2)\n",
        "\n",
        "# input() retorna por padrão sempre uma str (string)\n",
        "\n",
        "peso = input('Digite o seu peso (valor float): ') \n",
        "peso = float(peso) # Converte o peso para float \n",
        "# print(type(peso))\n",
        "print('O seu peso é {}.'.format(peso))\n",
        "\n",
        "altura = input('Digite a sua altura (valor float): ')\n",
        "altura = float(altura) # Converte a altura para float\n",
        "# print(type(altura))\n",
        "print('A sua altura é {}.'.format(altura))\n",
        "\n",
        "print('# Programa para calcular o IMC #')\n",
        "imc = peso/(altura**2)\n",
        "print('O seu IMC é {}.'.format(imc))"
      ],
      "execution_count": null,
      "outputs": [
        {
          "output_type": "stream",
          "text": [
            "Digite o seu peso (valor float): 120\n",
            "O seu peso é 120.0.\n",
            "Digite a sua altura (valor float): 1.8\n",
            "A sua altura é 1.8.\n",
            "# Programa para calcular o IMC #\n",
            "O seu IMC é 37.03703703703704.\n"
          ],
          "name": "stdout"
        }
      ]
    },
    {
      "cell_type": "code",
      "metadata": {
        "id": "EI5AhkyfwFmd",
        "outputId": "904fe2bc-e09f-4ad4-a007-b26338f89343",
        "colab": {
          "base_uri": "https://localhost:8080/",
          "height": 68
        }
      },
      "source": [
        "# input() retorna por padrão sempre uma str (string)\n",
        "\n",
        "peso = input('Digite o seu peso: ')\n",
        "peso = float(peso) # Converte o peso para float\n",
        "# print(type(peso)) \n",
        "\n",
        "altura = input('Digite a sua altura(ex. 1.85): ')\n",
        "altura =float(altura) # Converteu a altura para float\n",
        "# print(type(altura))\n",
        "\n",
        "# imc = (peso/(altura**2))\n",
        "# print('O seu IMC é',imc)                # IMC sem Arredondamento\n",
        "\n",
        "imc = round(peso/(altura**2))\n",
        "print('O seu IMC é {}.'.format(imc))  # IMC com Arredondamento"
      ],
      "execution_count": null,
      "outputs": [
        {
          "output_type": "stream",
          "text": [
            "Digite o seu peso: 120\n",
            "Digite a sua altura(ex. 1.85): 1.80\n",
            "O seu IMC é 37.\n"
          ],
          "name": "stdout"
        }
      ]
    }
  ]
}