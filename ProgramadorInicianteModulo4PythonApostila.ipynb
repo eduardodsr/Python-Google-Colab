{
  "nbformat": 4,
  "nbformat_minor": 0,
  "metadata": {
    "colab": {
      "name": "ProgramadorInicianteModulo4PythonApostila.ipynb",
      "provenance": [],
      "collapsed_sections": [],
      "authorship_tag": "ABX9TyPA9UZFtrSEpcAZ18uDSCzz",
      "include_colab_link": true
    },
    "kernelspec": {
      "name": "python3",
      "display_name": "Python 3"
    }
  },
  "cells": [
    {
      "cell_type": "markdown",
      "metadata": {
        "id": "view-in-github",
        "colab_type": "text"
      },
      "source": [
        "<a href=\"https://colab.research.google.com/github/eduardodsr/Python-Google-Colab/blob/master/ProgramadorInicianteModulo4PythonApostila.ipynb\" target=\"_parent\"><img src=\"https://colab.research.google.com/assets/colab-badge.svg\" alt=\"Open In Colab\"/></a>"
      ]
    },
    {
      "cell_type": "markdown",
      "metadata": {
        "id": "rLO5lMvkFgz6"
      },
      "source": [
        "*Programador Iniciante - Modulo 4 Python - Apostila*"
      ]
    },
    {
      "cell_type": "markdown",
      "metadata": {
        "id": "Y12_ZaCGFrMZ"
      },
      "source": [
        "*Capítulo 2 - Exibindo e recebendo dados na tela*"
      ]
    },
    {
      "cell_type": "code",
      "metadata": {
        "id": "nTMQ5gJHFncR",
        "outputId": "7ac9ba27-48bb-4050-d498-fd958772854a",
        "colab": {
          "base_uri": "https://localhost:8080/",
          "height": 34
        }
      },
      "source": [
        "print('Olá, Mundo!')"
      ],
      "execution_count": 2,
      "outputs": [
        {
          "output_type": "stream",
          "text": [
            "Olá, Mundo!\n"
          ],
          "name": "stdout"
        }
      ]
    },
    {
      "cell_type": "code",
      "metadata": {
        "id": "3DWoRYP_F7K9",
        "outputId": "2eb6e6bc-8163-49e0-c391-29486824101e",
        "colab": {
          "base_uri": "https://localhost:8080/",
          "height": 52
        }
      },
      "source": [
        "input('Digite o seu nome: ')"
      ],
      "execution_count": 4,
      "outputs": [
        {
          "output_type": "stream",
          "text": [
            "Digite o seu nome: Eduardo\n"
          ],
          "name": "stdout"
        },
        {
          "output_type": "execute_result",
          "data": {
            "application/vnd.google.colaboratory.intrinsic+json": {
              "type": "string"
            },
            "text/plain": [
              "'Eduardo'"
            ]
          },
          "metadata": {
            "tags": []
          },
          "execution_count": 4
        }
      ]
    },
    {
      "cell_type": "code",
      "metadata": {
        "id": "_D8m3ZBkGEnU",
        "outputId": "cf2c7dad-c5d2-4377-86df-3630b8951b75",
        "colab": {
          "base_uri": "https://localhost:8080/",
          "height": 51
        }
      },
      "source": [
        "nome = input('Qual é o seu nome? ')\n",
        "print('Seja bem vindo(a) ' + nome)"
      ],
      "execution_count": 7,
      "outputs": [
        {
          "output_type": "stream",
          "text": [
            "Qual é o seu nome? Eduardo\n",
            "Seja bem vindo(a) Eduardo\n"
          ],
          "name": "stdout"
        }
      ]
    },
    {
      "cell_type": "markdown",
      "metadata": {
        "id": "otPe3aNtGXcM"
      },
      "source": [
        "Em Python, os tipos de dados básicos são:\n",
        "\n",
        "*   Tipo **inteiro**: armazena números inteiros.\n",
        "\n",
        "*   Tipo **string**: armazena um conjunto de caracteres.\n",
        "\n",
        "*   Tipo **float**: armazena números em formato decimal.\n",
        "\n",
        "*   Tipo **Booleano**: armazena sempre True (Verdadeiro) ou False (Falso)."
      ]
    },
    {
      "cell_type": "markdown",
      "metadata": {
        "id": "dkIp2XH0GvDu"
      },
      "source": [
        "Exemplos:"
      ]
    },
    {
      "cell_type": "code",
      "metadata": {
        "id": "3gQxQtfUGoJY",
        "outputId": "266a18f5-f249-4603-8ba1-d64bb63c9ef2",
        "colab": {
          "base_uri": "https://localhost:8080/",
          "height": 34
        }
      },
      "source": [
        "numero=123\n",
        "print(numero)"
      ],
      "execution_count": 8,
      "outputs": [
        {
          "output_type": "stream",
          "text": [
            "123\n"
          ],
          "name": "stdout"
        }
      ]
    },
    {
      "cell_type": "code",
      "metadata": {
        "id": "EN79YEqwG2SD",
        "outputId": "77a0bfb6-17a4-4352-916f-fc6ce86e83d2",
        "colab": {
          "base_uri": "https://localhost:8080/",
          "height": 51
        }
      },
      "source": [
        "numero='Hello World!'\n",
        "print(numero)\n",
        "type(numero)"
      ],
      "execution_count": 12,
      "outputs": [
        {
          "output_type": "stream",
          "text": [
            "Hello World!\n"
          ],
          "name": "stdout"
        },
        {
          "output_type": "execute_result",
          "data": {
            "text/plain": [
              "str"
            ]
          },
          "metadata": {
            "tags": []
          },
          "execution_count": 12
        }
      ]
    },
    {
      "cell_type": "code",
      "metadata": {
        "id": "iPnSnNV7HJVE",
        "outputId": "c16c23df-fcb6-4421-da7b-d1c9b786ee28",
        "colab": {
          "base_uri": "https://localhost:8080/",
          "height": 51
        }
      },
      "source": [
        "numero=4.56\n",
        "print(numero)\n",
        "type(numero)"
      ],
      "execution_count": 14,
      "outputs": [
        {
          "output_type": "stream",
          "text": [
            "4.56\n"
          ],
          "name": "stdout"
        },
        {
          "output_type": "execute_result",
          "data": {
            "text/plain": [
              "float"
            ]
          },
          "metadata": {
            "tags": []
          },
          "execution_count": 14
        }
      ]
    },
    {
      "cell_type": "markdown",
      "metadata": {
        "id": "ufN5WIlAHVoz"
      },
      "source": [
        "Escopo de variáveis\n",
        "\n",
        "*   Variáveis **globais** são aquelas declaradas no início  ao longo de um documento, e que podem ser utilizadas em qualquer parte dele.\n",
        "*   Variáveis **locais** são declaradas dentro de alguma função, e será válida somente para este bloco."
      ]
    },
    {
      "cell_type": "markdown",
      "metadata": {
        "id": "DU3Nufg8Htd8"
      },
      "source": [
        "Strings\n",
        "\n",
        "Observação: A forma mais comum de utilização na linguagem Phyton é aspas simples."
      ]
    },
    {
      "cell_type": "markdown",
      "metadata": {
        "id": "a91c49z9H5e3"
      },
      "source": [
        "Concatenação de strings"
      ]
    },
    {
      "cell_type": "code",
      "metadata": {
        "id": "sGYxkMYKHpjb",
        "outputId": "99ff99af-adae-4ddf-8356-d807057a0ce0",
        "colab": {
          "base_uri": "https://localhost:8080/",
          "height": 68
        }
      },
      "source": [
        "print('boot' + 'camp')\n",
        "print('bootcamp' + 'IGTI')\n",
        "print('bootcamp ' + 'IGTI')"
      ],
      "execution_count": 15,
      "outputs": [
        {
          "output_type": "stream",
          "text": [
            "bootcamp\n",
            "bootcampIGTI\n",
            "bootcamp IGTI\n"
          ],
          "name": "stdout"
        }
      ]
    },
    {
      "cell_type": "markdown",
      "metadata": {
        "id": "S2JbIqvBIOuk"
      },
      "source": [
        "Manipulação de strings"
      ]
    },
    {
      "cell_type": "markdown",
      "metadata": {
        "id": "c_9UCMcAIRjI"
      },
      "source": [
        "len() - encontra o tamanho da string"
      ]
    },
    {
      "cell_type": "code",
      "metadata": {
        "id": "3Xap1KTcIPu2",
        "outputId": "7474ff6c-68d5-403f-bf84-381f8790cc6c",
        "colab": {
          "base_uri": "https://localhost:8080/",
          "height": 34
        }
      },
      "source": [
        "teste = 'Todo azul do mar'\n",
        "len(teste)"
      ],
      "execution_count": 16,
      "outputs": [
        {
          "output_type": "execute_result",
          "data": {
            "text/plain": [
              "16"
            ]
          },
          "metadata": {
            "tags": []
          },
          "execution_count": 16
        }
      ]
    },
    {
      "cell_type": "markdown",
      "metadata": {
        "id": "Zjvd9JnMIdxk"
      },
      "source": [
        "replace() - substitui na string o primeiro trecho indicado no segundo"
      ]
    },
    {
      "cell_type": "code",
      "metadata": {
        "id": "yXMU8oS8IdTj",
        "outputId": "114ce78c-ff48-4008-cb9d-285f03c326c9",
        "colab": {
          "base_uri": "https://localhost:8080/",
          "height": 34
        }
      },
      "source": [
        "teste = teste.replace('azul', 'verde')\n",
        "print(teste)"
      ],
      "execution_count": 17,
      "outputs": [
        {
          "output_type": "stream",
          "text": [
            "Todo verde do mar\n"
          ],
          "name": "stdout"
        }
      ]
    },
    {
      "cell_type": "markdown",
      "metadata": {
        "id": "cc6ODTEYI0ug"
      },
      "source": [
        "count() - informa quantas vezes um cactere aparece na string"
      ]
    },
    {
      "cell_type": "code",
      "metadata": {
        "id": "dNjOv9U9I7p0",
        "outputId": "a654fb88-3c85-4a92-d1a0-2fb3f438168f",
        "colab": {
          "base_uri": "https://localhost:8080/",
          "height": 51
        }
      },
      "source": [
        "print(teste) # Str = Todo verde do mar\n",
        "teste.count('o')"
      ],
      "execution_count": 25,
      "outputs": [
        {
          "output_type": "stream",
          "text": [
            "Todo verde do mar\n"
          ],
          "name": "stdout"
        },
        {
          "output_type": "execute_result",
          "data": {
            "text/plain": [
              "3"
            ]
          },
          "metadata": {
            "tags": []
          },
          "execution_count": 25
        }
      ]
    },
    {
      "cell_type": "markdown",
      "metadata": {
        "id": "xRVm8s8KJnT7"
      },
      "source": [
        "find() - retorna o primeiro indice de um determinado caractere na string"
      ]
    },
    {
      "cell_type": "code",
      "metadata": {
        "id": "HcQ2kSfrJu1z",
        "outputId": "5fb78bd1-8c08-4a02-ac04-1368612fe0cc",
        "colab": {
          "base_uri": "https://localhost:8080/",
          "height": 68
        }
      },
      "source": [
        "print(teste)\n",
        "print(len(teste)) # Tamango da string\n",
        "teste.find('r') # Retorna o primeiro indice encontrado, ou seja, o primeiro 'r' encontrado"
      ],
      "execution_count": 35,
      "outputs": [
        {
          "output_type": "stream",
          "text": [
            "Todo verde do mar\n",
            "17\n"
          ],
          "name": "stdout"
        },
        {
          "output_type": "execute_result",
          "data": {
            "text/plain": [
              "7"
            ]
          },
          "metadata": {
            "tags": []
          },
          "execution_count": 35
        }
      ]
    },
    {
      "cell_type": "code",
      "metadata": {
        "id": "c8UK5713KPc4",
        "outputId": "cd40e3a2-1b15-4961-a4c0-734f3ddfb055",
        "colab": {
          "base_uri": "https://localhost:8080/",
          "height": 68
        }
      },
      "source": [
        "print(teste)\n",
        "print(len(teste))\n",
        "teste.find('x') # Retorna -1 se não encontrar o indice determinado caractere na string"
      ],
      "execution_count": 32,
      "outputs": [
        {
          "output_type": "stream",
          "text": [
            "Todo verde do mar\n",
            "17\n"
          ],
          "name": "stdout"
        },
        {
          "output_type": "execute_result",
          "data": {
            "text/plain": [
              "-1"
            ]
          },
          "metadata": {
            "tags": []
          },
          "execution_count": 32
        }
      ]
    },
    {
      "cell_type": "markdown",
      "metadata": {
        "id": "pgzYo01qK63_"
      },
      "source": [
        "spit() - transforma a str (string) numa lista"
      ]
    },
    {
      "cell_type": "code",
      "metadata": {
        "id": "12InYpUALDBj",
        "outputId": "5a5db854-2791-4a91-befc-6e79bbd3c939",
        "colab": {
          "base_uri": "https://localhost:8080/",
          "height": 51
        }
      },
      "source": [
        "print(teste)\n",
        "teste.split()"
      ],
      "execution_count": 37,
      "outputs": [
        {
          "output_type": "stream",
          "text": [
            "Todo verde do mar\n"
          ],
          "name": "stdout"
        },
        {
          "output_type": "execute_result",
          "data": {
            "text/plain": [
              "['Todo', 'verde', 'do', 'mar']"
            ]
          },
          "metadata": {
            "tags": []
          },
          "execution_count": 37
        }
      ]
    },
    {
      "cell_type": "markdown",
      "metadata": {
        "id": "2yv_p3hALaT4"
      },
      "source": [
        "split(treco_da_string) - separa da string somente o trecho selecionado"
      ]
    },
    {
      "cell_type": "code",
      "metadata": {
        "id": "G1SNMxaTLQZd",
        "outputId": "b9a57963-c2da-492b-cc72-8aa3cc74f29a",
        "colab": {
          "base_uri": "https://localhost:8080/",
          "height": 34
        }
      },
      "source": [
        "teste.split('Todo')"
      ],
      "execution_count": 38,
      "outputs": [
        {
          "output_type": "execute_result",
          "data": {
            "text/plain": [
              "['', ' verde do mar']"
            ]
          },
          "metadata": {
            "tags": []
          },
          "execution_count": 38
        }
      ]
    },
    {
      "cell_type": "markdown",
      "metadata": {
        "id": "rOOs2tnVLm0E"
      },
      "source": [
        "join() - junta os itens da string com um item delimitado"
      ]
    },
    {
      "cell_type": "code",
      "metadata": {
        "id": "8uYNyYGsLrhe",
        "outputId": "2077f089-2d6b-4ad1-c5e7-97bcd335c7c2",
        "colab": {
          "base_uri": "https://localhost:8080/",
          "height": 35
        }
      },
      "source": [
        "'Aquele'.join(teste.split('Todo'))"
      ],
      "execution_count": 40,
      "outputs": [
        {
          "output_type": "execute_result",
          "data": {
            "application/vnd.google.colaboratory.intrinsic+json": {
              "type": "string"
            },
            "text/plain": [
              "'Aquele verde do mar'"
            ]
          },
          "metadata": {
            "tags": []
          },
          "execution_count": 40
        }
      ]
    },
    {
      "cell_type": "markdown",
      "metadata": {
        "id": "CzcGiFKnL7yq"
      },
      "source": [
        "upper() - retorna todos os itens em caixa alta"
      ]
    },
    {
      "cell_type": "code",
      "metadata": {
        "id": "EVg0C_YhL_t-",
        "outputId": "0562ba5f-6b4a-4b97-9b6e-59187100ceac",
        "colab": {
          "base_uri": "https://localhost:8080/",
          "height": 52
        }
      },
      "source": [
        "print(teste)\n",
        "teste.upper()"
      ],
      "execution_count": 42,
      "outputs": [
        {
          "output_type": "stream",
          "text": [
            "Todo verde do mar\n"
          ],
          "name": "stdout"
        },
        {
          "output_type": "execute_result",
          "data": {
            "application/vnd.google.colaboratory.intrinsic+json": {
              "type": "string"
            },
            "text/plain": [
              "'TODO VERDE DO MAR'"
            ]
          },
          "metadata": {
            "tags": []
          },
          "execution_count": 42
        }
      ]
    },
    {
      "cell_type": "markdown",
      "metadata": {
        "id": "IyA-Qb1pMHPA"
      },
      "source": [
        "lower() - retorna todos os itens em caixa baixa"
      ]
    },
    {
      "cell_type": "code",
      "metadata": {
        "id": "WBkWhLb0MLCc",
        "outputId": "76d43c2c-d5d4-48a3-f66d-847370e0a15c",
        "colab": {
          "base_uri": "https://localhost:8080/",
          "height": 52
        }
      },
      "source": [
        "print(teste)\n",
        "teste.lower()"
      ],
      "execution_count": 43,
      "outputs": [
        {
          "output_type": "stream",
          "text": [
            "Todo verde do mar\n"
          ],
          "name": "stdout"
        },
        {
          "output_type": "execute_result",
          "data": {
            "application/vnd.google.colaboratory.intrinsic+json": {
              "type": "string"
            },
            "text/plain": [
              "'todo verde do mar'"
            ]
          },
          "metadata": {
            "tags": []
          },
          "execution_count": 43
        }
      ]
    },
    {
      "cell_type": "markdown",
      "metadata": {
        "id": "xeMuFURCMXlP"
      },
      "source": [
        "*Capítulo 4 - Listas*"
      ]
    },
    {
      "cell_type": "code",
      "metadata": {
        "id": "MOV4-R8SMe3p",
        "outputId": "9da09525-81e8-4dd8-9e30-70a15df97879",
        "colab": {
          "base_uri": "https://localhost:8080/",
          "height": 85
        }
      },
      "source": [
        "lista1 = [1, 2, 3, 4, 5]\n",
        "lista2 = ['Bootcamp', 'IGTI']\n",
        "lista3 = ['B', 'o', 'o', 't', 'c', 'a', 'm', 'p', 'I', 'G', 'T', 'I']\n",
        "lista4 = [1, 'b', True, [1, 2, 3], 45.11]\n",
        "print(lista1)\n",
        "print(lista2)\n",
        "print(lista3)\n",
        "print(lista4)"
      ],
      "execution_count": 47,
      "outputs": [
        {
          "output_type": "stream",
          "text": [
            "[1, 2, 3, 4, 5]\n",
            "['Bootcamp', 'IGTI']\n",
            "['B', 'o', 'o', 't', 'c', 'a', 'm', 'p', 'I', 'G', 'T', 'I']\n",
            "[1, 'b', True, [1, 2, 3], 45.11]\n"
          ],
          "name": "stdout"
        }
      ]
    },
    {
      "cell_type": "markdown",
      "metadata": {
        "id": "BdH-i0XeNO5P"
      },
      "source": [
        "Criar listas com range\n",
        "\n",
        "Range é uma função utilizada para gerar sequência de números de forma ordenada.\n",
        "\n",
        "```\n",
        "# range(n), que gera uma sequencia de 0 a n-1.\n",
        "```\n",
        "\n"
      ]
    },
    {
      "cell_type": "code",
      "metadata": {
        "id": "L5FKruXuNWMZ",
        "outputId": "b3a9e5d9-9b3b-450e-b124-bb913bb25c41",
        "colab": {
          "base_uri": "https://localhost:8080/",
          "height": 34
        }
      },
      "source": [
        "lista = list(range(10))\n",
        "print(lista)"
      ],
      "execution_count": 58,
      "outputs": [
        {
          "output_type": "stream",
          "text": [
            "[0, 1, 2, 3, 4, 5, 6, 7, 8, 9]\n"
          ],
          "name": "stdout"
        }
      ]
    },
    {
      "cell_type": "code",
      "metadata": {
        "id": "4tHPLQsrNQmt",
        "outputId": "2b8dda31-bcbc-413f-a50e-afe3b44a3aa8",
        "colab": {
          "base_uri": "https://localhost:8080/",
          "height": 34
        }
      },
      "source": [
        "lista = list(range(7))\n",
        "print(lista)"
      ],
      "execution_count": 59,
      "outputs": [
        {
          "output_type": "stream",
          "text": [
            "[0, 1, 2, 3, 4, 5, 6]\n"
          ],
          "name": "stdout"
        }
      ]
    },
    {
      "cell_type": "code",
      "metadata": {
        "id": "XECpEUNROn5i",
        "outputId": "c43c3513-3f52-4e71-d08b-334f356d9be9",
        "colab": {
          "base_uri": "https://localhost:8080/",
          "height": 34
        }
      },
      "source": [
        "lista = list(range(5, 10))\n",
        "print(lista)"
      ],
      "execution_count": 60,
      "outputs": [
        {
          "output_type": "stream",
          "text": [
            "[5, 6, 7, 8, 9]\n"
          ],
          "name": "stdout"
        }
      ]
    },
    {
      "cell_type": "code",
      "metadata": {
        "id": "5XvOXKjCO81W",
        "outputId": "2cb60bbb-5e4f-462f-d4a6-d126eebf793e",
        "colab": {
          "base_uri": "https://localhost:8080/",
          "height": 34
        }
      },
      "source": [
        "lista = list(range(2, 8))\n",
        "print(lista)"
      ],
      "execution_count": 64,
      "outputs": [
        {
          "output_type": "stream",
          "text": [
            "[2, 3, 4, 5, 6, 7]\n"
          ],
          "name": "stdout"
        }
      ]
    },
    {
      "cell_type": "code",
      "metadata": {
        "id": "07Iwv0_jOtbV",
        "outputId": "1c894a1c-1e31-49a4-92a9-eece434b36dc",
        "colab": {
          "base_uri": "https://localhost:8080/",
          "height": 34
        }
      },
      "source": [
        "lista = list(range(2, 10, 2)) \n",
        "print(lista) # resultado [2, 5, 6, 8]"
      ],
      "execution_count": 65,
      "outputs": [
        {
          "output_type": "stream",
          "text": [
            "[2, 4, 6, 8]\n"
          ],
          "name": "stdout"
        }
      ]
    },
    {
      "cell_type": "code",
      "metadata": {
        "id": "cwMgfSKTPNPB",
        "outputId": "79242352-01b5-484c-d489-3e7ad9c802af",
        "colab": {
          "base_uri": "https://localhost:8080/",
          "height": 34
        }
      },
      "source": [
        "lista = list(range(0, 50, 5))\n",
        "print(lista)"
      ],
      "execution_count": 89,
      "outputs": [
        {
          "output_type": "stream",
          "text": [
            "[0, 5, 10, 15, 20, 25, 30, 35, 40, 45]\n"
          ],
          "name": "stdout"
        }
      ]
    },
    {
      "cell_type": "markdown",
      "metadata": {
        "id": "v3OnatD5RPuV"
      },
      "source": [
        "**Manipular Listas**\n",
        "\n",
        "Como a lista é uma estrutura mutável, existem várias funções que podem ser utilizadas para manipulá-las"
      ]
    },
    {
      "cell_type": "markdown",
      "metadata": {
        "id": "fUL5C2c5RqLK"
      },
      "source": [
        "sort() - ordenar uma lista em ordem crescente\n",
        "\n"
      ]
    },
    {
      "cell_type": "code",
      "metadata": {
        "id": "UnUAqm-0RVIy",
        "outputId": "72447847-e8ec-4792-d381-1f9abeb0074d",
        "colab": {
          "base_uri": "https://localhost:8080/",
          "height": 34
        }
      },
      "source": [
        "lista1 = [1, 7, 9, 2, 56, 4, 31, 55]\n",
        "lista1.sort()\n",
        "print(lista1)"
      ],
      "execution_count": 92,
      "outputs": [
        {
          "output_type": "stream",
          "text": [
            "[1, 2, 4, 7, 9, 31, 55, 56]\n"
          ],
          "name": "stdout"
        }
      ]
    },
    {
      "cell_type": "markdown",
      "metadata": {
        "id": "saqrG202SNJe"
      },
      "source": [
        "append(object) -> None -- append object to end.\n",
        "\n",
        "append() - acrescentar um item no final da lista"
      ]
    },
    {
      "cell_type": "code",
      "metadata": {
        "id": "uKYEQxeCR1wq",
        "outputId": "05a927ac-e3d7-4241-b7bf-597cfe810c4c",
        "colab": {
          "base_uri": "https://localhost:8080/",
          "height": 34
        }
      },
      "source": [
        "lista2 = ['abacaxi','laranja','banana','caju']\n",
        "lista2.append('uva')\n",
        "print(lista2)"
      ],
      "execution_count": 97,
      "outputs": [
        {
          "output_type": "stream",
          "text": [
            "['abacaxi', 'laranja', 'banana', 'caju', 'uva']\n"
          ],
          "name": "stdout"
        }
      ]
    },
    {
      "cell_type": "markdown",
      "metadata": {
        "id": "nhTygndKStTk"
      },
      "source": [
        "append() - também é possível acrescentar uma lista dentro da lista"
      ]
    },
    {
      "cell_type": "code",
      "metadata": {
        "id": "FSaf6so4TN-6",
        "outputId": "bd212783-a262-47c0-ff26-d7688e6a6525",
        "colab": {
          "base_uri": "https://localhost:8080/",
          "height": 34
        }
      },
      "source": [
        "lista2.append(['batata', 'cenoura'])\n",
        "print(lista2)\n"
      ],
      "execution_count": 100,
      "outputs": [
        {
          "output_type": "stream",
          "text": [
            "['abacaxi', 'laranja', 'banana', 'caju', 'uva', ['batata', 'cenoura']]\n"
          ],
          "name": "stdout"
        }
      ]
    },
    {
      "cell_type": "markdown",
      "metadata": {
        "id": "f7f7-2L4ThhM"
      },
      "source": [
        "extend() - acrescentar uma lista em formato de itens ao final de uma lista"
      ]
    },
    {
      "cell_type": "code",
      "metadata": {
        "id": "XtRtFi7uSzk8",
        "outputId": "68aef767-2888-493f-df4c-7c734174b283",
        "colab": {
          "base_uri": "https://localhost:8080/",
          "height": 34
        }
      },
      "source": [
        "lista3 = [1, 12, 43, 73, 24, 92]\n",
        "lista3.extend([23, 41, 66])\n",
        "print(lista3)"
      ],
      "execution_count": 102,
      "outputs": [
        {
          "output_type": "stream",
          "text": [
            "[1, 12, 43, 73, 24, 92, 23, 41, 66]\n"
          ],
          "name": "stdout"
        }
      ]
    },
    {
      "cell_type": "markdown",
      "metadata": {
        "id": "GRAWcpHkUNWu"
      },
      "source": [
        "insert() - acrescentar um novo item a lista em um local especifico, informando a posiçãodo indice\n",
        "insert(index, object) -- insert object before index"
      ]
    },
    {
      "cell_type": "code",
      "metadata": {
        "id": "zZpOexJmT5qS",
        "outputId": "6d42a309-c29c-4004-feac-64ca9590cd1c",
        "colab": {
          "base_uri": "https://localhost:8080/",
          "height": 34
        }
      },
      "source": [
        "lista4 = [1, 2, 3, 4, 5]\n",
        "# print(lista4)\n",
        "lista4.insert(3, 'novo elemento')\n",
        "print(lista4)"
      ],
      "execution_count": 109,
      "outputs": [
        {
          "output_type": "stream",
          "text": [
            "[1, 2, 3, 'novo elemento', 4, 5]\n"
          ],
          "name": "stdout"
        }
      ]
    },
    {
      "cell_type": "markdown",
      "metadata": {
        "id": "3gHlJkOnTyoC"
      },
      "source": [
        "somar duas listas. Podemos criar uma list a partir de 2 outras listas, somando-as"
      ]
    },
    {
      "cell_type": "code",
      "metadata": {
        "id": "J6iWw1unVJaM",
        "outputId": "97ce0e8a-e558-4c6c-f16c-408387bb29ff",
        "colab": {
          "base_uri": "https://localhost:8080/",
          "height": 34
        }
      },
      "source": [
        "lista5 = lista3 + lista4\n",
        "print(lista5)"
      ],
      "execution_count": 110,
      "outputs": [
        {
          "output_type": "stream",
          "text": [
            "[1, 12, 43, 73, 24, 92, 23, 41, 66, 1, 2, 3, 'novo elemento', 4, 5]\n"
          ],
          "name": "stdout"
        }
      ]
    },
    {
      "cell_type": "markdown",
      "metadata": {
        "id": "QEefiWzeVSzY"
      },
      "source": [
        "reverse() - reverter a ordem da lista, do ultimo ao primeiro"
      ]
    },
    {
      "cell_type": "code",
      "metadata": {
        "id": "GFHfmD61VYSz",
        "outputId": "f2f49aed-6461-4e00-aa14-ee1e0c4ce849",
        "colab": {
          "base_uri": "https://localhost:8080/",
          "height": 34
        }
      },
      "source": [
        "lista6=['ar','fogo','terra','agua']\n",
        "lista6.reverse()\n",
        "print(lista6)"
      ],
      "execution_count": 111,
      "outputs": [
        {
          "output_type": "stream",
          "text": [
            "['agua', 'terra', 'fogo', 'ar']\n"
          ],
          "name": "stdout"
        }
      ]
    },
    {
      "cell_type": "markdown",
      "metadata": {
        "id": "YLA8gxVtV3XI"
      },
      "source": [
        "copy() - fazer uma cópia de uma lista"
      ]
    },
    {
      "cell_type": "code",
      "metadata": {
        "id": "w_BbckBNV6r2",
        "outputId": "15cf2731-d9f4-4484-9061-a5d7c036fd4a",
        "colab": {
          "base_uri": "https://localhost:8080/",
          "height": 34
        }
      },
      "source": [
        "lista7=lista6.copy()\n",
        "print(lista7)"
      ],
      "execution_count": 112,
      "outputs": [
        {
          "output_type": "stream",
          "text": [
            "['agua', 'terra', 'fogo', 'ar']\n"
          ],
          "name": "stdout"
        }
      ]
    },
    {
      "cell_type": "markdown",
      "metadata": {
        "id": "4TR_22iDWGMU"
      },
      "source": [
        "enumerate() - gerar uma lista enumerada\n",
        "\n",
        "enumerate(iterable[, start]) -> iterator for index, value of iterable\n",
        "\n",
        "Return an enumerate object..."
      ]
    },
    {
      "cell_type": "code",
      "metadata": {
        "id": "LBQXY0J0WKg6",
        "outputId": "6a463ff3-9000-4561-badf-8629800cb6e1",
        "colab": {
          "base_uri": "https://localhost:8080/",
          "height": 34
        }
      },
      "source": [
        "lista8 = [1, 2, 3, 4, 5, 6]\n",
        "lista8 = list(enumerate(lista8))\n",
        "print(lista8)\n"
      ],
      "execution_count": 113,
      "outputs": [
        {
          "output_type": "stream",
          "text": [
            "[(0, 1), (1, 2), (2, 3), (3, 4), (4, 5), (5, 6)]\n"
          ],
          "name": "stdout"
        }
      ]
    },
    {
      "cell_type": "markdown",
      "metadata": {
        "id": "NVZ3ORd0W4iy"
      },
      "source": [
        "multiplicacao - repetir os elementos de uma lista multiplicandos-os"
      ]
    },
    {
      "cell_type": "code",
      "metadata": {
        "id": "akoS959XW_nu",
        "outputId": "5ef7b4e0-32fa-49c8-dd2d-a88d99848a66",
        "colab": {
          "base_uri": "https://localhost:8080/",
          "height": 34
        }
      },
      "source": [
        "lista9=[10,11,12,13]\n",
        "print(lista9 * 3)"
      ],
      "execution_count": 114,
      "outputs": [
        {
          "output_type": "stream",
          "text": [
            "[10, 11, 12, 13, 10, 11, 12, 13, 10, 11, 12, 13]\n"
          ],
          "name": "stdout"
        }
      ]
    },
    {
      "cell_type": "code",
      "metadata": {
        "id": "nsC8zwW9XKUt",
        "outputId": "ec987b05-2d07-4305-ccc8-347ce6981ceb",
        "colab": {
          "base_uri": "https://localhost:8080/",
          "height": 34
        }
      },
      "source": [
        "lista9=['String1','String2']\n",
        "print(lista9 * 3)"
      ],
      "execution_count": 123,
      "outputs": [
        {
          "output_type": "stream",
          "text": [
            "['String1', 'String2', 'String1', 'String2', 'String1', 'String2']\n"
          ],
          "name": "stdout"
        }
      ]
    }
  ]
}