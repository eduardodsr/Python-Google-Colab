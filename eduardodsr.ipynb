{
  "nbformat": 4,
  "nbformat_minor": 0,
  "metadata": {
    "colab": {
      "name": "eduardodsr.ipynb",
      "provenance": [],
      "authorship_tag": "ABX9TyPicirewzDQrNWqFFGdlVWF",
      "include_colab_link": true
    },
    "kernelspec": {
      "name": "python3",
      "display_name": "Python 3"
    }
  },
  "cells": [
    {
      "cell_type": "markdown",
      "metadata": {
        "id": "view-in-github",
        "colab_type": "text"
      },
      "source": [
        "<a href=\"https://colab.research.google.com/github/eduardodsr/Python-Google-Colab/blob/master/eduardodsr.ipynb\" target=\"_parent\"><img src=\"https://colab.research.google.com/assets/colab-badge.svg\" alt=\"Open In Colab\"/></a>"
      ]
    },
    {
      "cell_type": "code",
      "metadata": {
        "id": "W8-CCGRg7ssq"
      },
      "source": [
        "class eduardodsr:\n",
        "\n",
        "    def __init__(self):\n",
        "        self.username = 'eduardodsr'\n",
        "        self.name = 'Eduardo da Silva Rodrigues'\n",
        "        self.web = 'https://edsr.dev'\n",
        "        self.code = {\n",
        "            'frontend': ['HTML', 'CSS', 'JavaScript', 'React JS', 'Boostrap'],\n",
        "            'backend': ['Python', 'Node JS', 'Java'],\n",
        "            'database': ['SQL', 'Mongo DB', 'JSON'],\n",
        "            'devops': [' '],\n",
        "            'tools': ['GitHub', 'Jupyter Notebook'],\n",
        "            'misc': ['SCRUM', 'GNU/Linux']\n",
        "        }\n",
        "        self.architecture = [' ']\n",
        "\n",
        "    def __str__(self):\n",
        "        return self.name\n",
        "\n",
        "if __name__ == '__main__':\n",
        "    me = eduardodsr()"
      ],
      "execution_count": 8,
      "outputs": []
    },
    {
      "cell_type": "code",
      "metadata": {
        "id": "G3VcJt8yAEjD",
        "outputId": "9203d41e-52b5-48a7-9fda-57d076b59aa5",
        "colab": {
          "base_uri": "https://localhost:8080/",
          "height": 68
        }
      },
      "source": [
        "print(me.name + ' - ' + me.username + ' - ' + me.web)\n",
        "print('Dev Front End: {}'.format(me.code['frontend']))\n",
        "print('Dev Back End: {}'.format(me.code['backend']))"
      ],
      "execution_count": 16,
      "outputs": [
        {
          "output_type": "stream",
          "text": [
            "Eduardo da Silva Rodrigues - eduardodsr - https://edsr.dev\n",
            "Dev Front End: ['HTML', 'CSS', 'JavaScript', 'React JS', 'Boostrap']\n",
            "Dev Back End: ['Python', 'Node JS', 'Java']\n"
          ],
          "name": "stdout"
        }
      ]
    },
    {
      "cell_type": "code",
      "metadata": {
        "id": "NohDm92a8Xzm",
        "outputId": "8772223f-d937-4106-b96f-f4968a70d269",
        "colab": {
          "base_uri": "https://localhost:8080/",
          "height": 71
        }
      },
      "source": [
        "print(me.name)\n",
        "print(me.code)\n"
      ],
      "execution_count": 17,
      "outputs": [
        {
          "output_type": "stream",
          "text": [
            "Eduardo da Silva Rodrigues\n",
            "{'frontend': ['HTML', 'CSS', 'JavaScript', 'React JS', 'Boostrap'], 'backend': ['Python', 'Node JS', 'Java'], 'database': ['SQL', 'Mongo DB', 'JSON'], 'devops': [' '], 'tools': ['GitHub', 'Jupyter Notebook'], 'misc': ['SCRUM', 'GNU/Linux']}\n"
          ],
          "name": "stdout"
        }
      ]
    }
  ]
}