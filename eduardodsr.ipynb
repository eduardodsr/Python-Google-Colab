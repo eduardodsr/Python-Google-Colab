{
  "nbformat": 4,
  "nbformat_minor": 0,
  "metadata": {
    "colab": {
      "name": "eduardodsr.ipynb",
      "provenance": [],
      "authorship_tag": "ABX9TyPLk4GTGFAGR9M0qMxbjQ8Q",
      "include_colab_link": true
    },
    "kernelspec": {
      "name": "python3",
      "display_name": "Python 3"
    }
  },
  "cells": [
    {
      "cell_type": "markdown",
      "metadata": {
        "id": "view-in-github",
        "colab_type": "text"
      },
      "source": [
        "<a href=\"https://colab.research.google.com/github/eduardodsr/Python-Google-Colab/blob/master/eduardodsr.ipynb\" target=\"_parent\"><img src=\"https://colab.research.google.com/assets/colab-badge.svg\" alt=\"Open In Colab\"/></a>"
      ]
    },
    {
      "cell_type": "code",
      "metadata": {
        "id": "W8-CCGRg7ssq"
      },
      "source": [
        "class eduardodsr:\n",
        "\n",
        "    def __init__(self):\n",
        "        self.username = 'eduardodsr'\n",
        "        self.name = 'Eduardo da Silva Rodrigues'\n",
        "        self.web = 'https://edsr.dev'\n",
        "        self.code = {\n",
        "            'frontend': ['HTML', 'CSS', 'JavaScript', 'React JS', 'Boostrap'],\n",
        "            'backend': ['Python', 'Node JS', 'Java'],\n",
        "            'database': ['SQL', 'Mongo DB', 'JSON'],\n",
        "            'devops': [' '],\n",
        "            'tools': ['GitHub', 'Jupyter Notebook'],\n",
        "            'misc': ['SCRUM', 'GNU/Linux']\n",
        "        }\n",
        "        self.architecture = [' ']\n",
        "\n",
        "    def __str__(self):\n",
        "        return self.name\n",
        "\n",
        "if __name__ == '__main__':\n",
        "    me = eduardodsr()"
      ],
      "execution_count": 2,
      "outputs": []
    },
    {
      "cell_type": "code",
      "metadata": {
        "id": "NohDm92a8Xzm",
        "outputId": "adfa5db1-dbf1-4e85-a29f-5996b0333b47",
        "colab": {
          "base_uri": "https://localhost:8080/",
          "height": 51
        }
      },
      "source": [
        "print(me.name + ' - ' + me.web)\n",
        "print(me.code)\n"
      ],
      "execution_count": 119,
      "outputs": [
        {
          "output_type": "stream",
          "text": [
            "Eduardo da Silva Rodrigues - https://edsr.dev\n",
            "{'frontend': ['HTML', 'CSS', 'JavaScript', 'React JS', 'Boostrap'], 'backend': ['Python', 'Node JS', 'Java'], 'database': ['SQL', 'Mongo DB', 'JSON'], 'devops': [' '], 'tools': ['GitHub', 'Jupyter Notebook']}\n"
          ],
          "name": "stdout"
        }
      ]
    }
  ]
}