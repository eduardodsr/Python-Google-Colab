{
  "nbformat": 4,
  "nbformat_minor": 0,
  "metadata": {
    "colab": {
      "name": "Cap3.ipynb",
      "provenance": [],
      "collapsed_sections": [],
      "authorship_tag": "ABX9TyPVwn6XPa2AnhmJH8UynmIg",
      "include_colab_link": true
    },
    "kernelspec": {
      "name": "python3",
      "display_name": "Python 3"
    }
  },
  "cells": [
    {
      "cell_type": "markdown",
      "metadata": {
        "id": "view-in-github",
        "colab_type": "text"
      },
      "source": [
        "<a href=\"https://colab.research.google.com/github/eduardodsr/Python-Google-Colab/blob/master/Cap3.ipynb\" target=\"_parent\"><img src=\"https://colab.research.google.com/assets/colab-badge.svg\" alt=\"Open In Colab\"/></a>"
      ]
    },
    {
      "cell_type": "markdown",
      "metadata": {
        "id": "5bFKCvMT98y3"
      },
      "source": [
        "# CAP3 - Laços de repetição - Dicionários e Lista"
      ]
    },
    {
      "cell_type": "code",
      "metadata": {
        "id": "Z7h0z5xB9x7T",
        "outputId": "9526e3e7-9673-4ec9-e043-64d99748936a",
        "colab": {
          "base_uri": "https://localhost:8080/",
          "height": 34
        }
      },
      "source": [
        "nome = 'Eduardo'\n",
        "endereco = 'Av. das Américas, 700'\n",
        "idade = '18'\n",
        "print('nome: {}, Endereco: {}, Idade: {}'.format(nome, endereco, idade))"
      ],
      "execution_count": null,
      "outputs": [
        {
          "output_type": "stream",
          "text": [
            "nome: Eduardo, Endereco: Av. das Américas, 700, Idade: 18\n"
          ],
          "name": "stdout"
        }
      ]
    },
    {
      "cell_type": "code",
      "metadata": {
        "id": "UmYCaupg-yhP",
        "outputId": "806b8b93-d51e-49b3-c88a-205e555646b4",
        "colab": {
          "base_uri": "https://localhost:8080/",
          "height": 51
        }
      },
      "source": [
        "# Exemplo de um dicionário\n",
        "pessoa = {\n",
        "    'nome': 'Eduardo',\n",
        "    'endereco': 'Av. das Américas, 700',\n",
        "    'idade': 18\n",
        "}\n",
        "print('Isso é um dicionário: ')\n",
        "print(pessoa)"
      ],
      "execution_count": null,
      "outputs": [
        {
          "output_type": "stream",
          "text": [
            "Isso é um dicionário: \n",
            "{'nome': 'Eduardo', 'endereco': 'Av. das Américas, 700', 'idade': 18}\n"
          ],
          "name": "stdout"
        }
      ]
    },
    {
      "cell_type": "code",
      "metadata": {
        "id": "FQ6h1aOusPVd",
        "outputId": "e3f45f45-020b-4bab-be46-1eb234ddb908",
        "colab": {
          "base_uri": "https://localhost:8080/",
          "height": 54
        }
      },
      "source": [
        "# Exemplo de um dicionário com a função append()\n",
        "# Cada pessoa é um item do dicionário\n",
        "lista_pessoas = []\n",
        "lista_pessoas.append({\n",
        "    \"nome\": 'Eduardo',\n",
        "    \"endereco\": 'Rua A, 1',\n",
        "    \"idade\": 18\n",
        "})\n",
        "lista_pessoas.append({\n",
        "    \"nome\": 'Maria',\n",
        "    \"endereco\": 'Rua B, 2',\n",
        "    \"idade\": 18\n",
        "})\n",
        "print(lista_pessoas)"
      ],
      "execution_count": 13,
      "outputs": [
        {
          "output_type": "stream",
          "text": [
            "[{'nome': 'Eduardo', 'endereco': 'Rua A, 1', 'idade': 18}, {'nome': 'Maria', 'endereco': 'Rua B, 2', 'idade': 18}]\n"
          ],
          "name": "stdout"
        }
      ]
    },
    {
      "cell_type": "code",
      "metadata": {
        "id": "dg6ToWC4_g1o",
        "outputId": "425b1bf1-cb6d-4b98-dd7b-2b61d3f09d64",
        "colab": {
          "base_uri": "https://localhost:8080/",
          "height": 68
        }
      },
      "source": [
        "print(pessoa['nome']) # 'Eduardo\n",
        "print(pessoa['endereco']) # 'Av. das Américas, 700'\n",
        "print(pessoa['idade']) # 18"
      ],
      "execution_count": null,
      "outputs": [
        {
          "output_type": "stream",
          "text": [
            "Eduardo\n",
            "Av. das Américas, 700\n",
            "18\n"
          ],
          "name": "stdout"
        }
      ]
    },
    {
      "cell_type": "code",
      "metadata": {
        "id": "nmHTuY7fE4f8",
        "outputId": "62acaafb-6f4b-42af-b4d4-e1d2ea3f588e",
        "colab": {
          "base_uri": "https://localhost:8080/",
          "height": 119
        }
      },
      "source": [
        "# Exemplo de uma lista\n",
        "lista = ['Eduardo', 'Maria', 'José', 'João']\n",
        "print(lista)\n",
        "print(lista[0]) # primeiro Item da Lista, posição 0\n",
        "print(lista[-1]) # último Item da Lista, posição -1\n",
        "print(lista[2:3]) # Lembrando que a última posição do elemento não é apresentada\n",
        "print(lista[:2]) # Retornar do inicio até posição 2\n",
        "print('O tamanho da lista tem {} itens.'.format(len(lista)))"
      ],
      "execution_count": 34,
      "outputs": [
        {
          "output_type": "stream",
          "text": [
            "['Eduardo', 'Maria', 'José', 'João']\n",
            "Eduardo\n",
            "João\n",
            "['José']\n",
            "['Eduardo', 'Maria']\n",
            "O tamanho da lista tem 4 itens.\n"
          ],
          "name": "stdout"
        }
      ]
    },
    {
      "cell_type": "code",
      "metadata": {
        "id": "tu_QFFMCJNNO"
      },
      "source": [
        ""
      ],
      "execution_count": null,
      "outputs": []
    },
    {
      "cell_type": "code",
      "metadata": {
        "id": "gMAQ0zu0Gw6S",
        "outputId": "2c13472e-af69-4636-c94f-29b0d71af634",
        "colab": {
          "base_uri": "https://localhost:8080/",
          "height": 34
        }
      },
      "source": [
        "# lista = ['Eduardo', 'Maria', 'José', 'João']\n",
        "lista[0] = 'Rodrigo' # Na posição 0 da lista trocou o nome para'Rodrigo'\n",
        "print(lista)"
      ],
      "execution_count": 23,
      "outputs": [
        {
          "output_type": "stream",
          "text": [
            "['Rodrigo', 'Maria', 'José', 'João']\n"
          ],
          "name": "stdout"
        }
      ]
    },
    {
      "cell_type": "code",
      "metadata": {
        "id": "jEWs7AzVHQqT",
        "outputId": "20ca5d4a-224e-49be-909d-f60745ad63d9",
        "colab": {
          "base_uri": "https://localhost:8080/",
          "height": 68
        }
      },
      "source": [
        "nome = 'Eduardo'\n",
        "print(len(nome)) # Tamanho\n",
        "print(nome[0]) # Posição 0\n",
        "print(nome[-1]) # Ultima posição"
      ],
      "execution_count": 29,
      "outputs": [
        {
          "output_type": "stream",
          "text": [
            "7\n",
            "E\n",
            "o\n"
          ],
          "name": "stdout"
        }
      ]
    },
    {
      "cell_type": "code",
      "metadata": {
        "id": "1_-nYCoUJQbh",
        "outputId": "892f1083-8f16-40cf-973d-a0dd901a57f1",
        "colab": {
          "base_uri": "https://localhost:8080/",
          "height": 34
        }
      },
      "source": [
        "# append() - adiciona um novo elemento no final da lista\n",
        "lista = ['Eduardo', 'Maria', 'José', 'João']\n",
        "lista.append('Joana') # 'Joana' foi incluida no final da lista\n",
        "print(lista)"
      ],
      "execution_count": 35,
      "outputs": [
        {
          "output_type": "stream",
          "text": [
            "['Eduardo', 'Maria', 'José', 'João', 'Joana']\n"
          ],
          "name": "stdout"
        }
      ]
    },
    {
      "cell_type": "code",
      "metadata": {
        "id": "Bkps3l0NJxAl",
        "outputId": "558bfaa7-5219-420b-ecdd-3602990bdcf3",
        "colab": {
          "base_uri": "https://localhost:8080/",
          "height": 51
        }
      },
      "source": [
        "# copy() - copia da lista\n",
        "lista_copia = lista.copy()\n",
        "# print(lista_copia)\n",
        "lista_copia[0] = 'Eduardo Rodrigues'\n",
        "lista_copia[1] = 'Maria Silva'\n",
        "lista_copia[2] = 'José Pereira'\n",
        "lista_copia[3] = 'João Bosco'\n",
        "lista_copia[4] = 'Joana Darc'\n",
        "print(lista)\n",
        "print(lista_copia)"
      ],
      "execution_count": 39,
      "outputs": [
        {
          "output_type": "stream",
          "text": [
            "['Eduardo', 'Maria', 'José', 'João', 'Joana']\n",
            "['Eduardo Rodrigues', 'Maria Silva', 'José Pereira', 'João Bosco', 'Joana Darc']\n"
          ],
          "name": "stdout"
        }
      ]
    },
    {
      "cell_type": "code",
      "metadata": {
        "id": "1VgQlsBpLVCt",
        "outputId": "98d2c915-3c57-4558-f62e-4f4fa6b67f2a",
        "colab": {
          "base_uri": "https://localhost:8080/",
          "height": 34
        }
      },
      "source": [
        "# insert(index, object) - inserir um novo elemento na lista na posicao selecionada\n",
        "lista = ['Eduardo', 'Maria', 'José', 'João']\n",
        "lista.insert(0, 'Joana') # Inserir no indice 0 , objeto 'Joana'\n",
        "print(lista)"
      ],
      "execution_count": 40,
      "outputs": [
        {
          "output_type": "stream",
          "text": [
            "['Joana', 'Eduardo', 'Maria', 'José', 'João']\n"
          ],
          "name": "stdout"
        }
      ]
    },
    {
      "cell_type": "code",
      "metadata": {
        "id": "jaK1vF6XMUEu",
        "outputId": "a9dd72d4-8e6b-4149-aead-9f7a6301880a",
        "colab": {
          "base_uri": "https://localhost:8080/",
          "height": 34
        }
      },
      "source": [
        "# remove() - remover elemento da lista\n",
        "lista = ['Eduardo', 'Maria', 'José', 'João']\n",
        "lista.remove('Maria') # Remover a 'Maria' da lista\n",
        "print(lista)"
      ],
      "execution_count": 41,
      "outputs": [
        {
          "output_type": "stream",
          "text": [
            "['Eduardo', 'José', 'João']\n"
          ],
          "name": "stdout"
        }
      ]
    },
    {
      "cell_type": "code",
      "metadata": {
        "id": "3AWye4I9MvDZ",
        "outputId": "5424419e-c69b-4dab-cc53-e7e75f02fd6a",
        "colab": {
          "base_uri": "https://localhost:8080/",
          "height": 85
        }
      },
      "source": [
        "# pop() - remove and retorn the index\n",
        "# Retirar o ultimo elemento da lista\n",
        "lista = ['Eduardo', 'Maria', 'José', 'João']\n",
        "lista_copia = lista.copy();\n",
        "lista_ultimo_elemento_retirado = lista_copia.pop(-1) # Removeu o último elemento da lista\n",
        "lista_primeiro_elemento_retirado = lista_copia.pop(0) # Removeu o primeiro elemento da lista\n",
        "print('Lista original: {}'.format(lista))\n",
        "print('Ultimo Elemento Retirado: {}'.format(lista_ultimo_elemento_retirado))\n",
        "print('Primeiro Elemento Retirado: {}'.format(lista_primeiro_elemento_retirado))\n",
        "print('Lista alterada: {}'.format(lista_copia))"
      ],
      "execution_count": 49,
      "outputs": [
        {
          "output_type": "stream",
          "text": [
            "Lista original: ['Eduardo', 'Maria', 'José', 'João']\n",
            "Ultimo Elemento Retirado: João\n",
            "Primeiro Elemento Retirado: Eduardo\n",
            "Lista alterada: ['Maria', 'José']\n"
          ],
          "name": "stdout"
        }
      ]
    },
    {
      "cell_type": "code",
      "metadata": {
        "id": "hpYnxxBIPUXk",
        "outputId": "bdf6d2ed-1277-4471-b1dc-086e3e28d559",
        "colab": {
          "base_uri": "https://localhost:8080/",
          "height": 34
        }
      },
      "source": [
        "# Verificar se um elemento está na lista\n",
        "lista = ['Eduardo', 'Maria', 'José', 'João']\n",
        "if ('Eduardo' in lista):\n",
        "  print('SIM')\n",
        "else:\n",
        "  print('NÃO')"
      ],
      "execution_count": 51,
      "outputs": [
        {
          "output_type": "stream",
          "text": [
            "SIM\n"
          ],
          "name": "stdout"
        }
      ]
    },
    {
      "cell_type": "code",
      "metadata": {
        "id": "Jl2t3uOWQF1D",
        "outputId": "278c97be-617b-492a-bf13-7988fcdf3b65",
        "colab": {
          "base_uri": "https://localhost:8080/",
          "height": 51
        }
      },
      "source": [
        "# Verificar se um elemento está na lista\n",
        "lista = ['Eduardo', 'Maria', 'José', 'João']\n",
        "nome = input('Digite o seu nome: ')\n",
        "if (nome in lista):\n",
        "  print('O seu nome \"{}\" está na lista!'.format(nome))\n",
        "else:\n",
        "  print('O seu nome \"{}\" não está na lista!'.format(nome))"
      ],
      "execution_count": 53,
      "outputs": [
        {
          "output_type": "stream",
          "text": [
            "Digite o seu nome: Eduardo\n",
            "O seu nome \"Eduardo\" está na lista!\n"
          ],
          "name": "stdout"
        }
      ]
    },
    {
      "cell_type": "code",
      "metadata": {
        "id": "g1An4FhIQlxI",
        "outputId": "e329579f-6327-4bc1-cc6b-e145c8e22b50",
        "colab": {
          "base_uri": "https://localhost:8080/",
          "height": 51
        }
      },
      "source": [
        "# Verificar se um elemento está na lista\n",
        "lista = ['Eduardo', 'Maria', 'José', 'João']\n",
        "nome = input('Digite o seu nome: ')\n",
        "if (nome in lista):\n",
        "  print('O seu nome \"{}\" está na lista!'.format(nome))\n",
        "else:\n",
        "  print('O seu nome \"{}\" não está na lista!'.format(nome))"
      ],
      "execution_count": 54,
      "outputs": [
        {
          "output_type": "stream",
          "text": [
            "Digite o seu nome: Paulo\n",
            "O seu nome \"Paulo\" não está na lista!\n"
          ],
          "name": "stdout"
        }
      ]
    },
    {
      "cell_type": "markdown",
      "metadata": {
        "id": "4bGBfxJYQ9ES"
      },
      "source": [
        "# CAP3 - Laços de repetição - Tuplas\n",
        "\n",
        "*   Exemplo de Tupla - Características:\n",
        "*  São listas imutáveis;\n",
        "*  Caso precise modificar uma tupla, você deve criar uma nova;\n",
        "*  Mais rápidas, porém, de uso mais complexo.\n",
        "\n"
      ]
    },
    {
      "cell_type": "code",
      "metadata": {
        "id": "AujtRO5tQ-yL",
        "outputId": "becb8b83-c4e8-4cb0-c944-6632cf7f78f4",
        "colab": {
          "base_uri": "https://localhost:8080/",
          "height": 51
        }
      },
      "source": [
        "# Exemplo de Tupla\n",
        "tupla = (\"Eduardo\", \"Maria\", \"José\", \"João\", \"Joana D'arc\")\n",
        "print('O exemplo abaixo é uma Tupla em Python:')\n",
        "print(tupla)\n"
      ],
      "execution_count": 2,
      "outputs": [
        {
          "output_type": "stream",
          "text": [
            "O exemplo abaixo é uma Tupla em Python:\n",
            "('Eduardo', 'Maria', 'José', 'João', \"Joana D'arc\")\n"
          ],
          "name": "stdout"
        }
      ]
    },
    {
      "cell_type": "code",
      "metadata": {
        "id": "YsE7pafeqtDi",
        "outputId": "e528e1d9-8f89-4876-f122-2d51480b2b05",
        "colab": {
          "base_uri": "https://localhost:8080/",
          "height": 51
        }
      },
      "source": [
        "# Exemplo de Lista\n",
        "lista = lista = ['Eduardo', 'Maria', 'José', 'João', \"Joana D'arc\"]\n",
        "print('O exemplo abaixo é uma Lista em Python:')\n",
        "print(lista)"
      ],
      "execution_count": 4,
      "outputs": [
        {
          "output_type": "stream",
          "text": [
            "O exemplo abaixo é uma Lista em Python:\n",
            "['Eduardo', 'Maria', 'José', 'João', \"Joana D'arc\"]\n"
          ],
          "name": "stdout"
        }
      ]
    },
    {
      "cell_type": "code",
      "metadata": {
        "id": "nM8pVEXJSU2c",
        "outputId": "82545200-7d4b-4257-e4fe-5ff170f4d9e8",
        "colab": {
          "base_uri": "https://localhost:8080/",
          "height": 51
        }
      },
      "source": [
        "tupla = (\"Eduardo\", \"Maria\", \"José\", \"João\", \"Joana D'arc\")\n",
        "tupla_copiada.append('Ricardo') # append() - Adicionar um novo elemento no final da lista\n",
        "tupla_copiada.pop(0) # pop() - Remover o primeiro elemento\n",
        "print(tupla)\n",
        "print(tupla_copiada)"
      ],
      "execution_count": 63,
      "outputs": [
        {
          "output_type": "stream",
          "text": [
            "('Eduardo', 'Maria', 'José', 'João', \"Joana D'arc\")\n",
            "['José', 'João', \"Joana D'arc\", 'Ricardo', 'Ricardo']\n"
          ],
          "name": "stdout"
        }
      ]
    },
    {
      "cell_type": "code",
      "metadata": {
        "id": "sb_363XCTfY3",
        "outputId": "f1d3a4cc-6287-45ed-e46c-1b3c551604f4",
        "colab": {
          "base_uri": "https://localhost:8080/",
          "height": 51
        }
      },
      "source": [
        "# Verificar se um elemento está na Tupla\n",
        "tupla = ('Eduardo', 'Maria', 'José', 'João')\n",
        "nome = input('Digite o seu nome: ')\n",
        "if (nome in lista):\n",
        "  print('O seu nome \"{}\" está na tupla!'.format(nome))\n",
        "else:\n",
        "  print('O seu nome \"{}\" não está na tupla!'.format(nome))"
      ],
      "execution_count": 5,
      "outputs": [
        {
          "output_type": "stream",
          "text": [
            "Digite o seu nome: Eduardo\n",
            "O seu nome \"Eduardo\" está na tupla!\n"
          ],
          "name": "stdout"
        }
      ]
    },
    {
      "cell_type": "code",
      "metadata": {
        "id": "R_mbpUP9rRDX",
        "outputId": "57a4d93b-eb99-4633-93a6-8c3d490c51b7",
        "colab": {
          "base_uri": "https://localhost:8080/",
          "height": 51
        }
      },
      "source": [
        "# Verificar se um elemento está na Tupla\n",
        "tupla = ('Eduardo', 'Maria', 'José', 'João')\n",
        "nome = input('Digite o seu nome: ')\n",
        "if (nome in lista):\n",
        "  print('O seu nome \"{}\" está na tupla!'.format(nome))\n",
        "else:\n",
        "  print('O seu nome \"{}\" não está na tupla!'.format(nome))"
      ],
      "execution_count": 6,
      "outputs": [
        {
          "output_type": "stream",
          "text": [
            "Digite o seu nome: Manoel\n",
            "O seu nome \"Manoel\" não está na tupla!\n"
          ],
          "name": "stdout"
        }
      ]
    },
    {
      "cell_type": "markdown",
      "metadata": {
        "id": "X-057aj0uUFc"
      },
      "source": [
        "# Laços de **Repetição**"
      ]
    },
    {
      "cell_type": "code",
      "metadata": {
        "id": "Apm_XhyQueiu",
        "outputId": "ab6c5c62-dc09-436f-c1d4-81582a16556e",
        "colab": {
          "base_uri": "https://localhost:8080/",
          "height": 51
        }
      },
      "source": [
        "senha = input('Digite a sua senha: ')\n",
        "if senha=='secreto':\n",
        "  print('Senha Correta!')\n",
        "else:\n",
        "  print('Senha inválida!')"
      ],
      "execution_count": 17,
      "outputs": [
        {
          "output_type": "stream",
          "text": [
            "Digite a sua senha: secreto\n",
            "Senha Correta!\n"
          ],
          "name": "stdout"
        }
      ]
    },
    {
      "cell_type": "code",
      "metadata": {
        "id": "UrIk_e_ivOO6",
        "outputId": "acb7a5ec-dd78-4293-b615-6a046928292c",
        "colab": {
          "base_uri": "https://localhost:8080/",
          "height": 187
        }
      },
      "source": [
        "senha_correta = False\n",
        "tentativas = 3\n",
        "while ((not senha_correta) and (tentativas > 0 )):\n",
        "  senha = input('Digite a sua senha: ')\n",
        "  senha_correta = senha == 'secreto'  \n",
        "  if (not senha_correta):\n",
        "    print('A senha não está correta!')\n",
        "    tentativas -=1\n",
        "    print('Voce ainda tem {} tentativa(s).'.format(tentativas))\n",
        "  else:\n",
        "    print('Parabéns, você  digitou a senha correta')\n",
        "print('FIM')"
      ],
      "execution_count": 58,
      "outputs": [
        {
          "output_type": "stream",
          "text": [
            "Digite a sua senha: 1\n",
            "A senha não está correta!\n",
            "Voce ainda tem 2 tentativa(s).\n",
            "Digite a sua senha: 2\n",
            "A senha não está correta!\n",
            "Voce ainda tem 1 tentativa(s).\n",
            "Digite a sua senha: 3\n",
            "A senha não está correta!\n",
            "Voce ainda tem 0 tentativa(s).\n",
            "FIM\n"
          ],
          "name": "stdout"
        }
      ]
    },
    {
      "cell_type": "code",
      "metadata": {
        "id": "WnkhUDjA3DPW",
        "outputId": "d6878e73-3045-420d-9075-a4f68cfb4463",
        "colab": {
          "base_uri": "https://localhost:8080/",
          "height": 187
        }
      },
      "source": [
        "senha_correta = False\n",
        "tentativas = 3\n",
        "while ((not senha_correta) and (tentativas > 0)):\n",
        "  senha = input('Digite a sua senha: ')\n",
        "  senha_correta = senha == 'secreto'  \n",
        "  if (not senha_correta):\n",
        "    print('A senha não está correta!')\n",
        "    tentativas -=1\n",
        "    print('Voce ainda tem {} tentativa(s).'.format(tentativas))\n",
        "  else:\n",
        "    print('Parabéns, você  digitou a senha correta')\n",
        "print('FIM')"
      ],
      "execution_count": 61,
      "outputs": [
        {
          "output_type": "stream",
          "text": [
            "Digite a sua senha: tentativa1\n",
            "A senha não está correta!\n",
            "Voce ainda tem 2 tentativa(s).\n",
            "Digite a sua senha: tentativa2\n",
            "A senha não está correta!\n",
            "Voce ainda tem 1 tentativa(s).\n",
            "Digite a sua senha: tentativa3\n",
            "A senha não está correta!\n",
            "Voce ainda tem 0 tentativa(s).\n",
            "FIM\n"
          ],
          "name": "stdout"
        }
      ]
    },
    {
      "cell_type": "markdown",
      "metadata": {
        "id": "vGpFGRpLPy0P"
      },
      "source": [
        "*Dicionários*"
      ]
    },
    {
      "cell_type": "code",
      "metadata": {
        "id": "PZrGByL1PyHZ",
        "outputId": "ab95ec8c-82a6-42b2-99a0-7311bc15842a",
        "colab": {
          "base_uri": "https://localhost:8080/",
          "height": 51
        }
      },
      "source": [
        "# Exemplo de um dicionário\n",
        "pessoa = {\n",
        "    'id': 1,\n",
        "    'nome': 'Eduardo',\n",
        "    'endereco': 'Av. das Américas, 700',\n",
        "    'idade': 18\n",
        "}\n",
        "print('Isso é um dicionário: ')\n",
        "print(pessoa)"
      ],
      "execution_count": 71,
      "outputs": [
        {
          "output_type": "stream",
          "text": [
            "Isso é um dicionário: \n",
            "{'id': 1, 'nome': 'Eduardo', 'endereco': 'Av. das Américas, 700', 'idade': 18}\n"
          ],
          "name": "stdout"
        }
      ]
    },
    {
      "cell_type": "code",
      "metadata": {
        "id": "6KKUBCXNQF8a",
        "outputId": "1218d789-4b55-4d1e-b2ad-e895a29edb89",
        "colab": {
          "base_uri": "https://localhost:8080/",
          "height": 54
        }
      },
      "source": [
        "# Exemplo de um dicionário com a função append()\n",
        "# Cada pessoa é um item do dicionário\n",
        "lista_pessoas = []\n",
        "lista_pessoas.append({\n",
        "    \"id\": 1,\n",
        "    \"nome\": 'Eduardo',\n",
        "    \"endereco\": 'Rua 1',\n",
        "    \"idade\": 21\n",
        "})\n",
        "lista_pessoas.append({\n",
        "    \"id\": 2,\n",
        "    \"nome\": 'Mariana',\n",
        "    \"endereco\": 'Rua 2',\n",
        "    \"idade\": 22\n",
        "})\n",
        "lista_pessoas.append({\n",
        "    \"id\": 3,\n",
        "    \"nome\": 'Adriana',\n",
        "    \"endereco\": 'Rua 3',\n",
        "    \"idade\": 23\n",
        "})\n",
        "print(lista_pessoas)"
      ],
      "execution_count": 86,
      "outputs": [
        {
          "output_type": "stream",
          "text": [
            "[{'id': 1, 'nome': 'Eduardo', 'endereco': 'Rua 1', 'idade': 21}, {'id': 2, 'nome': 'Mariana', 'endereco': 'Rua 2', 'idade': 22}, {'id': 3, 'nome': 'Adriana', 'endereco': 'Rua 3', 'idade': 23}]\n"
          ],
          "name": "stdout"
        }
      ]
    },
    {
      "cell_type": "code",
      "metadata": {
        "id": "Namjs1iHQPNu",
        "outputId": "10c09b9b-adbd-4733-e241-2cef1c72e5b8",
        "colab": {
          "base_uri": "https://localhost:8080/",
          "height": 68
        }
      },
      "source": [
        "print(lista_pessoas[0])\n",
        "print(lista_pessoas[1])\n",
        "print(lista_pessoas[2])"
      ],
      "execution_count": 87,
      "outputs": [
        {
          "output_type": "stream",
          "text": [
            "{'id': 1, 'nome': 'Eduardo', 'endereco': 'Rua 1', 'idade': 21}\n",
            "{'id': 2, 'nome': 'Mariana', 'endereco': 'Rua 2', 'idade': 22}\n",
            "{'id': 3, 'nome': 'Adriana', 'endereco': 'Rua 3', 'idade': 23}\n"
          ],
          "name": "stdout"
        }
      ]
    },
    {
      "cell_type": "code",
      "metadata": {
        "id": "KZ9NF4HzR7xp",
        "outputId": "3b094150-1e46-4857-f47f-f23837a298fb",
        "colab": {
          "base_uri": "https://localhost:8080/",
          "height": 34
        }
      },
      "source": [
        "print(lista_pessoas[-1])"
      ],
      "execution_count": 88,
      "outputs": [
        {
          "output_type": "stream",
          "text": [
            "{'id': 3, 'nome': 'Adriana', 'endereco': 'Rua 3', 'idade': 23}\n"
          ],
          "name": "stdout"
        }
      ]
    },
    {
      "cell_type": "code",
      "metadata": {
        "id": "McD6IL-6Q1bY",
        "outputId": "5322375b-1cff-4780-b768-b7940884e839",
        "colab": {
          "base_uri": "https://localhost:8080/",
          "height": 34
        }
      },
      "source": [
        "print(lista_pessoas[-1])"
      ],
      "execution_count": 89,
      "outputs": [
        {
          "output_type": "stream",
          "text": [
            "{'id': 3, 'nome': 'Adriana', 'endereco': 'Rua 3', 'idade': 23}\n"
          ],
          "name": "stdout"
        }
      ]
    },
    {
      "cell_type": "code",
      "metadata": {
        "id": "MsRgxqIYScLs",
        "outputId": "234dddb4-9c76-417d-d976-e38ad6c1059b",
        "colab": {
          "base_uri": "https://localhost:8080/",
          "height": 68
        }
      },
      "source": [
        "for index in lista_pessoas:\n",
        "  print('O  id {} tem o nome de {}.'.format(index['id'], index['nome']))"
      ],
      "execution_count": 109,
      "outputs": [
        {
          "output_type": "stream",
          "text": [
            "O  id 1 tem o nome de Eduardo.\n",
            "O  id 2 tem o nome de Mariana.\n",
            "O  id 3 tem o nome de Adriana.\n"
          ],
          "name": "stdout"
        }
      ]
    },
    {
      "cell_type": "code",
      "metadata": {
        "id": "5D07X-FNVpFT",
        "outputId": "ac6df362-ade3-4303-b951-a8d18ac12719",
        "colab": {
          "base_uri": "https://localhost:8080/",
          "height": 54
        }
      },
      "source": [
        "lista_pessoas = []\n",
        "lista_pessoas.append({\n",
        "    \"id\": 1,\n",
        "    \"nome\": 'Eduardo',\n",
        "    \"endereco\": 'Rua 1',\n",
        "    \"idade\": 21,\n",
        "    \"salario\": 1000.10\n",
        "})\n",
        "lista_pessoas.append({\n",
        "    \"id\": 2,\n",
        "    \"nome\": 'Mariana',\n",
        "    \"endereco\": 'Rua 2',\n",
        "    \"idade\": 22,\n",
        "    \"salario\": 2000.20\n",
        "})\n",
        "lista_pessoas.append({\n",
        "    \"id\": 3,\n",
        "    \"nome\": 'Adriana',\n",
        "    \"endereco\": 'Rua 3',\n",
        "    \"idade\": 23,\n",
        "    \"salario\": 33000.30\n",
        "})\n",
        "print(lista_pessoas)"
      ],
      "execution_count": 145,
      "outputs": [
        {
          "output_type": "stream",
          "text": [
            "[{'id': 1, 'nome': 'Eduardo', 'endereco': 'Rua 1', 'idade': 21, 'salario': 1000.1}, {'id': 2, 'nome': 'Mariana', 'endereco': 'Rua 2', 'idade': 22, 'salario': 2000.2}, {'id': 3, 'nome': 'Adriana', 'endereco': 'Rua 3', 'idade': 23, 'salario': 33000.3}]\n"
          ],
          "name": "stdout"
        }
      ]
    },
    {
      "cell_type": "code",
      "metadata": {
        "id": "Ri8dktdYV3yo",
        "outputId": "81bda75d-22d9-4316-e398-24021f60d552",
        "colab": {
          "base_uri": "https://localhost:8080/",
          "height": 68
        }
      },
      "source": [
        "for index in lista_pessoas:\n",
        "  print('O  id {} tem o nome de {} tem o salário de ${:8.2f}'.format(index['id'], index['nome'], index['salario']))"
      ],
      "execution_count": 155,
      "outputs": [
        {
          "output_type": "stream",
          "text": [
            "O  id 1 tem o nome de Eduardo tem o salário de $ 1000.10\n",
            "O  id 2 tem o nome de Mariana tem o salário de $ 2000.20\n",
            "O  id 3 tem o nome de Adriana tem o salário de $33000.30\n"
          ],
          "name": "stdout"
        }
      ]
    },
    {
      "cell_type": "code",
      "metadata": {
        "id": "RskPsINJaEh0",
        "outputId": "26124f69-a864-4789-a912-f4cbe6ab5818",
        "colab": {
          "base_uri": "https://localhost:8080/",
          "height": 68
        }
      },
      "source": [
        "for index in lista_pessoas:\n",
        "  print('O  id {} tem o nome de {} tem o salário de ${:.2f}'.format(index['id'], index['nome'], index['salario']))"
      ],
      "execution_count": 154,
      "outputs": [
        {
          "output_type": "stream",
          "text": [
            "O  id 1 tem o nome de Eduardo tem o salário de $1000.10\n",
            "O  id 2 tem o nome de Mariana tem o salário de $2000.20\n",
            "O  id 3 tem o nome de Adriana tem o salário de $33000.30\n"
          ],
          "name": "stdout"
        }
      ]
    },
    {
      "cell_type": "code",
      "metadata": {
        "id": "Tf0Vximnaeln",
        "outputId": "135b74f7-1a78-4eb9-c810-49c1de9c2da9",
        "colab": {
          "base_uri": "https://localhost:8080/",
          "height": 51
        }
      },
      "source": [
        "print('Laço For - Apresentar os salários maiores que $30 mil: ')\n",
        "for pessoa in lista_pessoas:\n",
        "  if(pessoa['salario'] > 30000):\n",
        "    print('O  id {} tem o nome de {} tem o salário de ${:.2f}'.format(index['id'], index['nome'], index['salario']))"
      ],
      "execution_count": 158,
      "outputs": [
        {
          "output_type": "stream",
          "text": [
            "Laço For - Apresentar os salários maiores que $30 mil: \n",
            "O  id 3 tem o nome de Adriana tem o salário de $33000.30\n"
          ],
          "name": "stdout"
        }
      ]
    },
    {
      "cell_type": "code",
      "metadata": {
        "id": "XeS_lJLGbVs-",
        "outputId": "c27b38a5-0228-4589-a3b0-bf2381df4995",
        "colab": {
          "base_uri": "https://localhost:8080/",
          "height": 187
        }
      },
      "source": [
        "# Mostras os números de 1 a 10\n",
        "for numero in range(1, 11):\n",
        "  print('Número {}.'.format(numero))"
      ],
      "execution_count": 162,
      "outputs": [
        {
          "output_type": "stream",
          "text": [
            "Número 1.\n",
            "Número 2.\n",
            "Número 3.\n",
            "Número 4.\n",
            "Número 5.\n",
            "Número 6.\n",
            "Número 7.\n",
            "Número 8.\n",
            "Número 9.\n",
            "Número 10.\n"
          ],
          "name": "stdout"
        }
      ]
    },
    {
      "cell_type": "code",
      "metadata": {
        "id": "ZKrnZsIxb55J",
        "outputId": "4255ab7f-0bb6-45ac-c5ef-8d1d4168c912",
        "colab": {
          "base_uri": "https://localhost:8080/",
          "height": 102
        }
      },
      "source": [
        "# Mostras os números pares de 1 a 10\n",
        "for numero in range(1, 11):\n",
        "  if numero % 2 == 0:\n",
        "    print('O número {} é par.'.format(numero))"
      ],
      "execution_count": 163,
      "outputs": [
        {
          "output_type": "stream",
          "text": [
            "O número 2 é par.\n",
            "O número 4 é par.\n",
            "O número 6 é par.\n",
            "O número 8 é par.\n",
            "O número 10 é par.\n"
          ],
          "name": "stdout"
        }
      ]
    },
    {
      "cell_type": "code",
      "metadata": {
        "id": "P69MZ7mochBU",
        "outputId": "cb98575f-8226-48bb-f34b-a6c16e9cf722",
        "colab": {
          "base_uri": "https://localhost:8080/",
          "height": 102
        }
      },
      "source": [
        "# range(start, stop[,step]) -> range object\n",
        "\n",
        "# Mostras os números pares de 1 a 10\n",
        "\n",
        "for numero in range(2, 11, 2):\n",
        "  # if numero % 2 == 0:  # Não precisa usar esse trecho!\n",
        "    print('O número {} é par.'.format(numero))"
      ],
      "execution_count": 167,
      "outputs": [
        {
          "output_type": "stream",
          "text": [
            "O número 2 é par.\n",
            "O número 4 é par.\n",
            "O número 6 é par.\n",
            "O número 8 é par.\n",
            "O número 10 é par.\n"
          ],
          "name": "stdout"
        }
      ]
    },
    {
      "cell_type": "code",
      "metadata": {
        "id": "6jhyuyCjdmE_",
        "outputId": "d9c3755a-29ce-4330-9473-63b6d67b840c",
        "colab": {
          "base_uri": "https://localhost:8080/",
          "height": 51
        }
      },
      "source": [
        "senha = input('Digite a sua senha: ') \n",
        "print(senha)"
      ],
      "execution_count": 169,
      "outputs": [
        {
          "output_type": "stream",
          "text": [
            "Digite a sua senha: teste\n",
            "teste\n"
          ],
          "name": "stdout"
        }
      ]
    },
    {
      "cell_type": "code",
      "metadata": {
        "id": "VtrHE-z-d87W",
        "outputId": "199b8203-e93d-4c9a-cda3-256d4540c98e",
        "colab": {
          "base_uri": "https://localhost:8080/",
          "height": 68
        }
      },
      "source": [
        "from getpass import getpass\n",
        "\n",
        "# import getpass -> getpass.getpass()\n",
        "# getpass() is 'Password:'\n",
        "# getpass() can be used to hide the input.\n",
        "\n",
        "senha = getpass('Digite a sua senha: ') \n",
        "print(\"getpass.getpass () é usado para ocultar a entrada, ou seja, ocultar a senha ao digitar.\")\n",
        "print('A sua senha digitada é {}'.format(senha))"
      ],
      "execution_count": 182,
      "outputs": [
        {
          "output_type": "stream",
          "text": [
            "Digite a sua senha: ··········\n",
            "getpass.getpass () é usado para ocultar a entrada, ou seja, ocultar a senha ao digitar.\n",
            "A sua senha digitada é 123456\n"
          ],
          "name": "stdout"
        }
      ]
    },
    {
      "cell_type": "code",
      "metadata": {
        "id": "omcZQLlCgLeP",
        "outputId": "f48f9c0f-9c1e-45c9-f032-15d208943186",
        "colab": {
          "base_uri": "https://localhost:8080/",
          "height": 68
        }
      },
      "source": [
        "# getuser() - retorna o usuário local da maquina (usuário está logado)\n",
        "\n",
        "from getpass import getpass, getuser\n",
        "senha = getpass('Digite a sua senha: ')\n",
        "usuario = getuser() # retorna o usuário local da maquina\n",
        "print('User: {}'.format(usuario))\n",
        "print(usuario)"
      ],
      "execution_count": 187,
      "outputs": [
        {
          "output_type": "stream",
          "text": [
            "Digite a sua senha: ··········\n",
            "User: root\n",
            "root\n"
          ],
          "name": "stdout"
        }
      ]
    }
  ]
}