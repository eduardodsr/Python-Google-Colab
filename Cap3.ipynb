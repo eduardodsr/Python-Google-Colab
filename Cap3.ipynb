{
  "nbformat": 4,
  "nbformat_minor": 0,
  "metadata": {
    "colab": {
      "name": "Cap3.ipynb",
      "provenance": [],
      "collapsed_sections": [],
      "authorship_tag": "ABX9TyMYV0+BJWewkDwewJmh9cjm",
      "include_colab_link": true
    },
    "kernelspec": {
      "name": "python3",
      "display_name": "Python 3"
    }
  },
  "cells": [
    {
      "cell_type": "markdown",
      "metadata": {
        "id": "view-in-github",
        "colab_type": "text"
      },
      "source": [
        "<a href=\"https://colab.research.google.com/github/eduardodsr/Python-Google-Colab/blob/master/Cap3.ipynb\" target=\"_parent\"><img src=\"https://colab.research.google.com/assets/colab-badge.svg\" alt=\"Open In Colab\"/></a>"
      ]
    },
    {
      "cell_type": "markdown",
      "metadata": {
        "id": "5bFKCvMT98y3"
      },
      "source": [
        "# CAP3 - Laços de repetição - Dicionários e Lista"
      ]
    },
    {
      "cell_type": "code",
      "metadata": {
        "id": "Z7h0z5xB9x7T",
        "outputId": "9526e3e7-9673-4ec9-e043-64d99748936a",
        "colab": {
          "base_uri": "https://localhost:8080/",
          "height": 34
        }
      },
      "source": [
        "nome = 'Eduardo'\n",
        "endereco = 'Av. das Américas, 700'\n",
        "idade = '18'\n",
        "print('nome: {}, Endereco: {}, Idade: {}'.format(nome, endereco, idade))"
      ],
      "execution_count": null,
      "outputs": [
        {
          "output_type": "stream",
          "text": [
            "nome: Eduardo, Endereco: Av. das Américas, 700, Idade: 18\n"
          ],
          "name": "stdout"
        }
      ]
    },
    {
      "cell_type": "code",
      "metadata": {
        "id": "UmYCaupg-yhP",
        "outputId": "806b8b93-d51e-49b3-c88a-205e555646b4",
        "colab": {
          "base_uri": "https://localhost:8080/",
          "height": 51
        }
      },
      "source": [
        "# Exemplo de um dicionário\n",
        "pessoa = {\n",
        "    'nome': 'Eduardo',\n",
        "    'endereco': 'Av. das Américas, 700',\n",
        "    'idade': 18\n",
        "}\n",
        "print('Isso é um dicionário: ')\n",
        "print(pessoa)"
      ],
      "execution_count": null,
      "outputs": [
        {
          "output_type": "stream",
          "text": [
            "Isso é um dicionário: \n",
            "{'nome': 'Eduardo', 'endereco': 'Av. das Américas, 700', 'idade': 18}\n"
          ],
          "name": "stdout"
        }
      ]
    },
    {
      "cell_type": "code",
      "metadata": {
        "id": "dg6ToWC4_g1o",
        "outputId": "425b1bf1-cb6d-4b98-dd7b-2b61d3f09d64",
        "colab": {
          "base_uri": "https://localhost:8080/",
          "height": 68
        }
      },
      "source": [
        "print(pessoa['nome']) # 'Eduardo\n",
        "print(pessoa['endereco']) # 'Av. das Américas, 700'\n",
        "print(pessoa['idade']) # 18"
      ],
      "execution_count": null,
      "outputs": [
        {
          "output_type": "stream",
          "text": [
            "Eduardo\n",
            "Av. das Américas, 700\n",
            "18\n"
          ],
          "name": "stdout"
        }
      ]
    },
    {
      "cell_type": "code",
      "metadata": {
        "id": "nmHTuY7fE4f8",
        "outputId": "62acaafb-6f4b-42af-b4d4-e1d2ea3f588e",
        "colab": {
          "base_uri": "https://localhost:8080/",
          "height": 119
        }
      },
      "source": [
        "# Exemplo de uma lista\n",
        "lista = ['Eduardo', 'Maria', 'José', 'João']\n",
        "print(lista)\n",
        "print(lista[0]) # primeiro Item da Lista, posição 0\n",
        "print(lista[-1]) # último Item da Lista, posição -1\n",
        "print(lista[2:3]) # Lembrando que a última posição do elemento não é apresentada\n",
        "print(lista[:2]) # Retornar do inicio até posição 2\n",
        "print('O tamanho da lista tem {} itens.'.format(len(lista)))"
      ],
      "execution_count": 34,
      "outputs": [
        {
          "output_type": "stream",
          "text": [
            "['Eduardo', 'Maria', 'José', 'João']\n",
            "Eduardo\n",
            "João\n",
            "['José']\n",
            "['Eduardo', 'Maria']\n",
            "O tamanho da lista tem 4 itens.\n"
          ],
          "name": "stdout"
        }
      ]
    },
    {
      "cell_type": "code",
      "metadata": {
        "id": "tu_QFFMCJNNO"
      },
      "source": [
        ""
      ],
      "execution_count": null,
      "outputs": []
    },
    {
      "cell_type": "code",
      "metadata": {
        "id": "gMAQ0zu0Gw6S",
        "outputId": "2c13472e-af69-4636-c94f-29b0d71af634",
        "colab": {
          "base_uri": "https://localhost:8080/",
          "height": 34
        }
      },
      "source": [
        "# lista = ['Eduardo', 'Maria', 'José', 'João']\n",
        "lista[0] = 'Rodrigo' # Na posição 0 da lista trocou o nome para'Rodrigo'\n",
        "print(lista)"
      ],
      "execution_count": 23,
      "outputs": [
        {
          "output_type": "stream",
          "text": [
            "['Rodrigo', 'Maria', 'José', 'João']\n"
          ],
          "name": "stdout"
        }
      ]
    },
    {
      "cell_type": "code",
      "metadata": {
        "id": "jEWs7AzVHQqT",
        "outputId": "20ca5d4a-224e-49be-909d-f60745ad63d9",
        "colab": {
          "base_uri": "https://localhost:8080/",
          "height": 68
        }
      },
      "source": [
        "nome = 'Eduardo'\n",
        "print(len(nome)) # Tamanho\n",
        "print(nome[0]) # Posição 0\n",
        "print(nome[-1]) # Ultima posição"
      ],
      "execution_count": 29,
      "outputs": [
        {
          "output_type": "stream",
          "text": [
            "7\n",
            "E\n",
            "o\n"
          ],
          "name": "stdout"
        }
      ]
    },
    {
      "cell_type": "code",
      "metadata": {
        "id": "1_-nYCoUJQbh",
        "outputId": "892f1083-8f16-40cf-973d-a0dd901a57f1",
        "colab": {
          "base_uri": "https://localhost:8080/",
          "height": 34
        }
      },
      "source": [
        "# append() - adiciona um novo elemento no final da lista\n",
        "lista = ['Eduardo', 'Maria', 'José', 'João']\n",
        "lista.append('Joana') # 'Joana' foi incluida no final da lista\n",
        "print(lista)"
      ],
      "execution_count": 35,
      "outputs": [
        {
          "output_type": "stream",
          "text": [
            "['Eduardo', 'Maria', 'José', 'João', 'Joana']\n"
          ],
          "name": "stdout"
        }
      ]
    },
    {
      "cell_type": "code",
      "metadata": {
        "id": "Bkps3l0NJxAl",
        "outputId": "558bfaa7-5219-420b-ecdd-3602990bdcf3",
        "colab": {
          "base_uri": "https://localhost:8080/",
          "height": 51
        }
      },
      "source": [
        "# copy() - copia da lista\n",
        "lista_copia = lista.copy()\n",
        "# print(lista_copia)\n",
        "lista_copia[0] = 'Eduardo Rodrigues'\n",
        "lista_copia[1] = 'Maria Silva'\n",
        "lista_copia[2] = 'José Pereira'\n",
        "lista_copia[3] = 'João Bosco'\n",
        "lista_copia[4] = 'Joana Darc'\n",
        "print(lista)\n",
        "print(lista_copia)"
      ],
      "execution_count": 39,
      "outputs": [
        {
          "output_type": "stream",
          "text": [
            "['Eduardo', 'Maria', 'José', 'João', 'Joana']\n",
            "['Eduardo Rodrigues', 'Maria Silva', 'José Pereira', 'João Bosco', 'Joana Darc']\n"
          ],
          "name": "stdout"
        }
      ]
    },
    {
      "cell_type": "code",
      "metadata": {
        "id": "1VgQlsBpLVCt",
        "outputId": "98d2c915-3c57-4558-f62e-4f4fa6b67f2a",
        "colab": {
          "base_uri": "https://localhost:8080/",
          "height": 34
        }
      },
      "source": [
        "# insert(index, object) - inserir um novo elemento na lista na posicao selecionada\n",
        "lista = ['Eduardo', 'Maria', 'José', 'João']\n",
        "lista.insert(0, 'Joana') # Inserir no indice 0 , objeto 'Joana'\n",
        "print(lista)"
      ],
      "execution_count": 40,
      "outputs": [
        {
          "output_type": "stream",
          "text": [
            "['Joana', 'Eduardo', 'Maria', 'José', 'João']\n"
          ],
          "name": "stdout"
        }
      ]
    },
    {
      "cell_type": "code",
      "metadata": {
        "id": "jaK1vF6XMUEu",
        "outputId": "a9dd72d4-8e6b-4149-aead-9f7a6301880a",
        "colab": {
          "base_uri": "https://localhost:8080/",
          "height": 34
        }
      },
      "source": [
        "# remove() - remover elemento da lista\n",
        "lista = ['Eduardo', 'Maria', 'José', 'João']\n",
        "lista.remove('Maria') # Remover a 'Maria' da lista\n",
        "print(lista)"
      ],
      "execution_count": 41,
      "outputs": [
        {
          "output_type": "stream",
          "text": [
            "['Eduardo', 'José', 'João']\n"
          ],
          "name": "stdout"
        }
      ]
    },
    {
      "cell_type": "code",
      "metadata": {
        "id": "3AWye4I9MvDZ",
        "outputId": "5424419e-c69b-4dab-cc53-e7e75f02fd6a",
        "colab": {
          "base_uri": "https://localhost:8080/",
          "height": 85
        }
      },
      "source": [
        "# pop() - remove and retorn the index\n",
        "# Retirar o ultimo elemento da lista\n",
        "lista = ['Eduardo', 'Maria', 'José', 'João']\n",
        "lista_copia = lista.copy();\n",
        "lista_ultimo_elemento_retirado = lista_copia.pop(-1) # Removeu o último elemento da lista\n",
        "lista_primeiro_elemento_retirado = lista_copia.pop(0) # Removeu o primeiro elemento da lista\n",
        "print('Lista original: {}'.format(lista))\n",
        "print('Ultimo Elemento Retirado: {}'.format(lista_ultimo_elemento_retirado))\n",
        "print('Primeiro Elemento Retirado: {}'.format(lista_primeiro_elemento_retirado))\n",
        "print('Lista alterada: {}'.format(lista_copia))"
      ],
      "execution_count": 49,
      "outputs": [
        {
          "output_type": "stream",
          "text": [
            "Lista original: ['Eduardo', 'Maria', 'José', 'João']\n",
            "Ultimo Elemento Retirado: João\n",
            "Primeiro Elemento Retirado: Eduardo\n",
            "Lista alterada: ['Maria', 'José']\n"
          ],
          "name": "stdout"
        }
      ]
    },
    {
      "cell_type": "code",
      "metadata": {
        "id": "hpYnxxBIPUXk",
        "outputId": "bdf6d2ed-1277-4471-b1dc-086e3e28d559",
        "colab": {
          "base_uri": "https://localhost:8080/",
          "height": 34
        }
      },
      "source": [
        "# Verificar se um elemento está na lista\n",
        "lista = ['Eduardo', 'Maria', 'José', 'João']\n",
        "if ('Eduardo' in lista):\n",
        "  print('SIM')\n",
        "else:\n",
        "  print('NÃO')"
      ],
      "execution_count": 51,
      "outputs": [
        {
          "output_type": "stream",
          "text": [
            "SIM\n"
          ],
          "name": "stdout"
        }
      ]
    },
    {
      "cell_type": "code",
      "metadata": {
        "id": "Jl2t3uOWQF1D",
        "outputId": "278c97be-617b-492a-bf13-7988fcdf3b65",
        "colab": {
          "base_uri": "https://localhost:8080/",
          "height": 51
        }
      },
      "source": [
        "# Verificar se um elemento está na lista\n",
        "lista = ['Eduardo', 'Maria', 'José', 'João']\n",
        "nome = input('Digite o seu nome: ')\n",
        "if (nome in lista):\n",
        "  print('O seu nome \"{}\" está na lista!'.format(nome))\n",
        "else:\n",
        "  print('O seu nome \"{}\" não está na lista!'.format(nome))"
      ],
      "execution_count": 53,
      "outputs": [
        {
          "output_type": "stream",
          "text": [
            "Digite o seu nome: Eduardo\n",
            "O seu nome \"Eduardo\" está na lista!\n"
          ],
          "name": "stdout"
        }
      ]
    },
    {
      "cell_type": "code",
      "metadata": {
        "id": "g1An4FhIQlxI",
        "outputId": "e329579f-6327-4bc1-cc6b-e145c8e22b50",
        "colab": {
          "base_uri": "https://localhost:8080/",
          "height": 51
        }
      },
      "source": [
        "# Verificar se um elemento está na lista\n",
        "lista = ['Eduardo', 'Maria', 'José', 'João']\n",
        "nome = input('Digite o seu nome: ')\n",
        "if (nome in lista):\n",
        "  print('O seu nome \"{}\" está na lista!'.format(nome))\n",
        "else:\n",
        "  print('O seu nome \"{}\" não está na lista!'.format(nome))"
      ],
      "execution_count": 54,
      "outputs": [
        {
          "output_type": "stream",
          "text": [
            "Digite o seu nome: Paulo\n",
            "O seu nome \"Paulo\" não está na lista!\n"
          ],
          "name": "stdout"
        }
      ]
    },
    {
      "cell_type": "markdown",
      "metadata": {
        "id": "4bGBfxJYQ9ES"
      },
      "source": [
        "# CAP3 - Laços de repetição - Tuplas\n",
        "\n",
        "*   Exemplo de Tupla - Características:\n",
        "*  São listas imutáveis;\n",
        "*  Caso precise modificar uma tupla, você deve criar uma nova;\n",
        "*  Mais rápidas, porém, de uso mais complexo.\n",
        "\n"
      ]
    },
    {
      "cell_type": "code",
      "metadata": {
        "id": "AujtRO5tQ-yL",
        "outputId": "becb8b83-c4e8-4cb0-c944-6632cf7f78f4",
        "colab": {
          "base_uri": "https://localhost:8080/",
          "height": 51
        }
      },
      "source": [
        "# Exemplo de Tupla\n",
        "tupla = (\"Eduardo\", \"Maria\", \"José\", \"João\", \"Joana D'arc\")\n",
        "print('O exemplo abaixo é uma Tupla em Python:')\n",
        "print(tupla)\n"
      ],
      "execution_count": 2,
      "outputs": [
        {
          "output_type": "stream",
          "text": [
            "O exemplo abaixo é uma Tupla em Python:\n",
            "('Eduardo', 'Maria', 'José', 'João', \"Joana D'arc\")\n"
          ],
          "name": "stdout"
        }
      ]
    },
    {
      "cell_type": "code",
      "metadata": {
        "id": "YsE7pafeqtDi",
        "outputId": "e528e1d9-8f89-4876-f122-2d51480b2b05",
        "colab": {
          "base_uri": "https://localhost:8080/",
          "height": 51
        }
      },
      "source": [
        "# Exemplo de Lista\n",
        "lista = lista = ['Eduardo', 'Maria', 'José', 'João', \"Joana D'arc\"]\n",
        "print('O exemplo abaixo é uma Lista em Python:')\n",
        "print(lista)"
      ],
      "execution_count": 4,
      "outputs": [
        {
          "output_type": "stream",
          "text": [
            "O exemplo abaixo é uma Lista em Python:\n",
            "['Eduardo', 'Maria', 'José', 'João', \"Joana D'arc\"]\n"
          ],
          "name": "stdout"
        }
      ]
    },
    {
      "cell_type": "code",
      "metadata": {
        "id": "nM8pVEXJSU2c",
        "outputId": "82545200-7d4b-4257-e4fe-5ff170f4d9e8",
        "colab": {
          "base_uri": "https://localhost:8080/",
          "height": 51
        }
      },
      "source": [
        "tupla = (\"Eduardo\", \"Maria\", \"José\", \"João\", \"Joana D'arc\")\n",
        "tupla_copiada.append('Ricardo') # append() - Adicionar um novo elemento no final da lista\n",
        "tupla_copiada.pop(0) # pop() - Remover o primeiro elemento\n",
        "print(tupla)\n",
        "print(tupla_copiada)"
      ],
      "execution_count": 63,
      "outputs": [
        {
          "output_type": "stream",
          "text": [
            "('Eduardo', 'Maria', 'José', 'João', \"Joana D'arc\")\n",
            "['José', 'João', \"Joana D'arc\", 'Ricardo', 'Ricardo']\n"
          ],
          "name": "stdout"
        }
      ]
    },
    {
      "cell_type": "code",
      "metadata": {
        "id": "sb_363XCTfY3",
        "outputId": "f1d3a4cc-6287-45ed-e46c-1b3c551604f4",
        "colab": {
          "base_uri": "https://localhost:8080/",
          "height": 51
        }
      },
      "source": [
        "# Verificar se um elemento está na Tupla\n",
        "tupla = ('Eduardo', 'Maria', 'José', 'João')\n",
        "nome = input('Digite o seu nome: ')\n",
        "if (nome in lista):\n",
        "  print('O seu nome \"{}\" está na tupla!'.format(nome))\n",
        "else:\n",
        "  print('O seu nome \"{}\" não está na tupla!'.format(nome))"
      ],
      "execution_count": 5,
      "outputs": [
        {
          "output_type": "stream",
          "text": [
            "Digite o seu nome: Eduardo\n",
            "O seu nome \"Eduardo\" está na tupla!\n"
          ],
          "name": "stdout"
        }
      ]
    },
    {
      "cell_type": "code",
      "metadata": {
        "id": "R_mbpUP9rRDX",
        "outputId": "57a4d93b-eb99-4633-93a6-8c3d490c51b7",
        "colab": {
          "base_uri": "https://localhost:8080/",
          "height": 51
        }
      },
      "source": [
        "# Verificar se um elemento está na Tupla\n",
        "tupla = ('Eduardo', 'Maria', 'José', 'João')\n",
        "nome = input('Digite o seu nome: ')\n",
        "if (nome in lista):\n",
        "  print('O seu nome \"{}\" está na tupla!'.format(nome))\n",
        "else:\n",
        "  print('O seu nome \"{}\" não está na tupla!'.format(nome))"
      ],
      "execution_count": 6,
      "outputs": [
        {
          "output_type": "stream",
          "text": [
            "Digite o seu nome: Manoel\n",
            "O seu nome \"Manoel\" não está na tupla!\n"
          ],
          "name": "stdout"
        }
      ]
    }
  ]
}