{
  "nbformat": 4,
  "nbformat_minor": 0,
  "metadata": {
    "colab": {
      "name": "DevMod4PythonApostila.ipynb",
      "provenance": [],
      "collapsed_sections": [],
      "authorship_tag": "ABX9TyMIWx6RmRuWFyDGnBAf47Mr",
      "include_colab_link": true
    },
    "kernelspec": {
      "name": "python3",
      "display_name": "Python 3"
    }
  },
  "cells": [
    {
      "cell_type": "markdown",
      "metadata": {
        "id": "view-in-github",
        "colab_type": "text"
      },
      "source": [
        "<a href=\"https://colab.research.google.com/github/eduardodsr/Python-Google-Colab/blob/master/DevMod4PythonApostila.ipynb\" target=\"_parent\"><img src=\"https://colab.research.google.com/assets/colab-badge.svg\" alt=\"Open In Colab\"/></a>"
      ]
    },
    {
      "cell_type": "markdown",
      "metadata": {
        "id": "rLO5lMvkFgz6"
      },
      "source": [
        "*Programador Iniciante - Modulo 4 Python - Apostila*"
      ]
    },
    {
      "cell_type": "markdown",
      "metadata": {
        "id": "Y12_ZaCGFrMZ"
      },
      "source": [
        "*Capítulo 2 - Exibindo e recebendo dados na tela*"
      ]
    },
    {
      "cell_type": "code",
      "metadata": {
        "id": "nTMQ5gJHFncR",
        "outputId": "7ac9ba27-48bb-4050-d498-fd958772854a",
        "colab": {
          "base_uri": "https://localhost:8080/",
          "height": 34
        }
      },
      "source": [
        "print('Olá, Mundo!')"
      ],
      "execution_count": null,
      "outputs": [
        {
          "output_type": "stream",
          "text": [
            "Olá, Mundo!\n"
          ],
          "name": "stdout"
        }
      ]
    },
    {
      "cell_type": "code",
      "metadata": {
        "id": "3DWoRYP_F7K9",
        "outputId": "2eb6e6bc-8163-49e0-c391-29486824101e",
        "colab": {
          "base_uri": "https://localhost:8080/",
          "height": 52
        }
      },
      "source": [
        "input('Digite o seu nome: ')"
      ],
      "execution_count": null,
      "outputs": [
        {
          "output_type": "stream",
          "text": [
            "Digite o seu nome: Eduardo\n"
          ],
          "name": "stdout"
        },
        {
          "output_type": "execute_result",
          "data": {
            "application/vnd.google.colaboratory.intrinsic+json": {
              "type": "string"
            },
            "text/plain": [
              "'Eduardo'"
            ]
          },
          "metadata": {
            "tags": []
          },
          "execution_count": 4
        }
      ]
    },
    {
      "cell_type": "code",
      "metadata": {
        "id": "_D8m3ZBkGEnU",
        "outputId": "cf2c7dad-c5d2-4377-86df-3630b8951b75",
        "colab": {
          "base_uri": "https://localhost:8080/",
          "height": 51
        }
      },
      "source": [
        "nome = input('Qual é o seu nome? ')\n",
        "print('Seja bem vindo(a) ' + nome)"
      ],
      "execution_count": null,
      "outputs": [
        {
          "output_type": "stream",
          "text": [
            "Qual é o seu nome? Eduardo\n",
            "Seja bem vindo(a) Eduardo\n"
          ],
          "name": "stdout"
        }
      ]
    },
    {
      "cell_type": "markdown",
      "metadata": {
        "id": "otPe3aNtGXcM"
      },
      "source": [
        "Em Python, os tipos de dados básicos são:\n",
        "\n",
        "*   Tipo **inteiro**: armazena números inteiros.\n",
        "\n",
        "*   Tipo **string**: armazena um conjunto de caracteres.\n",
        "\n",
        "*   Tipo **float**: armazena números em formato decimal.\n",
        "\n",
        "*   Tipo **Booleano**: armazena sempre True (Verdadeiro) ou False (Falso)."
      ]
    },
    {
      "cell_type": "markdown",
      "metadata": {
        "id": "dkIp2XH0GvDu"
      },
      "source": [
        "Exemplos:"
      ]
    },
    {
      "cell_type": "code",
      "metadata": {
        "id": "3gQxQtfUGoJY",
        "outputId": "266a18f5-f249-4603-8ba1-d64bb63c9ef2",
        "colab": {
          "base_uri": "https://localhost:8080/",
          "height": 34
        }
      },
      "source": [
        "numero=123\n",
        "print(numero)"
      ],
      "execution_count": null,
      "outputs": [
        {
          "output_type": "stream",
          "text": [
            "123\n"
          ],
          "name": "stdout"
        }
      ]
    },
    {
      "cell_type": "code",
      "metadata": {
        "id": "EN79YEqwG2SD",
        "outputId": "77a0bfb6-17a4-4352-916f-fc6ce86e83d2",
        "colab": {
          "base_uri": "https://localhost:8080/",
          "height": 51
        }
      },
      "source": [
        "numero='Hello World!'\n",
        "print(numero)\n",
        "type(numero)"
      ],
      "execution_count": null,
      "outputs": [
        {
          "output_type": "stream",
          "text": [
            "Hello World!\n"
          ],
          "name": "stdout"
        },
        {
          "output_type": "execute_result",
          "data": {
            "text/plain": [
              "str"
            ]
          },
          "metadata": {
            "tags": []
          },
          "execution_count": 12
        }
      ]
    },
    {
      "cell_type": "code",
      "metadata": {
        "id": "iPnSnNV7HJVE",
        "outputId": "c16c23df-fcb6-4421-da7b-d1c9b786ee28",
        "colab": {
          "base_uri": "https://localhost:8080/",
          "height": 51
        }
      },
      "source": [
        "numero=4.56\n",
        "print(numero)\n",
        "type(numero)"
      ],
      "execution_count": null,
      "outputs": [
        {
          "output_type": "stream",
          "text": [
            "4.56\n"
          ],
          "name": "stdout"
        },
        {
          "output_type": "execute_result",
          "data": {
            "text/plain": [
              "float"
            ]
          },
          "metadata": {
            "tags": []
          },
          "execution_count": 14
        }
      ]
    },
    {
      "cell_type": "markdown",
      "metadata": {
        "id": "ufN5WIlAHVoz"
      },
      "source": [
        "Escopo de variáveis\n",
        "\n",
        "*   Variáveis **globais** são aquelas declaradas no início  ao longo de um documento, e que podem ser utilizadas em qualquer parte dele.\n",
        "*   Variáveis **locais** são declaradas dentro de alguma função, e será válida somente para este bloco."
      ]
    },
    {
      "cell_type": "markdown",
      "metadata": {
        "id": "DU3Nufg8Htd8"
      },
      "source": [
        "Strings\n",
        "\n",
        "Observação: A forma mais comum de utilização na linguagem Phyton é aspas simples."
      ]
    },
    {
      "cell_type": "markdown",
      "metadata": {
        "id": "a91c49z9H5e3"
      },
      "source": [
        "Concatenação de strings"
      ]
    },
    {
      "cell_type": "code",
      "metadata": {
        "id": "sGYxkMYKHpjb",
        "outputId": "99ff99af-adae-4ddf-8356-d807057a0ce0",
        "colab": {
          "base_uri": "https://localhost:8080/",
          "height": 68
        }
      },
      "source": [
        "print('boot' + 'camp')\n",
        "print('bootcamp' + 'IGTI')\n",
        "print('bootcamp ' + 'IGTI')"
      ],
      "execution_count": null,
      "outputs": [
        {
          "output_type": "stream",
          "text": [
            "bootcamp\n",
            "bootcampIGTI\n",
            "bootcamp IGTI\n"
          ],
          "name": "stdout"
        }
      ]
    },
    {
      "cell_type": "markdown",
      "metadata": {
        "id": "S2JbIqvBIOuk"
      },
      "source": [
        "Manipulação de strings"
      ]
    },
    {
      "cell_type": "markdown",
      "metadata": {
        "id": "c_9UCMcAIRjI"
      },
      "source": [
        "len() - encontra o tamanho da string"
      ]
    },
    {
      "cell_type": "code",
      "metadata": {
        "id": "3Xap1KTcIPu2",
        "outputId": "7474ff6c-68d5-403f-bf84-381f8790cc6c",
        "colab": {
          "base_uri": "https://localhost:8080/",
          "height": 34
        }
      },
      "source": [
        "teste = 'Todo azul do mar'\n",
        "len(teste)"
      ],
      "execution_count": null,
      "outputs": [
        {
          "output_type": "execute_result",
          "data": {
            "text/plain": [
              "16"
            ]
          },
          "metadata": {
            "tags": []
          },
          "execution_count": 16
        }
      ]
    },
    {
      "cell_type": "markdown",
      "metadata": {
        "id": "Zjvd9JnMIdxk"
      },
      "source": [
        "replace() - substitui na string o primeiro trecho indicado no segundo"
      ]
    },
    {
      "cell_type": "code",
      "metadata": {
        "id": "yXMU8oS8IdTj",
        "outputId": "114ce78c-ff48-4008-cb9d-285f03c326c9",
        "colab": {
          "base_uri": "https://localhost:8080/",
          "height": 34
        }
      },
      "source": [
        "teste = teste.replace('azul', 'verde')\n",
        "print(teste)"
      ],
      "execution_count": null,
      "outputs": [
        {
          "output_type": "stream",
          "text": [
            "Todo verde do mar\n"
          ],
          "name": "stdout"
        }
      ]
    },
    {
      "cell_type": "markdown",
      "metadata": {
        "id": "cc6ODTEYI0ug"
      },
      "source": [
        "count() - informa quantas vezes um cactere aparece na string"
      ]
    },
    {
      "cell_type": "code",
      "metadata": {
        "id": "dNjOv9U9I7p0",
        "outputId": "a654fb88-3c85-4a92-d1a0-2fb3f438168f",
        "colab": {
          "base_uri": "https://localhost:8080/",
          "height": 51
        }
      },
      "source": [
        "print(teste) # Str = Todo verde do mar\n",
        "teste.count('o')"
      ],
      "execution_count": null,
      "outputs": [
        {
          "output_type": "stream",
          "text": [
            "Todo verde do mar\n"
          ],
          "name": "stdout"
        },
        {
          "output_type": "execute_result",
          "data": {
            "text/plain": [
              "3"
            ]
          },
          "metadata": {
            "tags": []
          },
          "execution_count": 25
        }
      ]
    },
    {
      "cell_type": "markdown",
      "metadata": {
        "id": "xRVm8s8KJnT7"
      },
      "source": [
        "find() - retorna o primeiro indice de um determinado caractere na string"
      ]
    },
    {
      "cell_type": "code",
      "metadata": {
        "id": "HcQ2kSfrJu1z",
        "outputId": "5fb78bd1-8c08-4a02-ac04-1368612fe0cc",
        "colab": {
          "base_uri": "https://localhost:8080/",
          "height": 68
        }
      },
      "source": [
        "print(teste)\n",
        "print(len(teste)) # Tamango da string\n",
        "teste.find('r') # Retorna o primeiro indice encontrado, ou seja, o primeiro 'r' encontrado"
      ],
      "execution_count": null,
      "outputs": [
        {
          "output_type": "stream",
          "text": [
            "Todo verde do mar\n",
            "17\n"
          ],
          "name": "stdout"
        },
        {
          "output_type": "execute_result",
          "data": {
            "text/plain": [
              "7"
            ]
          },
          "metadata": {
            "tags": []
          },
          "execution_count": 35
        }
      ]
    },
    {
      "cell_type": "code",
      "metadata": {
        "id": "c8UK5713KPc4",
        "outputId": "cd40e3a2-1b15-4961-a4c0-734f3ddfb055",
        "colab": {
          "base_uri": "https://localhost:8080/",
          "height": 68
        }
      },
      "source": [
        "print(teste)\n",
        "print(len(teste))\n",
        "teste.find('x') # Retorna -1 se não encontrar o indice determinado caractere na string"
      ],
      "execution_count": null,
      "outputs": [
        {
          "output_type": "stream",
          "text": [
            "Todo verde do mar\n",
            "17\n"
          ],
          "name": "stdout"
        },
        {
          "output_type": "execute_result",
          "data": {
            "text/plain": [
              "-1"
            ]
          },
          "metadata": {
            "tags": []
          },
          "execution_count": 32
        }
      ]
    },
    {
      "cell_type": "markdown",
      "metadata": {
        "id": "pgzYo01qK63_"
      },
      "source": [
        "spit() - transforma a str (string) numa lista"
      ]
    },
    {
      "cell_type": "code",
      "metadata": {
        "id": "12InYpUALDBj",
        "outputId": "5a5db854-2791-4a91-befc-6e79bbd3c939",
        "colab": {
          "base_uri": "https://localhost:8080/",
          "height": 51
        }
      },
      "source": [
        "print(teste)\n",
        "teste.split()"
      ],
      "execution_count": null,
      "outputs": [
        {
          "output_type": "stream",
          "text": [
            "Todo verde do mar\n"
          ],
          "name": "stdout"
        },
        {
          "output_type": "execute_result",
          "data": {
            "text/plain": [
              "['Todo', 'verde', 'do', 'mar']"
            ]
          },
          "metadata": {
            "tags": []
          },
          "execution_count": 37
        }
      ]
    },
    {
      "cell_type": "markdown",
      "metadata": {
        "id": "2yv_p3hALaT4"
      },
      "source": [
        "split(treco_da_string) - separa da string somente o trecho selecionado"
      ]
    },
    {
      "cell_type": "code",
      "metadata": {
        "id": "G1SNMxaTLQZd",
        "outputId": "b9a57963-c2da-492b-cc72-8aa3cc74f29a",
        "colab": {
          "base_uri": "https://localhost:8080/",
          "height": 34
        }
      },
      "source": [
        "teste.split('Todo')"
      ],
      "execution_count": null,
      "outputs": [
        {
          "output_type": "execute_result",
          "data": {
            "text/plain": [
              "['', ' verde do mar']"
            ]
          },
          "metadata": {
            "tags": []
          },
          "execution_count": 38
        }
      ]
    },
    {
      "cell_type": "markdown",
      "metadata": {
        "id": "rOOs2tnVLm0E"
      },
      "source": [
        "join() - junta os itens da string com um item delimitado"
      ]
    },
    {
      "cell_type": "code",
      "metadata": {
        "id": "8uYNyYGsLrhe",
        "outputId": "2077f089-2d6b-4ad1-c5e7-97bcd335c7c2",
        "colab": {
          "base_uri": "https://localhost:8080/",
          "height": 35
        }
      },
      "source": [
        "'Aquele'.join(teste.split('Todo'))"
      ],
      "execution_count": null,
      "outputs": [
        {
          "output_type": "execute_result",
          "data": {
            "application/vnd.google.colaboratory.intrinsic+json": {
              "type": "string"
            },
            "text/plain": [
              "'Aquele verde do mar'"
            ]
          },
          "metadata": {
            "tags": []
          },
          "execution_count": 40
        }
      ]
    },
    {
      "cell_type": "markdown",
      "metadata": {
        "id": "CzcGiFKnL7yq"
      },
      "source": [
        "upper() - retorna todos os itens em caixa alta"
      ]
    },
    {
      "cell_type": "code",
      "metadata": {
        "id": "EVg0C_YhL_t-",
        "outputId": "0562ba5f-6b4a-4b97-9b6e-59187100ceac",
        "colab": {
          "base_uri": "https://localhost:8080/",
          "height": 52
        }
      },
      "source": [
        "print(teste)\n",
        "teste.upper()"
      ],
      "execution_count": null,
      "outputs": [
        {
          "output_type": "stream",
          "text": [
            "Todo verde do mar\n"
          ],
          "name": "stdout"
        },
        {
          "output_type": "execute_result",
          "data": {
            "application/vnd.google.colaboratory.intrinsic+json": {
              "type": "string"
            },
            "text/plain": [
              "'TODO VERDE DO MAR'"
            ]
          },
          "metadata": {
            "tags": []
          },
          "execution_count": 42
        }
      ]
    },
    {
      "cell_type": "markdown",
      "metadata": {
        "id": "IyA-Qb1pMHPA"
      },
      "source": [
        "lower() - retorna todos os itens em caixa baixa"
      ]
    },
    {
      "cell_type": "code",
      "metadata": {
        "id": "WBkWhLb0MLCc",
        "outputId": "76d43c2c-d5d4-48a3-f66d-847370e0a15c",
        "colab": {
          "base_uri": "https://localhost:8080/",
          "height": 52
        }
      },
      "source": [
        "print(teste)\n",
        "teste.lower()"
      ],
      "execution_count": null,
      "outputs": [
        {
          "output_type": "stream",
          "text": [
            "Todo verde do mar\n"
          ],
          "name": "stdout"
        },
        {
          "output_type": "execute_result",
          "data": {
            "application/vnd.google.colaboratory.intrinsic+json": {
              "type": "string"
            },
            "text/plain": [
              "'todo verde do mar'"
            ]
          },
          "metadata": {
            "tags": []
          },
          "execution_count": 43
        }
      ]
    },
    {
      "cell_type": "markdown",
      "metadata": {
        "id": "xeMuFURCMXlP"
      },
      "source": [
        "*Capítulo 4 - Listas*"
      ]
    },
    {
      "cell_type": "code",
      "metadata": {
        "id": "MOV4-R8SMe3p",
        "outputId": "9da09525-81e8-4dd8-9e30-70a15df97879",
        "colab": {
          "base_uri": "https://localhost:8080/",
          "height": 85
        }
      },
      "source": [
        "lista1 = [1, 2, 3, 4, 5]\n",
        "lista2 = ['Bootcamp', 'IGTI']\n",
        "lista3 = ['B', 'o', 'o', 't', 'c', 'a', 'm', 'p', 'I', 'G', 'T', 'I']\n",
        "lista4 = [1, 'b', True, [1, 2, 3], 45.11]\n",
        "print(lista1)\n",
        "print(lista2)\n",
        "print(lista3)\n",
        "print(lista4)"
      ],
      "execution_count": null,
      "outputs": [
        {
          "output_type": "stream",
          "text": [
            "[1, 2, 3, 4, 5]\n",
            "['Bootcamp', 'IGTI']\n",
            "['B', 'o', 'o', 't', 'c', 'a', 'm', 'p', 'I', 'G', 'T', 'I']\n",
            "[1, 'b', True, [1, 2, 3], 45.11]\n"
          ],
          "name": "stdout"
        }
      ]
    },
    {
      "cell_type": "markdown",
      "metadata": {
        "id": "BdH-i0XeNO5P"
      },
      "source": [
        "Criar listas com range\n",
        "\n",
        "Range é uma função utilizada para gerar sequência de números de forma ordenada.\n",
        "\n",
        "```\n",
        "# range(n), que gera uma sequencia de 0 a n-1.\n",
        "```\n",
        "\n"
      ]
    },
    {
      "cell_type": "code",
      "metadata": {
        "id": "L5FKruXuNWMZ",
        "outputId": "b3a9e5d9-9b3b-450e-b124-bb913bb25c41",
        "colab": {
          "base_uri": "https://localhost:8080/",
          "height": 34
        }
      },
      "source": [
        "lista = list(range(10))\n",
        "print(lista)"
      ],
      "execution_count": null,
      "outputs": [
        {
          "output_type": "stream",
          "text": [
            "[0, 1, 2, 3, 4, 5, 6, 7, 8, 9]\n"
          ],
          "name": "stdout"
        }
      ]
    },
    {
      "cell_type": "code",
      "metadata": {
        "id": "4tHPLQsrNQmt",
        "outputId": "2b8dda31-bcbc-413f-a50e-afe3b44a3aa8",
        "colab": {
          "base_uri": "https://localhost:8080/",
          "height": 34
        }
      },
      "source": [
        "lista = list(range(7))\n",
        "print(lista)"
      ],
      "execution_count": null,
      "outputs": [
        {
          "output_type": "stream",
          "text": [
            "[0, 1, 2, 3, 4, 5, 6]\n"
          ],
          "name": "stdout"
        }
      ]
    },
    {
      "cell_type": "code",
      "metadata": {
        "id": "XECpEUNROn5i",
        "outputId": "c43c3513-3f52-4e71-d08b-334f356d9be9",
        "colab": {
          "base_uri": "https://localhost:8080/",
          "height": 34
        }
      },
      "source": [
        "lista = list(range(5, 10))\n",
        "print(lista)"
      ],
      "execution_count": null,
      "outputs": [
        {
          "output_type": "stream",
          "text": [
            "[5, 6, 7, 8, 9]\n"
          ],
          "name": "stdout"
        }
      ]
    },
    {
      "cell_type": "code",
      "metadata": {
        "id": "5XvOXKjCO81W",
        "outputId": "2cb60bbb-5e4f-462f-d4a6-d126eebf793e",
        "colab": {
          "base_uri": "https://localhost:8080/",
          "height": 34
        }
      },
      "source": [
        "lista = list(range(2, 8))\n",
        "print(lista)"
      ],
      "execution_count": null,
      "outputs": [
        {
          "output_type": "stream",
          "text": [
            "[2, 3, 4, 5, 6, 7]\n"
          ],
          "name": "stdout"
        }
      ]
    },
    {
      "cell_type": "code",
      "metadata": {
        "id": "07Iwv0_jOtbV",
        "outputId": "1c894a1c-1e31-49a4-92a9-eece434b36dc",
        "colab": {
          "base_uri": "https://localhost:8080/",
          "height": 34
        }
      },
      "source": [
        "lista = list(range(2, 10, 2)) \n",
        "print(lista) # resultado [2, 5, 6, 8]"
      ],
      "execution_count": null,
      "outputs": [
        {
          "output_type": "stream",
          "text": [
            "[2, 4, 6, 8]\n"
          ],
          "name": "stdout"
        }
      ]
    },
    {
      "cell_type": "code",
      "metadata": {
        "id": "cwMgfSKTPNPB",
        "outputId": "79242352-01b5-484c-d489-3e7ad9c802af",
        "colab": {
          "base_uri": "https://localhost:8080/",
          "height": 34
        }
      },
      "source": [
        "lista = list(range(0, 50, 5))\n",
        "print(lista)"
      ],
      "execution_count": null,
      "outputs": [
        {
          "output_type": "stream",
          "text": [
            "[0, 5, 10, 15, 20, 25, 30, 35, 40, 45]\n"
          ],
          "name": "stdout"
        }
      ]
    },
    {
      "cell_type": "markdown",
      "metadata": {
        "id": "v3OnatD5RPuV"
      },
      "source": [
        "**Manipular Listas**\n",
        "\n",
        "Como a lista é uma estrutura mutável, existem várias funções que podem ser utilizadas para manipulá-las"
      ]
    },
    {
      "cell_type": "markdown",
      "metadata": {
        "id": "fUL5C2c5RqLK"
      },
      "source": [
        "sort() - ordenar uma lista em ordem crescente\n",
        "\n"
      ]
    },
    {
      "cell_type": "code",
      "metadata": {
        "id": "UnUAqm-0RVIy",
        "outputId": "72447847-e8ec-4792-d381-1f9abeb0074d",
        "colab": {
          "base_uri": "https://localhost:8080/",
          "height": 34
        }
      },
      "source": [
        "lista1 = [1, 7, 9, 2, 56, 4, 31, 55]\n",
        "lista1.sort()\n",
        "print(lista1)"
      ],
      "execution_count": null,
      "outputs": [
        {
          "output_type": "stream",
          "text": [
            "[1, 2, 4, 7, 9, 31, 55, 56]\n"
          ],
          "name": "stdout"
        }
      ]
    },
    {
      "cell_type": "markdown",
      "metadata": {
        "id": "saqrG202SNJe"
      },
      "source": [
        "append(object) -> None -- append object to end.\n",
        "\n",
        "append() - acrescentar um item no final da lista"
      ]
    },
    {
      "cell_type": "code",
      "metadata": {
        "id": "uKYEQxeCR1wq",
        "outputId": "05a927ac-e3d7-4241-b7bf-597cfe810c4c",
        "colab": {
          "base_uri": "https://localhost:8080/",
          "height": 34
        }
      },
      "source": [
        "lista2 = ['abacaxi','laranja','banana','caju']\n",
        "lista2.append('uva')\n",
        "print(lista2)"
      ],
      "execution_count": null,
      "outputs": [
        {
          "output_type": "stream",
          "text": [
            "['abacaxi', 'laranja', 'banana', 'caju', 'uva']\n"
          ],
          "name": "stdout"
        }
      ]
    },
    {
      "cell_type": "markdown",
      "metadata": {
        "id": "nhTygndKStTk"
      },
      "source": [
        "append() - também é possível acrescentar uma lista dentro da lista"
      ]
    },
    {
      "cell_type": "code",
      "metadata": {
        "id": "FSaf6so4TN-6",
        "outputId": "bd212783-a262-47c0-ff26-d7688e6a6525",
        "colab": {
          "base_uri": "https://localhost:8080/",
          "height": 34
        }
      },
      "source": [
        "lista2.append(['batata', 'cenoura'])\n",
        "print(lista2)\n"
      ],
      "execution_count": null,
      "outputs": [
        {
          "output_type": "stream",
          "text": [
            "['abacaxi', 'laranja', 'banana', 'caju', 'uva', ['batata', 'cenoura']]\n"
          ],
          "name": "stdout"
        }
      ]
    },
    {
      "cell_type": "markdown",
      "metadata": {
        "id": "f7f7-2L4ThhM"
      },
      "source": [
        "extend() - acrescentar uma lista em formato de itens ao final de uma lista"
      ]
    },
    {
      "cell_type": "code",
      "metadata": {
        "id": "XtRtFi7uSzk8",
        "outputId": "68aef767-2888-493f-df4c-7c734174b283",
        "colab": {
          "base_uri": "https://localhost:8080/",
          "height": 34
        }
      },
      "source": [
        "lista3 = [1, 12, 43, 73, 24, 92]\n",
        "lista3.extend([23, 41, 66])\n",
        "print(lista3)"
      ],
      "execution_count": null,
      "outputs": [
        {
          "output_type": "stream",
          "text": [
            "[1, 12, 43, 73, 24, 92, 23, 41, 66]\n"
          ],
          "name": "stdout"
        }
      ]
    },
    {
      "cell_type": "markdown",
      "metadata": {
        "id": "GRAWcpHkUNWu"
      },
      "source": [
        "insert() - acrescentar um novo item a lista em um local especifico, informando a posiçãodo indice\n",
        "insert(index, object) -- insert object before index"
      ]
    },
    {
      "cell_type": "code",
      "metadata": {
        "id": "zZpOexJmT5qS",
        "outputId": "6d42a309-c29c-4004-feac-64ca9590cd1c",
        "colab": {
          "base_uri": "https://localhost:8080/",
          "height": 34
        }
      },
      "source": [
        "lista4 = [1, 2, 3, 4, 5]\n",
        "# print(lista4)\n",
        "lista4.insert(3, 'novo elemento')\n",
        "print(lista4)"
      ],
      "execution_count": null,
      "outputs": [
        {
          "output_type": "stream",
          "text": [
            "[1, 2, 3, 'novo elemento', 4, 5]\n"
          ],
          "name": "stdout"
        }
      ]
    },
    {
      "cell_type": "markdown",
      "metadata": {
        "id": "3gHlJkOnTyoC"
      },
      "source": [
        "somar duas listas. Podemos criar uma list a partir de 2 outras listas, somando-as"
      ]
    },
    {
      "cell_type": "code",
      "metadata": {
        "id": "J6iWw1unVJaM",
        "outputId": "97ce0e8a-e558-4c6c-f16c-408387bb29ff",
        "colab": {
          "base_uri": "https://localhost:8080/",
          "height": 34
        }
      },
      "source": [
        "lista5 = lista3 + lista4\n",
        "print(lista5)"
      ],
      "execution_count": null,
      "outputs": [
        {
          "output_type": "stream",
          "text": [
            "[1, 12, 43, 73, 24, 92, 23, 41, 66, 1, 2, 3, 'novo elemento', 4, 5]\n"
          ],
          "name": "stdout"
        }
      ]
    },
    {
      "cell_type": "markdown",
      "metadata": {
        "id": "QEefiWzeVSzY"
      },
      "source": [
        "reverse() - reverter a ordem da lista, do ultimo ao primeiro"
      ]
    },
    {
      "cell_type": "code",
      "metadata": {
        "id": "GFHfmD61VYSz",
        "outputId": "f2f49aed-6461-4e00-aa14-ee1e0c4ce849",
        "colab": {
          "base_uri": "https://localhost:8080/",
          "height": 34
        }
      },
      "source": [
        "lista6=['ar','fogo','terra','agua']\n",
        "lista6.reverse()\n",
        "print(lista6)"
      ],
      "execution_count": null,
      "outputs": [
        {
          "output_type": "stream",
          "text": [
            "['agua', 'terra', 'fogo', 'ar']\n"
          ],
          "name": "stdout"
        }
      ]
    },
    {
      "cell_type": "markdown",
      "metadata": {
        "id": "YLA8gxVtV3XI"
      },
      "source": [
        "copy() - fazer uma cópia de uma lista"
      ]
    },
    {
      "cell_type": "code",
      "metadata": {
        "id": "w_BbckBNV6r2",
        "outputId": "15cf2731-d9f4-4484-9061-a5d7c036fd4a",
        "colab": {
          "base_uri": "https://localhost:8080/",
          "height": 34
        }
      },
      "source": [
        "lista7=lista6.copy()\n",
        "print(lista7)"
      ],
      "execution_count": null,
      "outputs": [
        {
          "output_type": "stream",
          "text": [
            "['agua', 'terra', 'fogo', 'ar']\n"
          ],
          "name": "stdout"
        }
      ]
    },
    {
      "cell_type": "markdown",
      "metadata": {
        "id": "4TR_22iDWGMU"
      },
      "source": [
        "enumerate() - gerar uma lista enumerada\n",
        "\n",
        "enumerate(iterable[, start]) -> iterator for index, value of iterable\n",
        "\n",
        "Return an enumerate object..."
      ]
    },
    {
      "cell_type": "code",
      "metadata": {
        "id": "LBQXY0J0WKg6",
        "outputId": "6a463ff3-9000-4561-badf-8629800cb6e1",
        "colab": {
          "base_uri": "https://localhost:8080/",
          "height": 34
        }
      },
      "source": [
        "lista8 = [1, 2, 3, 4, 5, 6]\n",
        "lista8 = list(enumerate(lista8))\n",
        "print(lista8)\n"
      ],
      "execution_count": null,
      "outputs": [
        {
          "output_type": "stream",
          "text": [
            "[(0, 1), (1, 2), (2, 3), (3, 4), (4, 5), (5, 6)]\n"
          ],
          "name": "stdout"
        }
      ]
    },
    {
      "cell_type": "markdown",
      "metadata": {
        "id": "NVZ3ORd0W4iy"
      },
      "source": [
        "multiplicacao - repetir os elementos de uma lista multiplicandos-os"
      ]
    },
    {
      "cell_type": "code",
      "metadata": {
        "id": "akoS959XW_nu",
        "outputId": "5ef7b4e0-32fa-49c8-dd2d-a88d99848a66",
        "colab": {
          "base_uri": "https://localhost:8080/",
          "height": 34
        }
      },
      "source": [
        "lista9=[10,11,12,13]\n",
        "print(lista9 * 3)"
      ],
      "execution_count": null,
      "outputs": [
        {
          "output_type": "stream",
          "text": [
            "[10, 11, 12, 13, 10, 11, 12, 13, 10, 11, 12, 13]\n"
          ],
          "name": "stdout"
        }
      ]
    },
    {
      "cell_type": "code",
      "metadata": {
        "id": "nsC8zwW9XKUt",
        "outputId": "ec987b05-2d07-4305-ccc8-347ce6981ceb",
        "colab": {
          "base_uri": "https://localhost:8080/",
          "height": 34
        }
      },
      "source": [
        "lista9=['String1','String2']\n",
        "print(lista9 * 3)"
      ],
      "execution_count": null,
      "outputs": [
        {
          "output_type": "stream",
          "text": [
            "['String1', 'String2', 'String1', 'String2', 'String1', 'String2']\n"
          ],
          "name": "stdout"
        }
      ]
    },
    {
      "cell_type": "markdown",
      "metadata": {
        "id": "0-GeA58qadsf"
      },
      "source": [
        "***Capítulo 5 - Tuplas***\n",
        "\n",
        "Assim como a lista, a tupla é um conjunto sequencial de itens. A grande diferença entre elas é que, enquanto podemos adicionar elementos à lista em qualquer momento, a tupla é imutável. Toda operação em uma tupla gera uma nova tupla."
      ]
    },
    {
      "cell_type": "code",
      "metadata": {
        "id": "iCUsE2j_anea",
        "outputId": "4393f6a7-dffe-4217-ced6-c9926f21402c",
        "colab": {
          "base_uri": "https://localhost:8080/",
          "height": 34
        }
      },
      "source": [
        "# Manipular Tuplas\n",
        "# Podemos criar uma tabela a partir do range\n",
        "\n",
        "tupla1 = tuple(range(11))\n",
        "print(tupla1)"
      ],
      "execution_count": 124,
      "outputs": [
        {
          "output_type": "stream",
          "text": [
            "(0, 1, 2, 3, 4, 5, 6, 7, 8, 9, 10)\n"
          ],
          "name": "stdout"
        }
      ]
    },
    {
      "cell_type": "code",
      "metadata": {
        "id": "KTWpnDSNbDlK"
      },
      "source": [
        "# Somente para tuplas formatadas exclusivamente de valores inteiros:\n",
        "# sum() - soma dos valores da tupla\n",
        "# max() - maior valor da tupla\n",
        "# min() - menor valor da tupla"
      ],
      "execution_count": null,
      "outputs": []
    },
    {
      "cell_type": "code",
      "metadata": {
        "id": "mBowBGfwbUbM",
        "outputId": "f72d837e-8bcd-4297-af7a-99f544f0d44d",
        "colab": {
          "base_uri": "https://localhost:8080/",
          "height": 68
        }
      },
      "source": [
        "tupla3 = (1, 2, 3, 4)\n",
        "print(sum(tupla3))  # sum() - soma dos valores da tupla\n",
        "print(max(tupla3))  # max() - maior valor da tupla\n",
        "print(min(tupla3))  # min() - menor valor da tupla"
      ],
      "execution_count": 127,
      "outputs": [
        {
          "output_type": "stream",
          "text": [
            "10\n",
            "4\n",
            "1\n"
          ],
          "name": "stdout"
        }
      ]
    },
    {
      "cell_type": "code",
      "metadata": {
        "id": "In8JhrZcbzZO",
        "outputId": "01116115-89dd-470c-f965-c80ebe7ed67e",
        "colab": {
          "base_uri": "https://localhost:8080/",
          "height": 51
        }
      },
      "source": [
        "# len() - conta o tamanho da tupla\n",
        "print(tupla3)\n",
        "print(len(tupla3))"
      ],
      "execution_count": 129,
      "outputs": [
        {
          "output_type": "stream",
          "text": [
            "(1, 2, 3, 4)\n",
            "4\n"
          ],
          "name": "stdout"
        }
      ]
    },
    {
      "cell_type": "code",
      "metadata": {
        "id": "nfYV7ozvcEpr",
        "outputId": "5ac4ee54-30d7-4ebb-b709-60748a147daf",
        "colab": {
          "base_uri": "https://localhost:8080/",
          "height": 68
        }
      },
      "source": [
        "# Podemos somar duas tuplas, mas podemos observar que seus valores não foram alterados\n",
        "\n",
        "tupla1=(1,2,3)\n",
        "tupla2=(4,5,6)\n",
        "print(tupla1+tupla2)\n",
        "print(tupla1)\n",
        "print(tupla2)"
      ],
      "execution_count": 130,
      "outputs": [
        {
          "output_type": "stream",
          "text": [
            "(1, 2, 3, 4, 5, 6)\n",
            "(1, 2, 3)\n",
            "(4, 5, 6)\n"
          ],
          "name": "stdout"
        }
      ]
    },
    {
      "cell_type": "code",
      "metadata": {
        "id": "PH08MyHwcasz",
        "outputId": "5d7ea2eb-6bcc-4b2a-cd04-5e53464ab738",
        "colab": {
          "base_uri": "https://localhost:8080/",
          "height": 34
        }
      },
      "source": [
        "# Podemos criar uma tupla a partir de tuplas existentes, somando-as\n",
        "\n",
        "tupla1=(1,2,3)\n",
        "tupla2=(4,5,6)\n",
        "tupla3 = (tupla1 + tupla2)\n",
        "print(tupla3)"
      ],
      "execution_count": 132,
      "outputs": [
        {
          "output_type": "stream",
          "text": [
            "(1, 2, 3, 4, 5, 6)\n"
          ],
          "name": "stdout"
        }
      ]
    },
    {
      "cell_type": "code",
      "metadata": {
        "id": "W_568rOrcz5q",
        "outputId": "0a670f73-0b9a-4ff5-e765-288f1d0e84ec",
        "colab": {
          "base_uri": "https://localhost:8080/",
          "height": 51
        }
      },
      "source": [
        "# Podemos verificar de determinado elemente está contigo na tupla\n",
        "\n",
        "tupla1= (1,2,3)\n",
        "print(1 in tupla1) # Return True ou False\n",
        "print(7 in tupla1) # Return True ou False"
      ],
      "execution_count": 133,
      "outputs": [
        {
          "output_type": "stream",
          "text": [
            "True\n",
            "False\n"
          ],
          "name": "stdout"
        }
      ]
    },
    {
      "cell_type": "markdown",
      "metadata": {
        "id": "cjxHj13PdSGr"
      },
      "source": [
        "***Capítulo 6. Dicionários***\n",
        "\n",
        "Dicionário é uma coleção de itens na qual cada elemento que a compõe possui uma chave associada a ele.\n",
        "Os dicionários são delimitados por chaves { }. A chave de acesso e o valor são separados por dois pontos, sendo que ambos podem ser de qualquer tipo de dado. Diferentemente da lista e da tulpa, os dicionários não são indexados.\n",
        "\n",
        "**Observação: Não podemos ter chaves repetidas em dicionários.**"
      ]
    },
    {
      "cell_type": "code",
      "metadata": {
        "id": "O8QQD1X0dXv8",
        "outputId": "698b07a3-de7b-4c76-fbc8-61a945f68ca8",
        "colab": {
          "base_uri": "https://localhost:8080/",
          "height": 71
        }
      },
      "source": [
        "# Manipular dicionários\n",
        "\n",
        "semana = {'seg': 'segunda', 'ter': 'terça-feira', 'qua': 'quarta-feira', 'qui': 'quinta-feira', 'sex': 'sexta-feira'}\n",
        "print(semana)\n",
        "print(semana['seg'])"
      ],
      "execution_count": 138,
      "outputs": [
        {
          "output_type": "stream",
          "text": [
            "{'seg': 'segunda', 'ter': 'terça-feira', 'qua': 'quarta-feira', 'qui': 'quinta-feira', 'sex': 'sexta-feira'}\n",
            "segunda\n"
          ],
          "name": "stdout"
        }
      ]
    },
    {
      "cell_type": "code",
      "metadata": {
        "id": "5ojgY1B6eAwD",
        "outputId": "15ea548a-8e4c-4b53-926a-045a8e6b305c",
        "colab": {
          "base_uri": "https://localhost:8080/",
          "height": 51
        }
      },
      "source": [
        "estacoes = {'ver': 'verão', 'out':'outono', 'inv': 'inverno', 'pri':'primavera'}\n",
        "print(estacoes)\n",
        "print(estacoes['pri'])"
      ],
      "execution_count": 140,
      "outputs": [
        {
          "output_type": "stream",
          "text": [
            "{'ver': 'verão', 'out': 'outono', 'inv': 'inverno', 'pri': 'primavera'}\n",
            "primavera\n"
          ],
          "name": "stdout"
        }
      ]
    },
    {
      "cell_type": "code",
      "metadata": {
        "id": "t4f8U15QerW3",
        "outputId": "83532626-46ff-4f69-a3c4-3a6056e5e812",
        "colab": {
          "base_uri": "https://localhost:8080/",
          "height": 34
        }
      },
      "source": [
        "# Criando dicionários: escrevendo-o  utilizando a função dict()\n",
        "\n",
        "estacoes = dict(estacoes = {'ver': 'verão', 'out':'outono', 'inv': 'inverno', 'pri':'primavera'})\n",
        "print(estacoes)"
      ],
      "execution_count": 142,
      "outputs": [
        {
          "output_type": "stream",
          "text": [
            "{'estacoes': {'ver': 'verão', 'out': 'outono', 'inv': 'inverno', 'pri': 'primavera'}}\n"
          ],
          "name": "stdout"
        }
      ]
    },
    {
      "cell_type": "code",
      "metadata": {
        "id": "FOzvnX-3fEpY",
        "outputId": "009248e1-4264-4c52-fd79-b6fbe94431d1",
        "colab": {
          "base_uri": "https://localhost:8080/",
          "height": 51
        }
      },
      "source": [
        "# get() - acessar os elementos de um dicionário\n",
        "# Retorna a resposta None quando não localiza o elemento procurado\n",
        "\n",
        "estacoes = {'ver': 'verão', 'out':'outono', 'inv': 'inverno', 'pri':'primavera'}\n",
        "print(estacoes.get('out'))\n",
        "print(estacoes.get('frio'))"
      ],
      "execution_count": 143,
      "outputs": [
        {
          "output_type": "stream",
          "text": [
            "outono\n",
            "None\n"
          ],
          "name": "stdout"
        }
      ]
    },
    {
      "cell_type": "code",
      "metadata": {
        "id": "_tyyY9bRfci9",
        "outputId": "d609692a-9d8c-49bd-eca5-82d7e4e8ee8e",
        "colab": {
          "base_uri": "https://localhost:8080/",
          "height": 85
        }
      },
      "source": [
        "# Podemos verificar se determinado elemento se encontra em um dicionário;\n",
        "# Atenção! A bisca sempre é feita atraves da chave.\n",
        "\n",
        "estacoes = {'ver': 'verão', 'out':'outono', 'inv': 'inverno', 'pri':'primavera'}\n",
        "print('ver' in estacoes)\n",
        "print('verão' in estacoes)\n",
        "print('inv' in estacoes)\n",
        "print('inverno' in estacoes)\n"
      ],
      "execution_count": 145,
      "outputs": [
        {
          "output_type": "stream",
          "text": [
            "True\n",
            "False\n",
            "True\n",
            "False\n"
          ],
          "name": "stdout"
        }
      ]
    },
    {
      "cell_type": "code",
      "metadata": {
        "id": "HThax1OpNzqz",
        "outputId": "86c3b642-e984-434b-ebcb-9c6dd1e1bed7",
        "colab": {
          "base_uri": "https://localhost:8080/",
          "height": 68
        }
      },
      "source": [
        "# Podemos adicionar elmentos, adicionando uma chave e um valor. \n",
        "# Podemos atualizar algum elemento, escrevendo a chave e o novo valor.\n",
        "\n",
        "inventario = {'caneta': 20, 'caderno': 55, 'livro': 40}\n",
        "print(inventario)\n",
        "\n",
        "# adicionando 'lapis'=30\n",
        "inventario['lapis']=30\n",
        "print(inventario)\n",
        "\n",
        "inventario['caneta']=15\n",
        "print(inventario)"
      ],
      "execution_count": 3,
      "outputs": [
        {
          "output_type": "stream",
          "text": [
            "{'caneta': 20, 'caderno': 55, 'livro': 40}\n",
            "{'caneta': 20, 'caderno': 55, 'livro': 40, 'lapis': 30}\n",
            "{'caneta': 15, 'caderno': 55, 'livro': 40, 'lapis': 30}\n"
          ],
          "name": "stdout"
        }
      ]
    },
    {
      "cell_type": "code",
      "metadata": {
        "id": "FJL_kiloO_Em",
        "outputId": "225b4ba8-e3fa-40ca-946d-f8cbf4ee8dc1",
        "colab": {
          "base_uri": "https://localhost:8080/",
          "height": 34
        }
      },
      "source": [
        "# pop() - podemos deletar elementos dos diconários\n",
        "\n",
        "inventario = {'caneta': 20, 'caderno': 55, 'livro': 40}\n",
        "inventario.pop('caneta')\n",
        "print(inventario)\n"
      ],
      "execution_count": 5,
      "outputs": [
        {
          "output_type": "stream",
          "text": [
            "{'caderno': 55, 'livro': 40}\n"
          ],
          "name": "stdout"
        }
      ]
    },
    {
      "cell_type": "markdown",
      "metadata": {
        "id": "XwYPJmVKPeM9"
      },
      "source": [
        "***Capítulo 7. Set (Conjuntos)***"
      ]
    },
    {
      "cell_type": "code",
      "metadata": {
        "id": "wwTcFyfKPdxn",
        "outputId": "389c6df4-02a6-457d-d5d5-992615ec8432",
        "colab": {
          "base_uri": "https://localhost:8080/",
          "height": 34
        }
      },
      "source": [
        "# Manipulaçao de Conjuntos\n",
        "\n",
        "# Como definir um set. Como não há repetição de valores, não é possível adicionar algum já existente, ele será ignorado.\n",
        "\n",
        "numero = {1, 2, 3, 4, 1, 1, 2, 2, 4}\n",
        "print(numero)"
      ],
      "execution_count": 6,
      "outputs": [
        {
          "output_type": "stream",
          "text": [
            "{1, 2, 3, 4}\n"
          ],
          "name": "stdout"
        }
      ]
    },
    {
      "cell_type": "code",
      "metadata": {
        "id": "S6QZK8VuQQLz",
        "outputId": "c0f5c9a8-3aea-4924-c2d2-d83aca7bbc9a",
        "colab": {
          "base_uri": "https://localhost:8080/",
          "height": 34
        }
      },
      "source": [
        "# add() - adiciona um item ao set.\n",
        "# Caso seja repetitivo, ele será ignorado e não será adicionado ao set.\n",
        "\n",
        "numero = {1, 2, 3, 4, 1, 1, 2, 2, 4}\n",
        "numero.add(5)  # 5 Adicionado\n",
        "numero.add(1)  # 1 Ignorado\n",
        "numero.add(6)  # 6 Adicionado\n",
        "print(numero)"
      ],
      "execution_count": 8,
      "outputs": [
        {
          "output_type": "stream",
          "text": [
            "{1, 2, 3, 4, 5, 6}\n"
          ],
          "name": "stdout"
        }
      ]
    },
    {
      "cell_type": "code",
      "metadata": {
        "id": "XnkJ0vj-Q4OT",
        "outputId": "343dd8c3-4f41-425b-892a-7d27608aa07d",
        "colab": {
          "base_uri": "https://localhost:8080/",
          "height": 34
        }
      },
      "source": [
        "# discard() - remove elementos do set.\n",
        "# Caso existir o elmento, ele será ignorado, nenhum erro é gerado.\n",
        "# Atenção! Sets não são indexados!\n",
        "\n",
        "semana = {'domingo', 'segunda-feira', 'terça-feira', 'quarta-feira', 'quinta-feira', 'sexta-feira', 'sábado',}\n",
        "semana.discard('domingo')\n",
        "semana.discard('sábado')\n",
        "print(semana)"
      ],
      "execution_count": 12,
      "outputs": [
        {
          "output_type": "stream",
          "text": [
            "{'quarta-feira', 'sexta-feira', 'terça-feira', 'quinta-feira', 'segunda-feira'}\n"
          ],
          "name": "stdout"
        }
      ]
    },
    {
      "cell_type": "code",
      "metadata": {
        "id": "X9mMr867StqZ",
        "outputId": "d24434b9-ec79-4e78-84e9-3de5a95aa60d",
        "colab": {
          "base_uri": "https://localhost:8080/",
          "height": 153
        }
      },
      "source": [
        "# union() - gerar um único set com união dos elementos\n",
        "\n",
        "# intersection() -  gerar um conjunto dos semelhantes em ambos os sets\n",
        "\n",
        "# difference() - gerar um set com os que são exclusivos de um set\n",
        "\n",
        "esportes1= {'futebol', 'basquete', 'volei','natacao','danca'}\n",
        "esportes2= {'natacao', 'corrida', 'boxe','futebol','tenis'}\n",
        "esportestotal = esporte1.union(esportes2)\n",
        "print('Union: ')\n",
        "print(esportestotal)\n",
        "\n",
        "esportes_ambos = esportes1.intersection(esportes2)\n",
        "print('Intersection: ')\n",
        "print(esportes_ambos)\n",
        "\n",
        "exclusivos_esportes1 = esportes1.difference(esportes2)\n",
        "exclusivos_esportes2 = esportes2.difference(esportes1)\n",
        "print('Difference (exclusivos esportes1): ')\n",
        "print(exclusivos_esportes1)\n",
        "print('Difference (exclusivos esportes2): ')\n",
        "print(exclusivos_esportes2)\n"
      ],
      "execution_count": 26,
      "outputs": [
        {
          "output_type": "stream",
          "text": [
            "Union: \n",
            "{'natacao', 'tenis', 'boxe', 'basquete', 'corrida', 'futebol', 'volei', 'danca'}\n",
            "Intersection: \n",
            "{'futebol', 'natacao'}\n",
            "Difference (exclusivos esportes1): \n",
            "{'basquete', 'volei', 'danca'}\n",
            "Difference (exclusivos esportes2): \n",
            "{'boxe', 'corrida', 'tenis'}\n"
          ],
          "name": "stdout"
        }
      ]
    },
    {
      "cell_type": "markdown",
      "metadata": {
        "id": "TzcN35eKWblf"
      },
      "source": [
        "***Capítulo 8. Expressões booleanas***\n",
        "\n",
        "True ou False"
      ]
    },
    {
      "cell_type": "code",
      "metadata": {
        "id": "4TDNmPa7WiI4",
        "outputId": "a7d664df-7c5e-41b0-f012-f3843941fbe5",
        "colab": {
          "base_uri": "https://localhost:8080/",
          "height": 85
        }
      },
      "source": [
        "print(1 > 2)\n",
        "# False\n",
        "print(1 < 2)\n",
        "# True\n",
        "print(1 == 2)\n",
        "# False\n",
        "print(1 <= 2)\n",
        "# True"
      ],
      "execution_count": 28,
      "outputs": [
        {
          "output_type": "stream",
          "text": [
            "False\n",
            "True\n",
            "False\n",
            "True\n"
          ],
          "name": "stdout"
        }
      ]
    },
    {
      "cell_type": "code",
      "metadata": {
        "id": "LPq1eXPQWznh",
        "outputId": "2cc92630-d38b-47c0-8c1f-28cc9183faaa",
        "colab": {
          "base_uri": "https://localhost:8080/",
          "height": 34
        }
      },
      "source": [
        "a = 5\n",
        "b = 10\n",
        "if a > b:\n",
        "  print('A é maior que B')\n",
        "else:\n",
        "  print('B é maior que A')\n",
        "# B é maior que A"
      ],
      "execution_count": 30,
      "outputs": [
        {
          "output_type": "stream",
          "text": [
            "B é maior que A\n"
          ],
          "name": "stdout"
        }
      ]
    },
    {
      "cell_type": "markdown",
      "metadata": {
        "id": "hLw36m0eXA9Q"
      },
      "source": [
        "**Capítulo 9. Operadores Lógicos **\n",
        "\n",
        "*   and (e)\n",
        "*   or (ou)\n",
        "*   not (não)"
      ]
    },
    {
      "cell_type": "code",
      "metadata": {
        "id": "_Zlw7Ya1XOZz",
        "outputId": "e18795e8-e26d-4369-b44f-1faa212b2580",
        "colab": {
          "base_uri": "https://localhost:8080/",
          "height": 51
        }
      },
      "source": [
        "# Operador and\n",
        "\n",
        "a = 2\n",
        "print(a < 8 and a < 15)\n",
        "# True\n",
        "\n",
        "a = 10\n",
        "print(a < 8 and a < 15)\n",
        "# False"
      ],
      "execution_count": 31,
      "outputs": [
        {
          "output_type": "stream",
          "text": [
            "True\n",
            "False\n"
          ],
          "name": "stdout"
        }
      ]
    },
    {
      "cell_type": "code",
      "metadata": {
        "id": "5oBMIH7aXejl",
        "outputId": "e2e85130-1601-47e5-d569-fabf61355fee",
        "colab": {
          "base_uri": "https://localhost:8080/",
          "height": 51
        }
      },
      "source": [
        "# Operador or\n",
        "\n",
        "a = 2\n",
        "print(a < 1 or a < 15)\n",
        "# True\n",
        "a = 10\n",
        "print(a < 1 or a > 15)\n",
        "# False"
      ],
      "execution_count": 32,
      "outputs": [
        {
          "output_type": "stream",
          "text": [
            "True\n",
            "False\n"
          ],
          "name": "stdout"
        }
      ]
    },
    {
      "cell_type": "code",
      "metadata": {
        "id": "hihVhfrmXlc7",
        "outputId": "098be009-87b1-418f-9189-2ef1792c89f0",
        "colab": {
          "base_uri": "https://localhost:8080/",
          "height": 51
        }
      },
      "source": [
        "# Operador not\n",
        "\n",
        "a = 2\n",
        "print (not(a > 1 and a < 15))\n",
        "# False\n",
        "\n",
        "a = 10\n",
        "print(not(a < 1 or a > 15))\n",
        "# True"
      ],
      "execution_count": 33,
      "outputs": [
        {
          "output_type": "stream",
          "text": [
            "False\n",
            "True\n"
          ],
          "name": "stdout"
        }
      ]
    },
    {
      "cell_type": "markdown",
      "metadata": {
        "id": "YchMnmXzX25y"
      },
      "source": [
        "**Capítulo 10. Estruturas condicionais: if, else, elif**\n",
        "\n",
        "O Python suporta as condições lógicas usuais da matemática:\n",
        "\n",
        "*   **igual a:** x == y\n",
        "*   **diferente de**: x ! = 8\n",
        "*   **menor que:** x < y\n",
        "*   **maior que:** x > y\n",
        "*   **menor ou igual a** : x <= y\n",
        "*   **maior ou igual a:** x >= y"
      ]
    },
    {
      "cell_type": "code",
      "metadata": {
        "id": "atyPOuXqYlh8",
        "outputId": "79a9ff31-27b2-4f23-e051-b14649909241",
        "colab": {
          "base_uri": "https://localhost:8080/",
          "height": 34
        }
      },
      "source": [
        "# Exemplo:\n",
        "idade = 18\n",
        "if idade < 18:\n",
        "  print('Menor de idade')\n",
        "elif idade == 18:\n",
        "  print('Tem 18 anos')\n",
        "else:\n",
        "  print('Maior de idade')"
      ],
      "execution_count": 34,
      "outputs": [
        {
          "output_type": "stream",
          "text": [
            "Tem 18 anos\n"
          ],
          "name": "stdout"
        }
      ]
    },
    {
      "cell_type": "markdown",
      "metadata": {
        "id": "CP4B-jXVY25Z"
      },
      "source": [
        "**Capítulo 11. Loops (estruturas de repetição)**\n",
        "\n",
        "**Observação:** Iteração é a execução repetida de uma sequência de instruções"
      ]
    },
    {
      "cell_type": "code",
      "metadata": {
        "id": "JgHjN5JsY8AL",
        "outputId": "93a1255a-e02d-4727-8c05-054fab2f3e52",
        "colab": {
          "base_uri": "https://localhost:8080/",
          "height": 170
        }
      },
      "source": [
        "# Loop for\n",
        "\n",
        "for numero in range(1, 10):\n",
        "  print(numero)"
      ],
      "execution_count": 37,
      "outputs": [
        {
          "output_type": "stream",
          "text": [
            "1\n",
            "2\n",
            "3\n",
            "4\n",
            "5\n",
            "6\n",
            "7\n",
            "8\n",
            "9\n"
          ],
          "name": "stdout"
        }
      ]
    },
    {
      "cell_type": "code",
      "metadata": {
        "id": "cuf16r6rZO5y",
        "outputId": "1252e309-9adb-4911-aa39-2177c21f0466",
        "colab": {
          "base_uri": "https://localhost:8080/",
          "height": 153
        }
      },
      "source": [
        "nome = 'Bootcamp'\n",
        "for letra in nome:\n",
        "  print(letra)"
      ],
      "execution_count": 38,
      "outputs": [
        {
          "output_type": "stream",
          "text": [
            "B\n",
            "o\n",
            "o\n",
            "t\n",
            "c\n",
            "a\n",
            "m\n",
            "p\n"
          ],
          "name": "stdout"
        }
      ]
    },
    {
      "cell_type": "code",
      "metadata": {
        "id": "Wrg_6d26YN5-",
        "outputId": "c7813957-3d5b-44ef-d65b-af612c913083",
        "colab": {
          "base_uri": "https://localhost:8080/",
          "height": 102
        }
      },
      "source": [
        "# Loop while\n",
        "\n",
        "numero = 0\n",
        "while numero < 5:\n",
        "  print(numero)\n",
        "  numero += 1 # mesma coisa que numero = numero +1"
      ],
      "execution_count": 40,
      "outputs": [
        {
          "output_type": "stream",
          "text": [
            "0\n",
            "1\n",
            "2\n",
            "3\n",
            "4\n"
          ],
          "name": "stdout"
        }
      ]
    },
    {
      "cell_type": "code",
      "metadata": {
        "id": "xQm99Si7ZqrI",
        "outputId": "8da54851-e176-4217-90f1-46389b479f76",
        "colab": {
          "base_uri": "https://localhost:8080/",
          "height": 153
        }
      },
      "source": [
        "senha = ''\n",
        "while senha != 'IGTI':\n",
        "  senha = input('Digite a sua senha:')\n",
        "  print('Parabéns! Senha correta!!!')"
      ],
      "execution_count": 41,
      "outputs": [
        {
          "output_type": "stream",
          "text": [
            "Digite a sua senha:123\n",
            "Parabéns! Senha correta!!!\n",
            "Digite a sua senha:1452\n",
            "Parabéns! Senha correta!!!\n",
            "Digite a sua senha:425\n",
            "Parabéns! Senha correta!!!\n",
            "Digite a sua senha:IGTI\n",
            "Parabéns! Senha correta!!!\n"
          ],
          "name": "stdout"
        }
      ]
    },
    {
      "cell_type": "markdown",
      "metadata": {
        "id": "WO8SRkrZZ5FS"
      },
      "source": [
        "**Capítulo 12. Funções**\n",
        "\n",
        "As funções em Python são pequenas partes do código criadas para executar alguma função específica. Elas são reutilizáveis, ou seja, a partir do momento em que são criadas, é possível executá-las em qualquer parte do programa.\n",
        "\n",
        "Algumas funções já são integradas ao Python. São chamadas de Built in, e já estamos as utilizando. Entre elas, podemos citar:\n",
        "\n",
        "print( )\n",
        "\n",
        "input( )\n",
        "\n",
        "sort( )\n",
        "\n",
        "len( )"
      ]
    },
    {
      "cell_type": "code",
      "metadata": {
        "id": "cp0KhafNaJbb",
        "outputId": "b17ad223-3f13-4e3d-ef8f-d84c305cefbd",
        "colab": {
          "base_uri": "https://localhost:8080/",
          "height": 34
        }
      },
      "source": [
        "def estudo_funcao():\n",
        "  print('Aprendendo funcoes')\n",
        "\n",
        "estudo_funcao()"
      ],
      "execution_count": 42,
      "outputs": [
        {
          "output_type": "stream",
          "text": [
            "Aprendendo funcoes\n"
          ],
          "name": "stdout"
        }
      ]
    },
    {
      "cell_type": "markdown",
      "metadata": {
        "id": "PmOv8sTnaXZh"
      },
      "source": [
        "FIM !!!"
      ]
    }
  ]
}