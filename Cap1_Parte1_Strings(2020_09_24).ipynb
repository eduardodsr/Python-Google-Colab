{
  "nbformat": 4,
  "nbformat_minor": 0,
  "metadata": {
    "colab": {
      "name": "Cap1_Parte1_Strings(2020-09-24).ipynb",
      "provenance": [],
      "collapsed_sections": [],
      "authorship_tag": "ABX9TyPjdQhVQUCBQnxd20E0wt9N",
      "include_colab_link": true
    },
    "kernelspec": {
      "name": "python3",
      "display_name": "Python 3"
    }
  },
  "cells": [
    {
      "cell_type": "markdown",
      "metadata": {
        "id": "view-in-github",
        "colab_type": "text"
      },
      "source": [
        "<a href=\"https://colab.research.google.com/github/eduardodsr/Python-Google-Colab/blob/master/Cap1_Parte1_Strings(2020_09_24).ipynb\" target=\"_parent\"><img src=\"https://colab.research.google.com/assets/colab-badge.svg\" alt=\"Open In Colab\"/></a>"
      ]
    },
    {
      "cell_type": "markdown",
      "metadata": {
        "id": "lvBSrjt94FuT",
        "colab_type": "text"
      },
      "source": [
        "# 06 CAP 1 PYT-mod4 aula 3.1 Strings\n",
        "# 07 CAP 1 PYT-mod4 aula 3.2 Strings\n",
        "# 08 CAP 1 PYT-mod4 aula 3.3 Strings\n",
        "# 09 CAP 1 PYT-mod4 aula 3.4 Strings"
      ]
    },
    {
      "cell_type": "code",
      "metadata": {
        "id": "5F0thZ443xJE",
        "colab_type": "code",
        "colab": {
          "base_uri": "https://localhost:8080/",
          "height": 34
        },
        "outputId": "bd5bc257-bcad-4b56-87d3-71256cbf710d"
      },
      "source": [
        "nome = 'Eduardo, de idade {} anos, pesa {} quilos.'\n",
        "idade = 18\n",
        "peso = 81.5\n",
        "print(nome.format(idade, peso))"
      ],
      "execution_count": null,
      "outputs": [
        {
          "output_type": "stream",
          "text": [
            "Eduardo, de idade 18 anos, pesa 81.5 quilos.\n"
          ],
          "name": "stdout"
        }
      ]
    },
    {
      "cell_type": "code",
      "metadata": {
        "id": "_nVkgqDr4xnE",
        "colab_type": "code",
        "colab": {
          "base_uri": "https://localhost:8080/",
          "height": 52
        },
        "outputId": "dbacf41c-642c-4617-e442-8e7c13f0156d"
      },
      "source": [
        "nome = input('Digite o seu nome: ')\n",
        "print(nome)"
      ],
      "execution_count": null,
      "outputs": [
        {
          "output_type": "stream",
          "text": [
            "Digite o seu nome: Eduardo da Silva Rodrigues\n",
            "Eduardo da Silva Rodrigues\n"
          ],
          "name": "stdout"
        }
      ]
    },
    {
      "cell_type": "code",
      "metadata": {
        "id": "LhlAFbxV5HTn",
        "colab_type": "code",
        "colab": {
          "base_uri": "https://localhost:8080/",
          "height": 87
        },
        "outputId": "8a77ee4a-35dc-43dc-9900-e612b7047a45"
      },
      "source": [
        "print('Preencha os seus dados para o seu passaporte')\n",
        "nome = input('Nome: ')\n",
        "sobrenome = input('Sobrenome: ')\n",
        "print('Passaporte - Sobrenome: {}, Nome: {}.'.format(sobrenome, nome))"
      ],
      "execution_count": null,
      "outputs": [
        {
          "output_type": "stream",
          "text": [
            "Preencha os seus dados para o seu passaporte\n",
            "Nome: Eduardo\n",
            "Sobrenome: Rodrigues\n",
            "Passaporte - Sobrenome: Rodrigues, Nome: Eduardo.\n"
          ],
          "name": "stdout"
        }
      ]
    },
    {
      "cell_type": "code",
      "metadata": {
        "id": "landqkj_7D7T",
        "colab_type": "code",
        "colab": {
          "base_uri": "https://localhost:8080/",
          "height": 70
        },
        "outputId": "4270fe1a-88f3-4c8f-e43d-3dd81265fc43"
      },
      "source": [
        "nome = input('Nome: ')\n",
        "sobrenome = input ('Sobrenome: ')\n",
        "print('Nome: {} - Sobrenome: {}'.format(nome, sobrenome))"
      ],
      "execution_count": null,
      "outputs": [
        {
          "output_type": "stream",
          "text": [
            "Nome: Eduardo\n",
            "Sobrenome: Rodrigues\n",
            "Nome: Eduardo - Sobrenome: Rodrigues\n"
          ],
          "name": "stdout"
        }
      ]
    },
    {
      "cell_type": "code",
      "metadata": {
        "id": "jF49G9VO75Wn",
        "colab_type": "code",
        "colab": {
          "base_uri": "https://localhost:8080/",
          "height": 70
        },
        "outputId": "e102cb6e-57c3-4446-a6c4-c4251bf0205d"
      },
      "source": [
        "# nome.capitalize() - Função que retorna a primeira letra da Str em caixa alta.\n",
        "nome = input('Nome: ')\n",
        "sobrenome = input('Sobrenome: ')\n",
        "print('Nome: {} - Sobrenome: {}'.format(nome.capitalize(), sobrenome.capitalize()))"
      ],
      "execution_count": null,
      "outputs": [
        {
          "output_type": "stream",
          "text": [
            "Nome: eduardo\n",
            "Sobrenome: rodrigues\n",
            "Nome: Eduardo - Sobrenome: Rodrigues\n"
          ],
          "name": "stdout"
        }
      ]
    },
    {
      "cell_type": "code",
      "metadata": {
        "id": "of5v8TQ09XUz",
        "colab_type": "code",
        "colab": {
          "base_uri": "https://localhost:8080/",
          "height": 70
        },
        "outputId": "9f332dd5-edc3-4f61-8caf-e4e7a5de9867"
      },
      "source": [
        "# nome.capitalize() - Função que retorna a primeira letra da Str em caixa alta.\n",
        "nome = input('Nome: ')\n",
        "sobrenome = input('Sobrenome: ')\n",
        "nome = nome.capitalize()\n",
        "sobrenome = sobrenome.capitalize()\n",
        "print('Nome: {} | Sobrenome: {}'.format(nome, sobrenome))"
      ],
      "execution_count": null,
      "outputs": [
        {
          "output_type": "stream",
          "text": [
            "Nome: eduardo\n",
            "Sobrenome: rodrigues\n",
            "Nome: Eduardo | Sobrenome: Rodrigues\n"
          ],
          "name": "stdout"
        }
      ]
    },
    {
      "cell_type": "markdown",
      "metadata": {
        "id": "N1sVOTRz9-wm",
        "colab_type": "text"
      },
      "source": [
        "# concatenação"
      ]
    },
    {
      "cell_type": "code",
      "metadata": {
        "id": "7AGlvkfx-D-c",
        "colab_type": "code",
        "colab": {
          "base_uri": "https://localhost:8080/",
          "height": 87
        },
        "outputId": "e5feafe9-be67-4e45-ede1-37584c707fc3"
      },
      "source": [
        "nome = input('Nome: ')\n",
        "sobrenome = input('Sobrenome: ')\n",
        "print(nome + sobrenome)\n",
        "print(nome + ' ' + sobrenome) # + concatenação"
      ],
      "execution_count": null,
      "outputs": [
        {
          "output_type": "stream",
          "text": [
            "Nome: Eduardo\n",
            "Sobrenome: Rodrigues\n",
            "EduardoRodrigues\n",
            "Eduardo Rodrigues\n"
          ],
          "name": "stdout"
        }
      ]
    },
    {
      "cell_type": "markdown",
      "metadata": {
        "id": "8B9mM0SJOfeT",
        "colab_type": "text"
      },
      "source": [
        "len() - retorna o tamanho da String"
      ]
    },
    {
      "cell_type": "code",
      "metadata": {
        "id": "QWqv4YSh-iTz",
        "colab_type": "code",
        "colab": {
          "base_uri": "https://localhost:8080/",
          "height": 34
        },
        "outputId": "4d7c0167-20de-4d98-f988-3b07f5eaed6d"
      },
      "source": [
        "# len(nome) - A função len() retorna o número de itens.\n",
        "nome = 'Eduardo Rodrigues'\n",
        "print(len(nome))"
      ],
      "execution_count": null,
      "outputs": [
        {
          "output_type": "stream",
          "text": [
            "17\n"
          ],
          "name": "stdout"
        }
      ]
    },
    {
      "cell_type": "code",
      "metadata": {
        "id": "rjA6AElo_JjE",
        "colab_type": "code",
        "colab": {
          "base_uri": "https://localhost:8080/",
          "height": 52
        },
        "outputId": "b0dc6a7d-389b-4b59-ec0a-5b63481cc50d"
      },
      "source": [
        "# len(nome) - A função len() retorna o número de itens.\n",
        "nome = input('Digite o seu nome: ')\n",
        "tamanho_nome = len(nome)\n",
        "print('O tamanho do nome: {} itens.'.format(tamanho_nome))"
      ],
      "execution_count": null,
      "outputs": [
        {
          "output_type": "stream",
          "text": [
            "Digite o seu nome: eduardo rodrigues\n",
            "O tamanho do nome: 17 itens.\n"
          ],
          "name": "stdout"
        }
      ]
    },
    {
      "cell_type": "markdown",
      "metadata": {
        "id": "Cu9wbd0nAxQX",
        "colab_type": "text"
      },
      "source": [
        "# split() criar um lista separada com os itens da str.\n",
        "\n",
        "---\n",
        "\n"
      ]
    },
    {
      "cell_type": "code",
      "metadata": {
        "id": "hw-Y3gJmA3MH",
        "colab_type": "code",
        "colab": {
          "base_uri": "https://localhost:8080/",
          "height": 52
        },
        "outputId": "1c0a9861-bed1-45b3-c32a-f144fbf94ac2"
      },
      "source": [
        "# S.split(sep=None, maxsplit=-1) -> list of strings \n",
        "# Return a list of the words in S, using sep as the delimiter string. \n",
        "# If maxsplit is given, at most maxsplit splits are done. \n",
        "# If sep is not specified or is None, any whitespace string is a separator and empty strings are removed from the result.\n",
        "nome = 'Joaquim José da Silva Xavier'\n",
        "print(len(nome))\n",
        "print(nome.split())"
      ],
      "execution_count": null,
      "outputs": [
        {
          "output_type": "stream",
          "text": [
            "28\n",
            "['Joaquim', 'José', 'da', 'Silva', 'Xavier']\n"
          ],
          "name": "stdout"
        }
      ]
    },
    {
      "cell_type": "code",
      "metadata": {
        "id": "HkcJGK9GBwil",
        "colab_type": "code",
        "colab": {
          "base_uri": "https://localhost:8080/",
          "height": 123
        },
        "outputId": "fc6b8183-1c26-47b0-d0ea-848720a02b89"
      },
      "source": [
        "# split() - função separadora de string\n",
        "# Exemplo de Lista\n",
        "nome = 'Joaquim José da Silva Xavier'\n",
        "nome_divido = nome.split()\n",
        "print(nome_divido)\n",
        "print(nome_divido[0]) # Joaquim\n",
        "print(nome_divido[1]) # José\n",
        "print(nome_divido[2]) # da\n",
        "print(nome_divido[3]) # Silva\n",
        "print(nome_divido[4]) # Xavier\n",
        "# print(nome_divido[5]) # IndexError: list index out of range"
      ],
      "execution_count": null,
      "outputs": [
        {
          "output_type": "stream",
          "text": [
            "['Joaquim', 'José', 'da', 'Silva', 'Xavier']\n",
            "Joaquim\n",
            "José\n",
            "da\n",
            "Silva\n",
            "Xavier\n"
          ],
          "name": "stdout"
        }
      ]
    },
    {
      "cell_type": "code",
      "metadata": {
        "id": "6f__La0ADCOW",
        "colab_type": "code",
        "colab": {
          "base_uri": "https://localhost:8080/",
          "height": 34
        },
        "outputId": "bbabfb7c-2d10-4b27-81eb-05945b489ca7"
      },
      "source": [
        "# Exemplo de Lista\n",
        "nome = 'Joaquim José da Silva Xavier'\n",
        "nome_divido = nome.split()\n",
        "print('Primeiro nome: {} - Sobrenome: {}'.format(nome_divido[0], nome_divido[-1]))"
      ],
      "execution_count": null,
      "outputs": [
        {
          "output_type": "stream",
          "text": [
            "Primeiro nome: Joaquim - Sobrenome: Xavier\n"
          ],
          "name": "stdout"
        }
      ]
    },
    {
      "cell_type": "markdown",
      "metadata": {
        "id": "B_If6dMTGJRD",
        "colab_type": "text"
      },
      "source": [
        "Exemplos de posições dos indices da string nome"
      ]
    },
    {
      "cell_type": "code",
      "metadata": {
        "id": "QVDury3_GQNu",
        "colab_type": "code",
        "colab": {
          "base_uri": "https://localhost:8080/",
          "height": 87
        },
        "outputId": "bb592c12-fb0f-46ad-dd19-98f95233afd0"
      },
      "source": [
        "nome = 'Joaquim José da Silva Xavier'\n",
        "primeiro_nome = nome[0:7]\n",
        "print('Lista as 8 primeiras posições da string nome:')\n",
        "print(primeiro_nome)\n",
        "print('Lista as 6 ultimas posiçõs da string nome:')\n",
        "ultimo_nome = nome[-6:]\n",
        "print(ultimo_nome)\n"
      ],
      "execution_count": null,
      "outputs": [
        {
          "output_type": "stream",
          "text": [
            "Lista as 8 primeiras posições da string nome:\n",
            "Joaquim\n",
            "Lista as 6 ultimas posiçõs da string nome:\n",
            "Xavier\n"
          ],
          "name": "stdout"
        }
      ]
    },
    {
      "cell_type": "code",
      "metadata": {
        "id": "ykysaJsqJ28V",
        "colab_type": "code",
        "colab": {
          "base_uri": "https://localhost:8080/",
          "height": 70
        },
        "outputId": "a33cd2dc-3549-46fe-bf4f-042401d7a20c"
      },
      "source": [
        "nome = input('Digite o seu nome: ')\n",
        "tamanho_nome = len(nome)\n",
        "print('O nome digitado tem {} letras.'.format(tamanho_nome))\n",
        "print('Infelizmente é gravado somente as 20 primeiras letras. Será gravado: \"{}\" '.format(nome[0:20]))"
      ],
      "execution_count": null,
      "outputs": [
        {
          "output_type": "stream",
          "text": [
            "Digite o seu nome: Joaquim José da Silva Xavier\n",
            "O nome digitado tem 28 letras.\n",
            "Infelizmente é gravado somente as 20 primeiras letras. Será gravado: \"Joaquim José da Silv\" \n"
          ],
          "name": "stdout"
        }
      ]
    },
    {
      "cell_type": "code",
      "metadata": {
        "id": "c1uIkDFTMC3E",
        "colab_type": "code",
        "colab": {
          "base_uri": "https://localhost:8080/",
          "height": 70
        },
        "outputId": "036fea2e-9be5-4a7f-97f8-183c09bfa770"
      },
      "source": [
        "# index () - Ex. Encontrar o primeiro espaço em branco do nome.\n",
        "nome = input('Digite o seu nome: ')\n",
        "tamanho_nome = len(nome)\n",
        "primeiro_espaco = nome.index(' ')\n",
        "print('Retorna o primeiro nome da string nome: ')\n",
        "print(primeiro_nome)\n"
      ],
      "execution_count": null,
      "outputs": [
        {
          "output_type": "stream",
          "text": [
            "Digite o seu nome: Joaquim José da Silva Xavier\n",
            "Retorna o primeiro nome da string nome: \n",
            "Joaquim\n"
          ],
          "name": "stdout"
        }
      ]
    },
    {
      "cell_type": "code",
      "metadata": {
        "id": "5tt9lofBNTq9",
        "colab_type": "code",
        "colab": {
          "base_uri": "https://localhost:8080/",
          "height": 52
        },
        "outputId": "f74dc95e-95b7-49d0-cae8-32bdddddde36"
      },
      "source": [
        "frase = '    Esta é um frase de teste.    '\n",
        "print(frase)\n",
        "print('*{}*'.format(frase)) # Encontrar os espaços em branco da frase"
      ],
      "execution_count": null,
      "outputs": [
        {
          "output_type": "stream",
          "text": [
            "    Esta é um frase de teste.    \n",
            "*    Esta é um frase de teste.    *\n"
          ],
          "name": "stdout"
        }
      ]
    },
    {
      "cell_type": "code",
      "metadata": {
        "id": "cwNxDok2PQhn",
        "colab_type": "code",
        "colab": {}
      },
      "source": [
        "# strip() retira o espaço em branco de uma str\n",
        "frase ='    Esta é uma str de teste com 4 espaços no inicio e fim   '\n",
        "frase = frase.strip() # remove todos os caracteres em branco do inicio e fim da frase\n",
        "print('*{}*'.format(frase))\n",
        "\n",
        "# frase_remove_espaco_esquerda = frase.lstrip()\n",
        "# frase_remove_espaco_direita = frase.rstrip()\n",
        "# print('*{}*'.format(frase_remove_espaco_esquerda))\n",
        "# print('*{}*'.format(frase_remove_espaco_direita))"
      ],
      "execution_count": null,
      "outputs": []
    },
    {
      "cell_type": "code",
      "metadata": {
        "id": "pJMp2FwpPooM",
        "colab_type": "code",
        "colab": {
          "base_uri": "https://localhost:8080/",
          "height": 34
        },
        "outputId": "49ac7707-944a-4481-fa02-5b6225c255bc"
      },
      "source": [
        "frase = '    Esta é um frase de teste.    '\n",
        "frase = frase.strip() # remove todos os caracteres em branco do inicio e fim da frase\n",
        "print('*{}*'.format(frase))"
      ],
      "execution_count": null,
      "outputs": [
        {
          "output_type": "stream",
          "text": [
            "*Esta é um frase de teste.*\n"
          ],
          "name": "stdout"
        }
      ]
    },
    {
      "cell_type": "code",
      "metadata": {
        "id": "1UsThRTVQoVm",
        "colab_type": "code",
        "colab": {
          "base_uri": "https://localhost:8080/",
          "height": 34
        },
        "outputId": "093fdd49-ceb1-43d6-fe05-0c3cc4c5068a"
      },
      "source": [
        "frase = '----Esta é um frase de teste.----'\n",
        "frase = frase.strip('-') # remove todos os caracteres selecionados do inicio e fim da frase\n",
        "print('*{}*'.format(frase))"
      ],
      "execution_count": null,
      "outputs": [
        {
          "output_type": "stream",
          "text": [
            "*Esta é um frase de teste.*\n"
          ],
          "name": "stdout"
        }
      ]
    },
    {
      "cell_type": "code",
      "metadata": {
        "id": "vjTPUCr6RE74",
        "colab_type": "code",
        "colab": {
          "base_uri": "https://localhost:8080/",
          "height": 52
        },
        "outputId": "4988a380-65a4-4876-962f-465cb95e54b5"
      },
      "source": [
        "frase = '----Esta é um frase de teste.    '\n",
        "print(frase)\n",
        "frase = frase.strip('-').strip(' ') # remove todos os caracteres selecionados do inicio e fim da frase\n",
        "print('*{}*'.format(frase))"
      ],
      "execution_count": null,
      "outputs": [
        {
          "output_type": "stream",
          "text": [
            "----Esta é um frase de teste.    \n",
            "*Esta é um frase de teste.*\n"
          ],
          "name": "stdout"
        }
      ]
    },
    {
      "cell_type": "markdown",
      "metadata": {
        "id": "4YK01xTJR8U-",
        "colab_type": "text"
      },
      "source": [
        "# isalpha() verifica se é alfanumerico. Retorna Bolean (True or False)"
      ]
    },
    {
      "cell_type": "code",
      "metadata": {
        "id": "hR6gnHNSRdIa",
        "colab_type": "code",
        "colab": {
          "base_uri": "https://localhost:8080/",
          "height": 34
        },
        "outputId": "841d23e0-0f13-41e2-868d-4a9a5bf03e54"
      },
      "source": [
        "idade='dezanos'\n",
        "print(idade.isalpha())  "
      ],
      "execution_count": null,
      "outputs": [
        {
          "output_type": "stream",
          "text": [
            "True\n"
          ],
          "name": "stdout"
        }
      ]
    },
    {
      "cell_type": "code",
      "metadata": {
        "id": "D2IIjZilSWCH",
        "colab_type": "code",
        "colab": {
          "base_uri": "https://localhost:8080/",
          "height": 52
        },
        "outputId": "1e993688-a920-4a9e-e316-5f16d8ca0d8a"
      },
      "source": [
        "idade = 10  # int\n",
        "print(idade)\n",
        "type(idade)"
      ],
      "execution_count": null,
      "outputs": [
        {
          "output_type": "stream",
          "text": [
            "10\n"
          ],
          "name": "stdout"
        },
        {
          "output_type": "execute_result",
          "data": {
            "text/plain": [
              "int"
            ]
          },
          "metadata": {
            "tags": []
          },
          "execution_count": 82
        }
      ]
    },
    {
      "cell_type": "code",
      "metadata": {
        "id": "1UMjvqcCSbVZ",
        "colab_type": "code",
        "colab": {
          "base_uri": "https://localhost:8080/",
          "height": 52
        },
        "outputId": "d4b980a9-9a28-4f7d-8fee-d40a70a12a21"
      },
      "source": [
        "idade = '10'  # str\n",
        "print(idade)\n",
        "type(idade)"
      ],
      "execution_count": null,
      "outputs": [
        {
          "output_type": "stream",
          "text": [
            "10\n"
          ],
          "name": "stdout"
        },
        {
          "output_type": "execute_result",
          "data": {
            "text/plain": [
              "str"
            ]
          },
          "metadata": {
            "tags": []
          },
          "execution_count": 84
        }
      ]
    },
    {
      "cell_type": "code",
      "metadata": {
        "id": "gUl72Cy_SxCT",
        "colab_type": "code",
        "colab": {
          "base_uri": "https://localhost:8080/",
          "height": 52
        },
        "outputId": "6c78de00-b3c6-4192-ad25-5a2754eaa337"
      },
      "source": [
        "peso = float(input('Digite o seu peso: '))\n",
        "print(type(peso))"
      ],
      "execution_count": null,
      "outputs": [
        {
          "output_type": "stream",
          "text": [
            "Digite o seu peso: 80.5\n",
            "<class 'float'>\n"
          ],
          "name": "stdout"
        }
      ]
    },
    {
      "cell_type": "code",
      "metadata": {
        "id": "s3Cwg8t5UKZX",
        "colab_type": "code",
        "colab": {
          "base_uri": "https://localhost:8080/",
          "height": 70
        },
        "outputId": "06eede06-6136-454a-ddfc-10158a9ab033"
      },
      "source": [
        "peso = input('Qual é o seu peso: ')\n",
        "peso_dividido = peso.split('.')\n",
        "print(peso_dividido[0].isdigit())\n",
        "print(peso_dividido[1].isdigit())"
      ],
      "execution_count": null,
      "outputs": [
        {
          "output_type": "stream",
          "text": [
            "Qual é o seu peso: 80.5\n",
            "True\n",
            "True\n"
          ],
          "name": "stdout"
        }
      ]
    }
  ]
}