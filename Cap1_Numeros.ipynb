{
  "nbformat": 4,
  "nbformat_minor": 0,
  "metadata": {
    "colab": {
      "name": "Cap1_Numeros.ipynb",
      "provenance": [],
      "authorship_tag": "ABX9TyNgoa/99c8KMkUNeAx8BBOP",
      "include_colab_link": true
    },
    "kernelspec": {
      "name": "python3",
      "display_name": "Python 3"
    }
  },
  "cells": [
    {
      "cell_type": "markdown",
      "metadata": {
        "id": "view-in-github",
        "colab_type": "text"
      },
      "source": [
        "<a href=\"https://colab.research.google.com/github/eduardodsr/Python-Google-Colab/blob/master/Cap1_Numeros.ipynb\" target=\"_parent\"><img src=\"https://colab.research.google.com/assets/colab-badge.svg\" alt=\"Open In Colab\"/></a>"
      ]
    },
    {
      "cell_type": "code",
      "metadata": {
        "id": "ziVPcVGfvsc1",
        "colab_type": "code",
        "colab": {
          "base_uri": "https://localhost:8080/",
          "height": 51
        },
        "outputId": "58779b03-07bb-4ed4-a31d-6c20c58f26c2"
      },
      "source": [
        "idade = 10  # int\n",
        "print(idade)\n",
        "type(idade)"
      ],
      "execution_count": null,
      "outputs": [
        {
          "output_type": "stream",
          "text": [
            "10\n"
          ],
          "name": "stdout"
        },
        {
          "output_type": "execute_result",
          "data": {
            "text/plain": [
              "int"
            ]
          },
          "metadata": {
            "tags": []
          },
          "execution_count": 1
        }
      ]
    },
    {
      "cell_type": "code",
      "metadata": {
        "id": "R3hqRPsSwXpA",
        "colab_type": "code",
        "colab": {
          "base_uri": "https://localhost:8080/",
          "height": 51
        },
        "outputId": "2f0ed163-ce4b-45db-adbe-c2b210e531b6"
      },
      "source": [
        "idade = 18\n",
        "print(idade)\n",
        "type(idade)"
      ],
      "execution_count": null,
      "outputs": [
        {
          "output_type": "stream",
          "text": [
            "18\n"
          ],
          "name": "stdout"
        },
        {
          "output_type": "execute_result",
          "data": {
            "text/plain": [
              "int"
            ]
          },
          "metadata": {
            "tags": []
          },
          "execution_count": 9
        }
      ]
    },
    {
      "cell_type": "code",
      "metadata": {
        "id": "9BXAtw8Qwmh7",
        "colab_type": "code",
        "colab": {
          "base_uri": "https://localhost:8080/",
          "height": 51
        },
        "outputId": "8ba86303-97eb-4abe-8654-2867548c7f7b"
      },
      "source": [
        "peso = 80.90\n",
        "print(peso)\n",
        "type(peso)"
      ],
      "execution_count": null,
      "outputs": [
        {
          "output_type": "stream",
          "text": [
            "80.9\n"
          ],
          "name": "stdout"
        },
        {
          "output_type": "execute_result",
          "data": {
            "text/plain": [
              "float"
            ]
          },
          "metadata": {
            "tags": []
          },
          "execution_count": 10
        }
      ]
    },
    {
      "cell_type": "code",
      "metadata": {
        "id": "I1vDDCYxxNe7",
        "colab_type": "code",
        "colab": {
          "base_uri": "https://localhost:8080/",
          "height": 51
        },
        "outputId": "2aa63045-816a-4a6f-b1c8-967dfbd01524"
      },
      "source": [
        "preco_arroz=4.99  # float\n",
        "quilos=10         # int\n",
        "print(preco_arroz*quilos) # float * int = retorna o resultado em float\n",
        "print('Valor Arredondado: ',round(preco_arroz*quilos))"
      ],
      "execution_count": 9,
      "outputs": [
        {
          "output_type": "stream",
          "text": [
            "49.900000000000006\n",
            "Valor Arredondado:  50\n"
          ],
          "name": "stdout"
        }
      ]
    },
    {
      "cell_type": "code",
      "metadata": {
        "id": "d1chGWfHclW2",
        "colab_type": "code",
        "colab": {
          "base_uri": "https://localhost:8080/",
          "height": 51
        },
        "outputId": "b6d5bb96-0e46-489a-b1fc-245a4224d232"
      },
      "source": [
        "# round() Arredondamento do numero\n",
        "numero = float(input('Numero original: '))\n",
        "print('Numero arredondado :', round(numero))"
      ],
      "execution_count": 5,
      "outputs": [
        {
          "output_type": "stream",
          "text": [
            "Numero original: 80.90\n",
            "Numero arredondado : 81\n"
          ],
          "name": "stdout"
        }
      ]
    },
    {
      "cell_type": "code",
      "metadata": {
        "id": "GSLQwauXdLP4",
        "colab_type": "code",
        "colab": {
          "base_uri": "https://localhost:8080/",
          "height": 34
        },
        "outputId": "f535a3d6-cd90-4ec8-bac4-4c5b0d4e8823"
      },
      "source": [
        "# round() Arredondamento do numero\n",
        "print(round(1.2),round(1.5),round(2.8))"
      ],
      "execution_count": 7,
      "outputs": [
        {
          "output_type": "stream",
          "text": [
            "1 2 3\n"
          ],
          "name": "stdout"
        }
      ]
    },
    {
      "cell_type": "code",
      "metadata": {
        "id": "8ryQ5tYJent4",
        "colab_type": "code",
        "colab": {
          "base_uri": "https://localhost:8080/",
          "height": 51
        },
        "outputId": "a2465e96-cc89-457a-cd13-27c66d8a5a24"
      },
      "source": [
        "# round() Arredondamento do numero\n",
        "# round(1.847, ndigits=2) Arredondamento do numero selecionado pelo valor de ndigits(numero de digitos)\n",
        "\n",
        "ndigits2 = round(1.847, ndigits=2)\n",
        "ndigits1 = round(1.847, ndigits=1)\n",
        "print(ndigits2)\n",
        "print(ndigits1)"
      ],
      "execution_count": 13,
      "outputs": [
        {
          "output_type": "stream",
          "text": [
            "1.85\n",
            "1.8\n"
          ],
          "name": "stdout"
        }
      ]
    },
    {
      "cell_type": "code",
      "metadata": {
        "id": "95KMR863yve9",
        "colab_type": "code",
        "colab": {
          "base_uri": "https://localhost:8080/",
          "height": 85
        },
        "outputId": "728017d1-52f3-49d1-ae0e-bf80c4e4af2b"
      },
      "source": [
        "# Programa para calcular o IMC\n",
        "# IMC - Índice de Massa Corporal\n",
        "# Fórmula: peso/(altura**2)\n",
        "\n",
        "# input() retorna por padrão sempre uma str (string)\n",
        "\n",
        "peso=input('Digite o seu peso (int): ')\n",
        "peso=int(peso) # Converte o peso para inteiro\n",
        "print(type(peso)) \n",
        "\n",
        "altura= input('Digite a sua altura (cm): ')\n",
        "altura=int(altura) # Converte a altura para inteiro\n",
        "print(type(altura))"
      ],
      "execution_count": null,
      "outputs": [
        {
          "output_type": "stream",
          "text": [
            "Digite o seu peso (int): 90\n",
            "<class 'int'>\n",
            "Digite a sua altura (cm): 180\n",
            "<class 'int'>\n"
          ],
          "name": "stdout"
        }
      ]
    },
    {
      "cell_type": "code",
      "metadata": {
        "id": "1S0qM2Z81XqZ",
        "colab_type": "code",
        "colab": {
          "base_uri": "https://localhost:8080/",
          "height": 68
        },
        "outputId": "fe85db15-823e-411a-d719-f21e4e79096b"
      },
      "source": [
        "# input() retorna por padrão sempre uma str (string)\n",
        "\n",
        "peso = input('Digite o seu peso: ')\n",
        "peso = float(peso) # Converte o peso para float\n",
        "# print(type(peso)) \n",
        "\n",
        "altura = input('Digite a sua altura(ex. 1.85): ')\n",
        "altura =float(altura) # Converteu a altura para float\n",
        "# print(type(altura))\n",
        "\n",
        "# imc = (peso/(altura**2))\n",
        "# print('O seu IMC é',imc)                # IMC sem Arredondamento\n",
        "\n",
        "imc = round(peso/(altura**2))\n",
        "print('O seu IMC é {}.'.format(imc))  # IMC com Arredondamento\n"
      ],
      "execution_count": 30,
      "outputs": [
        {
          "output_type": "stream",
          "text": [
            "Digite o seu peso: 120\n",
            "Digite a sua altura(ex. 1.85): 1.8\n",
            "O seu IMC é 37.\n"
          ],
          "name": "stdout"
        }
      ]
    }
  ]
}